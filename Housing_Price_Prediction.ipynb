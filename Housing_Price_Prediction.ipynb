{
 "cells": [
  {
   "cell_type": "code",
   "execution_count": 1,
   "metadata": {},
   "outputs": [],
   "source": [
    "import pandas as pd\n",
    "import numpy as np\n",
    "import seaborn as sns\n",
    "import matplotlib as mpl\n",
    "import matplotlib.pyplot as plt\n",
    "\n",
    "from sklearn.neighbors import KNeighborsRegressor\n",
    "from sklearn.linear_model import LinearRegression\n",
    "from sklearn.linear_model import Ridge\n",
    "from sklearn.linear_model import Lasso\n",
    "from sklearn.preprocessing import PolynomialFeatures\n",
    "from sklearn.preprocessing import StandardScaler\n",
    "from sklearn.preprocessing import MinMaxScaler\n",
    "from sklearn.model_selection import train_test_split\n",
    "from sklearn.svm import SVR\n",
    "from sklearn.svm import LinearSVR\n",
    "from sklearn.model_selection import GridSearchCV"
   ]
  },
  {
   "cell_type": "code",
   "execution_count": 2,
   "metadata": {},
   "outputs": [],
   "source": [
    "from IPython.core.interactiveshell import InteractiveShell\n",
    "InteractiveShell.ast_node_interactivity = \"all\"\n",
    "\n",
    "from sklearn.utils.testing import ignore_warnings\n",
    "from sklearn.exceptions import ConvergenceWarning"
   ]
  },
  {
   "cell_type": "code",
   "execution_count": 3,
   "metadata": {},
   "outputs": [
    {
     "data": {
      "text/html": [
       "<div>\n",
       "<style scoped>\n",
       "    .dataframe tbody tr th:only-of-type {\n",
       "        vertical-align: middle;\n",
       "    }\n",
       "\n",
       "    .dataframe tbody tr th {\n",
       "        vertical-align: top;\n",
       "    }\n",
       "\n",
       "    .dataframe thead th {\n",
       "        text-align: right;\n",
       "    }\n",
       "</style>\n",
       "<table border=\"1\" class=\"dataframe\">\n",
       "  <thead>\n",
       "    <tr style=\"text-align: right;\">\n",
       "      <th></th>\n",
       "      <th>id</th>\n",
       "      <th>date</th>\n",
       "      <th>price</th>\n",
       "      <th>bedrooms</th>\n",
       "      <th>bathrooms</th>\n",
       "      <th>sqft_living</th>\n",
       "      <th>sqft_lot</th>\n",
       "      <th>floors</th>\n",
       "      <th>waterfront</th>\n",
       "      <th>view</th>\n",
       "      <th>...</th>\n",
       "      <th>sqft_above</th>\n",
       "      <th>sqft_basement</th>\n",
       "      <th>yr_built</th>\n",
       "      <th>yr_renovated</th>\n",
       "      <th>zipcode</th>\n",
       "      <th>lat</th>\n",
       "      <th>long</th>\n",
       "      <th>sqft_living15</th>\n",
       "      <th>sqft_lot15</th>\n",
       "      <th>age_building</th>\n",
       "    </tr>\n",
       "  </thead>\n",
       "  <tbody>\n",
       "    <tr>\n",
       "      <td>0</td>\n",
       "      <td>7129300520</td>\n",
       "      <td>10/13/2014</td>\n",
       "      <td>221900.0</td>\n",
       "      <td>3.0</td>\n",
       "      <td>1.0</td>\n",
       "      <td>1180</td>\n",
       "      <td>5650.0</td>\n",
       "      <td>1.0</td>\n",
       "      <td>0.0</td>\n",
       "      <td>0.0</td>\n",
       "      <td>...</td>\n",
       "      <td>1180</td>\n",
       "      <td>0.0</td>\n",
       "      <td>1955</td>\n",
       "      <td>0</td>\n",
       "      <td>98178</td>\n",
       "      <td>47.5112</td>\n",
       "      <td>-122.257</td>\n",
       "      <td>1340</td>\n",
       "      <td>5650</td>\n",
       "      <td>65</td>\n",
       "    </tr>\n",
       "    <tr>\n",
       "      <td>1</td>\n",
       "      <td>6414100192</td>\n",
       "      <td>12/9/2014</td>\n",
       "      <td>538000.0</td>\n",
       "      <td>3.0</td>\n",
       "      <td>NaN</td>\n",
       "      <td>2570</td>\n",
       "      <td>NaN</td>\n",
       "      <td>2.0</td>\n",
       "      <td>0.0</td>\n",
       "      <td>NaN</td>\n",
       "      <td>...</td>\n",
       "      <td>2170</td>\n",
       "      <td>400.0</td>\n",
       "      <td>1951</td>\n",
       "      <td>1991</td>\n",
       "      <td>98125</td>\n",
       "      <td>47.7210</td>\n",
       "      <td>NaN</td>\n",
       "      <td>1690</td>\n",
       "      <td>7639</td>\n",
       "      <td>69</td>\n",
       "    </tr>\n",
       "    <tr>\n",
       "      <td>2</td>\n",
       "      <td>5631500400</td>\n",
       "      <td>2/25/2015</td>\n",
       "      <td>180000.0</td>\n",
       "      <td>NaN</td>\n",
       "      <td>1.0</td>\n",
       "      <td>770</td>\n",
       "      <td>10000.0</td>\n",
       "      <td>1.0</td>\n",
       "      <td>0.0</td>\n",
       "      <td>NaN</td>\n",
       "      <td>...</td>\n",
       "      <td>770</td>\n",
       "      <td>NaN</td>\n",
       "      <td>1933</td>\n",
       "      <td>0</td>\n",
       "      <td>98028</td>\n",
       "      <td>47.7379</td>\n",
       "      <td>NaN</td>\n",
       "      <td>2720</td>\n",
       "      <td>8062</td>\n",
       "      <td>87</td>\n",
       "    </tr>\n",
       "    <tr>\n",
       "      <td>3</td>\n",
       "      <td>2487200875</td>\n",
       "      <td>12/9/2014</td>\n",
       "      <td>604000.0</td>\n",
       "      <td>4.0</td>\n",
       "      <td>NaN</td>\n",
       "      <td>1960</td>\n",
       "      <td>5000.0</td>\n",
       "      <td>NaN</td>\n",
       "      <td>0.0</td>\n",
       "      <td>0.0</td>\n",
       "      <td>...</td>\n",
       "      <td>1050</td>\n",
       "      <td>910.0</td>\n",
       "      <td>1965</td>\n",
       "      <td>0</td>\n",
       "      <td>98136</td>\n",
       "      <td>NaN</td>\n",
       "      <td>NaN</td>\n",
       "      <td>1360</td>\n",
       "      <td>5000</td>\n",
       "      <td>55</td>\n",
       "    </tr>\n",
       "    <tr>\n",
       "      <td>4</td>\n",
       "      <td>1954400510</td>\n",
       "      <td>2/18/2015</td>\n",
       "      <td>510000.0</td>\n",
       "      <td>NaN</td>\n",
       "      <td>2.0</td>\n",
       "      <td>1680</td>\n",
       "      <td>8080.0</td>\n",
       "      <td>1.0</td>\n",
       "      <td>0.0</td>\n",
       "      <td>NaN</td>\n",
       "      <td>...</td>\n",
       "      <td>1680</td>\n",
       "      <td>0.0</td>\n",
       "      <td>1987</td>\n",
       "      <td>0</td>\n",
       "      <td>98074</td>\n",
       "      <td>NaN</td>\n",
       "      <td>NaN</td>\n",
       "      <td>1800</td>\n",
       "      <td>7503</td>\n",
       "      <td>33</td>\n",
       "    </tr>\n",
       "  </tbody>\n",
       "</table>\n",
       "<p>5 rows × 22 columns</p>\n",
       "</div>"
      ],
      "text/plain": [
       "           id        date     price  bedrooms  bathrooms  sqft_living  \\\n",
       "0  7129300520  10/13/2014  221900.0       3.0        1.0         1180   \n",
       "1  6414100192   12/9/2014  538000.0       3.0        NaN         2570   \n",
       "2  5631500400   2/25/2015  180000.0       NaN        1.0          770   \n",
       "3  2487200875   12/9/2014  604000.0       4.0        NaN         1960   \n",
       "4  1954400510   2/18/2015  510000.0       NaN        2.0         1680   \n",
       "\n",
       "   sqft_lot  floors  waterfront  view  ...  sqft_above  sqft_basement  \\\n",
       "0    5650.0     1.0         0.0   0.0  ...        1180            0.0   \n",
       "1       NaN     2.0         0.0   NaN  ...        2170          400.0   \n",
       "2   10000.0     1.0         0.0   NaN  ...         770            NaN   \n",
       "3    5000.0     NaN         0.0   0.0  ...        1050          910.0   \n",
       "4    8080.0     1.0         0.0   NaN  ...        1680            0.0   \n",
       "\n",
       "   yr_built  yr_renovated  zipcode      lat     long  sqft_living15  \\\n",
       "0      1955             0    98178  47.5112 -122.257           1340   \n",
       "1      1951          1991    98125  47.7210      NaN           1690   \n",
       "2      1933             0    98028  47.7379      NaN           2720   \n",
       "3      1965             0    98136      NaN      NaN           1360   \n",
       "4      1987             0    98074      NaN      NaN           1800   \n",
       "\n",
       "   sqft_lot15  age_building  \n",
       "0        5650            65  \n",
       "1        7639            69  \n",
       "2        8062            87  \n",
       "3        5000            55  \n",
       "4        7503            33  \n",
       "\n",
       "[5 rows x 22 columns]"
      ]
     },
     "execution_count": 3,
     "metadata": {},
     "output_type": "execute_result"
    }
   ],
   "source": [
    "df = pd.read_csv(\"HousesalesRegressionDataset.csv\")\n",
    "df.head()"
   ]
  },
  {
   "cell_type": "code",
   "execution_count": 4,
   "metadata": {},
   "outputs": [
    {
     "name": "stdout",
     "output_type": "stream",
     "text": [
      "<class 'pandas.core.frame.DataFrame'>\n",
      "RangeIndex: 21597 entries, 0 to 21596\n",
      "Data columns (total 22 columns):\n",
      "id               21597 non-null int64\n",
      "date             21597 non-null object\n",
      "price            21597 non-null float64\n",
      "bedrooms         20919 non-null float64\n",
      "bathrooms        21029 non-null float64\n",
      "sqft_living      21597 non-null int64\n",
      "sqft_lot         21209 non-null float64\n",
      "floors           21149 non-null float64\n",
      "waterfront       20980 non-null float64\n",
      "view             20587 non-null float64\n",
      "condition        21597 non-null int64\n",
      "grade            21597 non-null int64\n",
      "sqft_above       21597 non-null int64\n",
      "sqft_basement    20618 non-null float64\n",
      "yr_built         21597 non-null int64\n",
      "yr_renovated     21597 non-null int64\n",
      "zipcode          21597 non-null int64\n",
      "lat              20360 non-null float64\n",
      "long             20396 non-null float64\n",
      "sqft_living15    21597 non-null int64\n",
      "sqft_lot15       21597 non-null int64\n",
      "age_building     21597 non-null int64\n",
      "dtypes: float64(10), int64(11), object(1)\n",
      "memory usage: 3.6+ MB\n"
     ]
    }
   ],
   "source": [
    "df.info()"
   ]
  },
  {
   "cell_type": "code",
   "execution_count": 5,
   "metadata": {},
   "outputs": [
    {
     "data": {
      "text/html": [
       "<div>\n",
       "<style scoped>\n",
       "    .dataframe tbody tr th:only-of-type {\n",
       "        vertical-align: middle;\n",
       "    }\n",
       "\n",
       "    .dataframe tbody tr th {\n",
       "        vertical-align: top;\n",
       "    }\n",
       "\n",
       "    .dataframe thead th {\n",
       "        text-align: right;\n",
       "    }\n",
       "</style>\n",
       "<table border=\"1\" class=\"dataframe\">\n",
       "  <thead>\n",
       "    <tr style=\"text-align: right;\">\n",
       "      <th></th>\n",
       "      <th>id</th>\n",
       "      <th>price</th>\n",
       "      <th>bedrooms</th>\n",
       "      <th>bathrooms</th>\n",
       "      <th>sqft_living</th>\n",
       "      <th>sqft_lot</th>\n",
       "      <th>floors</th>\n",
       "      <th>waterfront</th>\n",
       "      <th>view</th>\n",
       "      <th>condition</th>\n",
       "      <th>...</th>\n",
       "      <th>sqft_above</th>\n",
       "      <th>sqft_basement</th>\n",
       "      <th>yr_built</th>\n",
       "      <th>yr_renovated</th>\n",
       "      <th>zipcode</th>\n",
       "      <th>lat</th>\n",
       "      <th>long</th>\n",
       "      <th>sqft_living15</th>\n",
       "      <th>sqft_lot15</th>\n",
       "      <th>age_building</th>\n",
       "    </tr>\n",
       "  </thead>\n",
       "  <tbody>\n",
       "    <tr>\n",
       "      <td>count</td>\n",
       "      <td>2.159700e+04</td>\n",
       "      <td>2.159700e+04</td>\n",
       "      <td>20919.000000</td>\n",
       "      <td>21029.000000</td>\n",
       "      <td>21597.000000</td>\n",
       "      <td>2.120900e+04</td>\n",
       "      <td>21149.000000</td>\n",
       "      <td>20980.000000</td>\n",
       "      <td>20587.000000</td>\n",
       "      <td>21597.000000</td>\n",
       "      <td>...</td>\n",
       "      <td>21597.000000</td>\n",
       "      <td>20618.000000</td>\n",
       "      <td>21597.000000</td>\n",
       "      <td>21597.000000</td>\n",
       "      <td>21597.000000</td>\n",
       "      <td>20360.000000</td>\n",
       "      <td>20396.000000</td>\n",
       "      <td>21597.000000</td>\n",
       "      <td>21597.000000</td>\n",
       "      <td>21597.000000</td>\n",
       "    </tr>\n",
       "    <tr>\n",
       "      <td>mean</td>\n",
       "      <td>4.580474e+09</td>\n",
       "      <td>5.402966e+05</td>\n",
       "      <td>3.374492</td>\n",
       "      <td>2.116066</td>\n",
       "      <td>2080.321850</td>\n",
       "      <td>1.507570e+04</td>\n",
       "      <td>1.495224</td>\n",
       "      <td>0.007579</td>\n",
       "      <td>0.234225</td>\n",
       "      <td>3.409825</td>\n",
       "      <td>...</td>\n",
       "      <td>1788.596842</td>\n",
       "      <td>290.964061</td>\n",
       "      <td>1970.999676</td>\n",
       "      <td>84.464787</td>\n",
       "      <td>98077.951845</td>\n",
       "      <td>47.560337</td>\n",
       "      <td>-122.214237</td>\n",
       "      <td>1986.620318</td>\n",
       "      <td>12758.283512</td>\n",
       "      <td>49.000324</td>\n",
       "    </tr>\n",
       "    <tr>\n",
       "      <td>std</td>\n",
       "      <td>2.876736e+09</td>\n",
       "      <td>3.673681e+05</td>\n",
       "      <td>0.928669</td>\n",
       "      <td>0.768761</td>\n",
       "      <td>918.106125</td>\n",
       "      <td>4.157822e+04</td>\n",
       "      <td>0.540121</td>\n",
       "      <td>0.086727</td>\n",
       "      <td>0.765734</td>\n",
       "      <td>0.650546</td>\n",
       "      <td>...</td>\n",
       "      <td>827.759761</td>\n",
       "      <td>441.932025</td>\n",
       "      <td>29.375234</td>\n",
       "      <td>401.821438</td>\n",
       "      <td>53.513072</td>\n",
       "      <td>0.138464</td>\n",
       "      <td>0.140859</td>\n",
       "      <td>685.230472</td>\n",
       "      <td>27274.441950</td>\n",
       "      <td>29.375234</td>\n",
       "    </tr>\n",
       "    <tr>\n",
       "      <td>min</td>\n",
       "      <td>1.000102e+06</td>\n",
       "      <td>7.800000e+04</td>\n",
       "      <td>1.000000</td>\n",
       "      <td>0.500000</td>\n",
       "      <td>370.000000</td>\n",
       "      <td>5.200000e+02</td>\n",
       "      <td>1.000000</td>\n",
       "      <td>0.000000</td>\n",
       "      <td>0.000000</td>\n",
       "      <td>1.000000</td>\n",
       "      <td>...</td>\n",
       "      <td>370.000000</td>\n",
       "      <td>0.000000</td>\n",
       "      <td>1900.000000</td>\n",
       "      <td>0.000000</td>\n",
       "      <td>98001.000000</td>\n",
       "      <td>47.155900</td>\n",
       "      <td>-122.519000</td>\n",
       "      <td>399.000000</td>\n",
       "      <td>651.000000</td>\n",
       "      <td>5.000000</td>\n",
       "    </tr>\n",
       "    <tr>\n",
       "      <td>25%</td>\n",
       "      <td>2.123049e+09</td>\n",
       "      <td>3.220000e+05</td>\n",
       "      <td>3.000000</td>\n",
       "      <td>1.750000</td>\n",
       "      <td>1430.000000</td>\n",
       "      <td>5.040000e+03</td>\n",
       "      <td>1.000000</td>\n",
       "      <td>0.000000</td>\n",
       "      <td>0.000000</td>\n",
       "      <td>3.000000</td>\n",
       "      <td>...</td>\n",
       "      <td>1190.000000</td>\n",
       "      <td>0.000000</td>\n",
       "      <td>1951.000000</td>\n",
       "      <td>0.000000</td>\n",
       "      <td>98033.000000</td>\n",
       "      <td>47.472300</td>\n",
       "      <td>-122.329000</td>\n",
       "      <td>1490.000000</td>\n",
       "      <td>5100.000000</td>\n",
       "      <td>23.000000</td>\n",
       "    </tr>\n",
       "    <tr>\n",
       "      <td>50%</td>\n",
       "      <td>3.904930e+09</td>\n",
       "      <td>4.500000e+05</td>\n",
       "      <td>3.000000</td>\n",
       "      <td>2.250000</td>\n",
       "      <td>1910.000000</td>\n",
       "      <td>7.603000e+03</td>\n",
       "      <td>1.500000</td>\n",
       "      <td>0.000000</td>\n",
       "      <td>0.000000</td>\n",
       "      <td>3.000000</td>\n",
       "      <td>...</td>\n",
       "      <td>1560.000000</td>\n",
       "      <td>0.000000</td>\n",
       "      <td>1975.000000</td>\n",
       "      <td>0.000000</td>\n",
       "      <td>98065.000000</td>\n",
       "      <td>47.572050</td>\n",
       "      <td>-122.231000</td>\n",
       "      <td>1840.000000</td>\n",
       "      <td>7620.000000</td>\n",
       "      <td>45.000000</td>\n",
       "    </tr>\n",
       "    <tr>\n",
       "      <td>75%</td>\n",
       "      <td>7.308900e+09</td>\n",
       "      <td>6.450000e+05</td>\n",
       "      <td>4.000000</td>\n",
       "      <td>2.500000</td>\n",
       "      <td>2550.000000</td>\n",
       "      <td>1.065000e+04</td>\n",
       "      <td>2.000000</td>\n",
       "      <td>0.000000</td>\n",
       "      <td>0.000000</td>\n",
       "      <td>4.000000</td>\n",
       "      <td>...</td>\n",
       "      <td>2210.000000</td>\n",
       "      <td>560.000000</td>\n",
       "      <td>1997.000000</td>\n",
       "      <td>0.000000</td>\n",
       "      <td>98118.000000</td>\n",
       "      <td>47.677925</td>\n",
       "      <td>-122.125000</td>\n",
       "      <td>2360.000000</td>\n",
       "      <td>10083.000000</td>\n",
       "      <td>69.000000</td>\n",
       "    </tr>\n",
       "    <tr>\n",
       "      <td>max</td>\n",
       "      <td>9.900000e+09</td>\n",
       "      <td>7.700000e+06</td>\n",
       "      <td>33.000000</td>\n",
       "      <td>8.000000</td>\n",
       "      <td>13540.000000</td>\n",
       "      <td>1.651359e+06</td>\n",
       "      <td>3.500000</td>\n",
       "      <td>1.000000</td>\n",
       "      <td>4.000000</td>\n",
       "      <td>5.000000</td>\n",
       "      <td>...</td>\n",
       "      <td>9410.000000</td>\n",
       "      <td>4820.000000</td>\n",
       "      <td>2015.000000</td>\n",
       "      <td>2015.000000</td>\n",
       "      <td>98199.000000</td>\n",
       "      <td>47.777600</td>\n",
       "      <td>-121.315000</td>\n",
       "      <td>6210.000000</td>\n",
       "      <td>871200.000000</td>\n",
       "      <td>120.000000</td>\n",
       "    </tr>\n",
       "  </tbody>\n",
       "</table>\n",
       "<p>8 rows × 21 columns</p>\n",
       "</div>"
      ],
      "text/plain": [
       "                 id         price      bedrooms     bathrooms   sqft_living  \\\n",
       "count  2.159700e+04  2.159700e+04  20919.000000  21029.000000  21597.000000   \n",
       "mean   4.580474e+09  5.402966e+05      3.374492      2.116066   2080.321850   \n",
       "std    2.876736e+09  3.673681e+05      0.928669      0.768761    918.106125   \n",
       "min    1.000102e+06  7.800000e+04      1.000000      0.500000    370.000000   \n",
       "25%    2.123049e+09  3.220000e+05      3.000000      1.750000   1430.000000   \n",
       "50%    3.904930e+09  4.500000e+05      3.000000      2.250000   1910.000000   \n",
       "75%    7.308900e+09  6.450000e+05      4.000000      2.500000   2550.000000   \n",
       "max    9.900000e+09  7.700000e+06     33.000000      8.000000  13540.000000   \n",
       "\n",
       "           sqft_lot        floors    waterfront          view     condition  \\\n",
       "count  2.120900e+04  21149.000000  20980.000000  20587.000000  21597.000000   \n",
       "mean   1.507570e+04      1.495224      0.007579      0.234225      3.409825   \n",
       "std    4.157822e+04      0.540121      0.086727      0.765734      0.650546   \n",
       "min    5.200000e+02      1.000000      0.000000      0.000000      1.000000   \n",
       "25%    5.040000e+03      1.000000      0.000000      0.000000      3.000000   \n",
       "50%    7.603000e+03      1.500000      0.000000      0.000000      3.000000   \n",
       "75%    1.065000e+04      2.000000      0.000000      0.000000      4.000000   \n",
       "max    1.651359e+06      3.500000      1.000000      4.000000      5.000000   \n",
       "\n",
       "       ...    sqft_above  sqft_basement      yr_built  yr_renovated  \\\n",
       "count  ...  21597.000000   20618.000000  21597.000000  21597.000000   \n",
       "mean   ...   1788.596842     290.964061   1970.999676     84.464787   \n",
       "std    ...    827.759761     441.932025     29.375234    401.821438   \n",
       "min    ...    370.000000       0.000000   1900.000000      0.000000   \n",
       "25%    ...   1190.000000       0.000000   1951.000000      0.000000   \n",
       "50%    ...   1560.000000       0.000000   1975.000000      0.000000   \n",
       "75%    ...   2210.000000     560.000000   1997.000000      0.000000   \n",
       "max    ...   9410.000000    4820.000000   2015.000000   2015.000000   \n",
       "\n",
       "            zipcode           lat          long  sqft_living15     sqft_lot15  \\\n",
       "count  21597.000000  20360.000000  20396.000000   21597.000000   21597.000000   \n",
       "mean   98077.951845     47.560337   -122.214237    1986.620318   12758.283512   \n",
       "std       53.513072      0.138464      0.140859     685.230472   27274.441950   \n",
       "min    98001.000000     47.155900   -122.519000     399.000000     651.000000   \n",
       "25%    98033.000000     47.472300   -122.329000    1490.000000    5100.000000   \n",
       "50%    98065.000000     47.572050   -122.231000    1840.000000    7620.000000   \n",
       "75%    98118.000000     47.677925   -122.125000    2360.000000   10083.000000   \n",
       "max    98199.000000     47.777600   -121.315000    6210.000000  871200.000000   \n",
       "\n",
       "       age_building  \n",
       "count  21597.000000  \n",
       "mean      49.000324  \n",
       "std       29.375234  \n",
       "min        5.000000  \n",
       "25%       23.000000  \n",
       "50%       45.000000  \n",
       "75%       69.000000  \n",
       "max      120.000000  \n",
       "\n",
       "[8 rows x 21 columns]"
      ]
     },
     "execution_count": 5,
     "metadata": {},
     "output_type": "execute_result"
    }
   ],
   "source": [
    "df.describe()"
   ]
  },
  {
   "cell_type": "code",
   "execution_count": 6,
   "metadata": {},
   "outputs": [
    {
     "data": {
      "text/plain": [
       "<seaborn.axisgrid.FacetGrid at 0x1fc6b7a1148>"
      ]
     },
     "execution_count": 6,
     "metadata": {},
     "output_type": "execute_result"
    },
    {
     "data": {
      "image/png": "[encoded data removed]",
      "text/plain": [
       "<Figure size 360x360 with 1 Axes>"
      ]
     },
     "metadata": {
      "needs_background": "light"
     },
     "output_type": "display_data"
    }
   ],
   "source": [
    "sns.lmplot(x='bathrooms',y='price',data=df)"
   ]
  },
  {
   "cell_type": "code",
   "execution_count": 7,
   "metadata": {},
   "outputs": [
    {
     "data": {
      "text/plain": [
       "<seaborn.axisgrid.FacetGrid at 0x1fc6bae3fc8>"
      ]
     },
     "execution_count": 7,
     "metadata": {},
     "output_type": "execute_result"
    },
    {
     "data": {
      "image/png": "[encoded data removed]",
      "text/plain": [
       "<Figure size 360x360 with 1 Axes>"
      ]
     },
     "metadata": {
      "needs_background": "light"
     },
     "output_type": "display_data"
    }
   ],
   "source": [
    "sns.lmplot(x='sqft_living',y='price',data=df)"
   ]
  },
  {
   "cell_type": "code",
   "execution_count": 8,
   "metadata": {},
   "outputs": [
    {
     "data": {
      "text/plain": [
       "<seaborn.axisgrid.FacetGrid at 0x1fc6c482d48>"
      ]
     },
     "execution_count": 8,
     "metadata": {},
     "output_type": "execute_result"
    },
    {
     "data": {
      "image/png": "[encoded data removed]",
      "text/plain": [
       "<Figure size 360x360 with 1 Axes>"
      ]
     },
     "metadata": {
      "needs_background": "light"
     },
     "output_type": "display_data"
    }
   ],
   "source": [
    "sns.lmplot(x='bedrooms',y='price',data=df)"
   ]
  },
  {
   "cell_type": "code",
   "execution_count": 9,
   "metadata": {},
   "outputs": [
    {
     "data": {
      "text/plain": [
       "<seaborn.axisgrid.FacetGrid at 0x1fc6c504b48>"
      ]
     },
     "execution_count": 9,
     "metadata": {},
     "output_type": "execute_result"
    },
    {
     "data": {
      "image/png": "[encoded data removed]",
      "text/plain": [
       "<Figure size 360x360 with 1 Axes>"
      ]
     },
     "metadata": {
      "needs_background": "light"
     },
     "output_type": "display_data"
    }
   ],
   "source": [
    "sns.lmplot(x='sqft_lot',y='price',data=df)"
   ]
  },
  {
   "cell_type": "code",
   "execution_count": 10,
   "metadata": {},
   "outputs": [
    {
     "data": {
      "text/plain": [
       "<seaborn.axisgrid.FacetGrid at 0x1fc6d565608>"
      ]
     },
     "execution_count": 10,
     "metadata": {},
     "output_type": "execute_result"
    },
    {
     "data": {
      "image/png": "[encoded data removed]",
      "text/plain": [
       "<Figure size 360x360 with 1 Axes>"
      ]
     },
     "metadata": {
      "needs_background": "light"
     },
     "output_type": "display_data"
    }
   ],
   "source": [
    "sns.lmplot(x='sqft_above',y='price',data=df)"
   ]
  },
  {
   "cell_type": "code",
   "execution_count": null,
   "metadata": {},
   "outputs": [],
   "source": []
  },
  {
   "cell_type": "code",
   "execution_count": 11,
   "metadata": {},
   "outputs": [
    {
     "data": {
      "text/plain": [
       "7126"
      ]
     },
     "execution_count": 11,
     "metadata": {},
     "output_type": "execute_result"
    }
   ],
   "source": [
    "df.isnull().sum().sum()\n"
   ]
  },
  {
   "cell_type": "markdown",
   "metadata": {},
   "source": [
    "#### 7000 and above missing cells which is more than 5% of the data."
   ]
  },
  {
   "cell_type": "code",
   "execution_count": 12,
   "metadata": {},
   "outputs": [
    {
     "data": {
      "text/plain": [
       "Index(['id', 'date', 'price', 'bedrooms', 'bathrooms', 'sqft_living',\n",
       "       'sqft_lot', 'floors', 'waterfront', 'view', 'condition', 'grade',\n",
       "       'sqft_above', 'sqft_basement', 'yr_built', 'yr_renovated', 'zipcode',\n",
       "       'lat', 'long', 'sqft_living15', 'sqft_lot15', 'age_building'],\n",
       "      dtype='object')"
      ]
     },
     "execution_count": 12,
     "metadata": {},
     "output_type": "execute_result"
    }
   ],
   "source": [
    "df.columns"
   ]
  },
  {
   "cell_type": "markdown",
   "metadata": {},
   "source": [
    "###### Dropping these columns as they are not important for regression "
   ]
  },
  {
   "cell_type": "code",
   "execution_count": 13,
   "metadata": {},
   "outputs": [],
   "source": [
    "df.drop([\"id\",\"date\",\"zipcode\",\"yr_built\",\"yr_renovated\"],axis=1,inplace=True)"
   ]
  },
  {
   "cell_type": "code",
   "execution_count": 14,
   "metadata": {},
   "outputs": [
    {
     "data": {
      "text/html": [
       "<div>\n",
       "<style scoped>\n",
       "    .dataframe tbody tr th:only-of-type {\n",
       "        vertical-align: middle;\n",
       "    }\n",
       "\n",
       "    .dataframe tbody tr th {\n",
       "        vertical-align: top;\n",
       "    }\n",
       "\n",
       "    .dataframe thead th {\n",
       "        text-align: right;\n",
       "    }\n",
       "</style>\n",
       "<table border=\"1\" class=\"dataframe\">\n",
       "  <thead>\n",
       "    <tr style=\"text-align: right;\">\n",
       "      <th></th>\n",
       "      <th>price</th>\n",
       "      <th>bedrooms</th>\n",
       "      <th>bathrooms</th>\n",
       "      <th>sqft_living</th>\n",
       "      <th>sqft_lot</th>\n",
       "      <th>floors</th>\n",
       "      <th>waterfront</th>\n",
       "      <th>view</th>\n",
       "      <th>condition</th>\n",
       "      <th>grade</th>\n",
       "      <th>sqft_above</th>\n",
       "      <th>sqft_basement</th>\n",
       "      <th>lat</th>\n",
       "      <th>long</th>\n",
       "      <th>sqft_living15</th>\n",
       "      <th>sqft_lot15</th>\n",
       "      <th>age_building</th>\n",
       "    </tr>\n",
       "  </thead>\n",
       "  <tbody>\n",
       "    <tr>\n",
       "      <td>0</td>\n",
       "      <td>221900.0</td>\n",
       "      <td>3.0</td>\n",
       "      <td>1.0</td>\n",
       "      <td>1180</td>\n",
       "      <td>5650.0</td>\n",
       "      <td>1.0</td>\n",
       "      <td>0.0</td>\n",
       "      <td>0.0</td>\n",
       "      <td>3</td>\n",
       "      <td>7</td>\n",
       "      <td>1180</td>\n",
       "      <td>0.0</td>\n",
       "      <td>47.5112</td>\n",
       "      <td>-122.257</td>\n",
       "      <td>1340</td>\n",
       "      <td>5650</td>\n",
       "      <td>65</td>\n",
       "    </tr>\n",
       "    <tr>\n",
       "      <td>1</td>\n",
       "      <td>538000.0</td>\n",
       "      <td>3.0</td>\n",
       "      <td>NaN</td>\n",
       "      <td>2570</td>\n",
       "      <td>NaN</td>\n",
       "      <td>2.0</td>\n",
       "      <td>0.0</td>\n",
       "      <td>NaN</td>\n",
       "      <td>3</td>\n",
       "      <td>7</td>\n",
       "      <td>2170</td>\n",
       "      <td>400.0</td>\n",
       "      <td>47.7210</td>\n",
       "      <td>NaN</td>\n",
       "      <td>1690</td>\n",
       "      <td>7639</td>\n",
       "      <td>69</td>\n",
       "    </tr>\n",
       "    <tr>\n",
       "      <td>2</td>\n",
       "      <td>180000.0</td>\n",
       "      <td>NaN</td>\n",
       "      <td>1.0</td>\n",
       "      <td>770</td>\n",
       "      <td>10000.0</td>\n",
       "      <td>1.0</td>\n",
       "      <td>0.0</td>\n",
       "      <td>NaN</td>\n",
       "      <td>3</td>\n",
       "      <td>6</td>\n",
       "      <td>770</td>\n",
       "      <td>NaN</td>\n",
       "      <td>47.7379</td>\n",
       "      <td>NaN</td>\n",
       "      <td>2720</td>\n",
       "      <td>8062</td>\n",
       "      <td>87</td>\n",
       "    </tr>\n",
       "    <tr>\n",
       "      <td>3</td>\n",
       "      <td>604000.0</td>\n",
       "      <td>4.0</td>\n",
       "      <td>NaN</td>\n",
       "      <td>1960</td>\n",
       "      <td>5000.0</td>\n",
       "      <td>NaN</td>\n",
       "      <td>0.0</td>\n",
       "      <td>0.0</td>\n",
       "      <td>5</td>\n",
       "      <td>7</td>\n",
       "      <td>1050</td>\n",
       "      <td>910.0</td>\n",
       "      <td>NaN</td>\n",
       "      <td>NaN</td>\n",
       "      <td>1360</td>\n",
       "      <td>5000</td>\n",
       "      <td>55</td>\n",
       "    </tr>\n",
       "    <tr>\n",
       "      <td>4</td>\n",
       "      <td>510000.0</td>\n",
       "      <td>NaN</td>\n",
       "      <td>2.0</td>\n",
       "      <td>1680</td>\n",
       "      <td>8080.0</td>\n",
       "      <td>1.0</td>\n",
       "      <td>0.0</td>\n",
       "      <td>NaN</td>\n",
       "      <td>3</td>\n",
       "      <td>8</td>\n",
       "      <td>1680</td>\n",
       "      <td>0.0</td>\n",
       "      <td>NaN</td>\n",
       "      <td>NaN</td>\n",
       "      <td>1800</td>\n",
       "      <td>7503</td>\n",
       "      <td>33</td>\n",
       "    </tr>\n",
       "  </tbody>\n",
       "</table>\n",
       "</div>"
      ],
      "text/plain": [
       "      price  bedrooms  bathrooms  sqft_living  sqft_lot  floors  waterfront  \\\n",
       "0  221900.0       3.0        1.0         1180    5650.0     1.0         0.0   \n",
       "1  538000.0       3.0        NaN         2570       NaN     2.0         0.0   \n",
       "2  180000.0       NaN        1.0          770   10000.0     1.0         0.0   \n",
       "3  604000.0       4.0        NaN         1960    5000.0     NaN         0.0   \n",
       "4  510000.0       NaN        2.0         1680    8080.0     1.0         0.0   \n",
       "\n",
       "   view  condition  grade  sqft_above  sqft_basement      lat     long  \\\n",
       "0   0.0          3      7        1180            0.0  47.5112 -122.257   \n",
       "1   NaN          3      7        2170          400.0  47.7210      NaN   \n",
       "2   NaN          3      6         770            NaN  47.7379      NaN   \n",
       "3   0.0          5      7        1050          910.0      NaN      NaN   \n",
       "4   NaN          3      8        1680            0.0      NaN      NaN   \n",
       "\n",
       "   sqft_living15  sqft_lot15  age_building  \n",
       "0           1340        5650            65  \n",
       "1           1690        7639            69  \n",
       "2           2720        8062            87  \n",
       "3           1360        5000            55  \n",
       "4           1800        7503            33  "
      ]
     },
     "execution_count": 14,
     "metadata": {},
     "output_type": "execute_result"
    }
   ],
   "source": [
    "df.head()"
   ]
  },
  {
   "cell_type": "markdown",
   "metadata": {},
   "source": [
    "# Handling Null values"
   ]
  },
  {
   "cell_type": "markdown",
   "metadata": {},
   "source": [
    "##### Handling Bedroom nans"
   ]
  },
  {
   "cell_type": "code",
   "execution_count": 15,
   "metadata": {},
   "outputs": [
    {
     "data": {
      "text/plain": [
       "3.0     9497\n",
       "4.0     6667\n",
       "2.0     2676\n",
       "5.0     1564\n",
       "6.0      263\n",
       "1.0      191\n",
       "7.0       37\n",
       "8.0       13\n",
       "9.0        6\n",
       "10.0       3\n",
       "11.0       1\n",
       "33.0       1\n",
       "Name: bedrooms, dtype: int64"
      ]
     },
     "execution_count": 15,
     "metadata": {},
     "output_type": "execute_result"
    }
   ],
   "source": [
    "df['bedrooms'].value_counts()"
   ]
  },
  {
   "cell_type": "code",
   "execution_count": 16,
   "metadata": {},
   "outputs": [],
   "source": [
    "#imputing the mode as the value for nan since there are out liers in the data\n",
    "df['bedrooms'] = df['bedrooms'].fillna(df['bedrooms'].mode().iloc[0])"
   ]
  },
  {
   "cell_type": "markdown",
   "metadata": {},
   "source": [
    "#### imputing for Bathroom"
   ]
  },
  {
   "cell_type": "code",
   "execution_count": 17,
   "metadata": {},
   "outputs": [
    {
     "data": {
      "text/plain": [
       "2.50    5226\n",
       "1.00    3746\n",
       "1.75    2967\n",
       "2.25    1985\n",
       "2.00    1878\n",
       "1.50    1420\n",
       "2.75    1166\n",
       "3.00     734\n",
       "3.50     711\n",
       "3.25     574\n",
       "3.75     155\n",
       "4.00     132\n",
       "4.50      96\n",
       "4.25      77\n",
       "0.75      66\n",
       "4.75      23\n",
       "5.00      19\n",
       "5.25      13\n",
       "5.50      10\n",
       "1.25       8\n",
       "6.00       5\n",
       "5.75       4\n",
       "0.50       4\n",
       "8.00       2\n",
       "6.25       2\n",
       "6.75       2\n",
       "6.50       2\n",
       "7.50       1\n",
       "7.75       1\n",
       "Name: bathrooms, dtype: int64"
      ]
     },
     "execution_count": 17,
     "metadata": {},
     "output_type": "execute_result"
    }
   ],
   "source": [
    "df['bathrooms'].value_counts()"
   ]
  },
  {
   "cell_type": "code",
   "execution_count": 18,
   "metadata": {},
   "outputs": [],
   "source": [
    "#Imputing mode for the bathroom as it is categorical variable\n",
    "df['bathrooms']=df['bathrooms'].fillna(df['bathrooms'].mode().iloc[0])"
   ]
  },
  {
   "cell_type": "markdown",
   "metadata": {},
   "source": [
    "##### imputing values for sqft_lot"
   ]
  },
  {
   "cell_type": "code",
   "execution_count": 19,
   "metadata": {},
   "outputs": [
    {
     "data": {
      "text/plain": [
       "count    2.120900e+04\n",
       "mean     1.507570e+04\n",
       "std      4.157822e+04\n",
       "min      5.200000e+02\n",
       "25%      5.040000e+03\n",
       "50%      7.603000e+03\n",
       "75%      1.065000e+04\n",
       "max      1.651359e+06\n",
       "Name: sqft_lot, dtype: float64"
      ]
     },
     "execution_count": 19,
     "metadata": {},
     "output_type": "execute_result"
    }
   ],
   "source": [
    "df[\"sqft_lot\"].describe()"
   ]
  },
  {
   "cell_type": "code",
   "execution_count": 20,
   "metadata": {},
   "outputs": [
    {
     "data": {
      "text/plain": [
       "<matplotlib.axes._subplots.AxesSubplot at 0x1fc6d5e0e88>"
      ]
     },
     "execution_count": 20,
     "metadata": {},
     "output_type": "execute_result"
    },
    {
     "data": {
      "image/png": "[encoded data removed]",
      "text/plain": [
       "<Figure size 432x288 with 1 Axes>"
      ]
     },
     "metadata": {
      "needs_background": "light"
     },
     "output_type": "display_data"
    }
   ],
   "source": [
    "sns.scatterplot(x='sqft_living',y='price',data=df)"
   ]
  },
  {
   "cell_type": "code",
   "execution_count": 21,
   "metadata": {},
   "outputs": [],
   "source": [
    "df[\"sqft_lot\"]=df[\"sqft_lot\"].fillna(df[\"sqft_lot\"].median())"
   ]
  },
  {
   "cell_type": "markdown",
   "metadata": {},
   "source": [
    "##### handling null values for Floors"
   ]
  },
  {
   "cell_type": "code",
   "execution_count": 22,
   "metadata": {},
   "outputs": [
    {
     "data": {
      "text/plain": [
       "count    21149.000000\n",
       "mean         1.495224\n",
       "std          0.540121\n",
       "min          1.000000\n",
       "25%          1.000000\n",
       "50%          1.500000\n",
       "75%          2.000000\n",
       "max          3.500000\n",
       "Name: floors, dtype: float64"
      ]
     },
     "execution_count": 22,
     "metadata": {},
     "output_type": "execute_result"
    }
   ],
   "source": [
    "df[\"floors\"].describe()"
   ]
  },
  {
   "cell_type": "code",
   "execution_count": 23,
   "metadata": {},
   "outputs": [],
   "source": [
    "df[\"floors\"]=df[\"floors\"].fillna(df[\"floors\"].median())"
   ]
  },
  {
   "cell_type": "code",
   "execution_count": 24,
   "metadata": {},
   "outputs": [
    {
     "data": {
      "text/plain": [
       "1.0    10435\n",
       "2.0     8083\n",
       "1.5     2312\n",
       "3.0      602\n",
       "2.5      158\n",
       "3.5        7\n",
       "Name: floors, dtype: int64"
      ]
     },
     "execution_count": 24,
     "metadata": {},
     "output_type": "execute_result"
    }
   ],
   "source": [
    "df[\"floors\"].value_counts()"
   ]
  },
  {
   "cell_type": "markdown",
   "metadata": {},
   "source": [
    "##### Imputing nulls in waterfront column"
   ]
  },
  {
   "cell_type": "code",
   "execution_count": 25,
   "metadata": {},
   "outputs": [
    {
     "data": {
      "text/plain": [
       "0.0    20821\n",
       "1.0      159\n",
       "Name: waterfront, dtype: int64"
      ]
     },
     "execution_count": 25,
     "metadata": {},
     "output_type": "execute_result"
    }
   ],
   "source": [
    "df[\"waterfront\"].value_counts()"
   ]
  },
  {
   "cell_type": "code",
   "execution_count": 26,
   "metadata": {},
   "outputs": [],
   "source": [
    "df[\"waterfront\"]=df[\"waterfront\"].fillna(df[\"waterfront\"].mode().iloc[0])"
   ]
  },
  {
   "cell_type": "markdown",
   "metadata": {},
   "source": [
    "##### Handling null values for View"
   ]
  },
  {
   "cell_type": "code",
   "execution_count": 27,
   "metadata": {},
   "outputs": [
    {
     "data": {
      "text/plain": [
       "0.0    18560\n",
       "2.0      919\n",
       "3.0      482\n",
       "1.0      322\n",
       "4.0      304\n",
       "Name: view, dtype: int64"
      ]
     },
     "execution_count": 27,
     "metadata": {},
     "output_type": "execute_result"
    }
   ],
   "source": [
    "df[\"view\"].value_counts()"
   ]
  },
  {
   "cell_type": "code",
   "execution_count": 28,
   "metadata": {},
   "outputs": [],
   "source": [
    "df[\"view\"]=df[\"view\"].fillna(df[\"view\"].mode().iloc[0])"
   ]
  },
  {
   "cell_type": "code",
   "execution_count": 29,
   "metadata": {},
   "outputs": [
    {
     "data": {
      "text/plain": [
       "price               0\n",
       "bedrooms            0\n",
       "bathrooms           0\n",
       "sqft_living         0\n",
       "sqft_lot            0\n",
       "floors              0\n",
       "waterfront          0\n",
       "view                0\n",
       "condition           0\n",
       "grade               0\n",
       "sqft_above          0\n",
       "sqft_basement     979\n",
       "lat              1237\n",
       "long             1201\n",
       "sqft_living15       0\n",
       "sqft_lot15          0\n",
       "age_building        0\n",
       "dtype: int64"
      ]
     },
     "execution_count": 29,
     "metadata": {},
     "output_type": "execute_result"
    }
   ],
   "source": [
    "df.isnull().sum()"
   ]
  },
  {
   "cell_type": "markdown",
   "metadata": {},
   "source": [
    "##### handling Sqft_basement for nulls"
   ]
  },
  {
   "cell_type": "code",
   "execution_count": 30,
   "metadata": {},
   "outputs": [
    {
     "data": {
      "text/plain": [
       "count    20618.000000\n",
       "mean       290.964061\n",
       "std        441.932025\n",
       "min          0.000000\n",
       "25%          0.000000\n",
       "50%          0.000000\n",
       "75%        560.000000\n",
       "max       4820.000000\n",
       "Name: sqft_basement, dtype: float64"
      ]
     },
     "execution_count": 30,
     "metadata": {},
     "output_type": "execute_result"
    }
   ],
   "source": [
    "df[\"sqft_basement\"].describe()"
   ]
  },
  {
   "cell_type": "code",
   "execution_count": 31,
   "metadata": {},
   "outputs": [],
   "source": [
    "df[\"sqft_basement\"]=df[\"sqft_basement\"].fillna(df[\"sqft_basement\"].median())"
   ]
  },
  {
   "cell_type": "code",
   "execution_count": 32,
   "metadata": {},
   "outputs": [
    {
     "data": {
      "text/plain": [
       "price               0\n",
       "bedrooms            0\n",
       "bathrooms           0\n",
       "sqft_living         0\n",
       "sqft_lot            0\n",
       "floors              0\n",
       "waterfront          0\n",
       "view                0\n",
       "condition           0\n",
       "grade               0\n",
       "sqft_above          0\n",
       "sqft_basement       0\n",
       "lat              1237\n",
       "long             1201\n",
       "sqft_living15       0\n",
       "sqft_lot15          0\n",
       "age_building        0\n",
       "dtype: int64"
      ]
     },
     "execution_count": 32,
     "metadata": {},
     "output_type": "execute_result"
    }
   ],
   "source": [
    "df.isnull().sum()"
   ]
  },
  {
   "cell_type": "markdown",
   "metadata": {},
   "source": [
    "##### Imputing for lat and long"
   ]
  },
  {
   "cell_type": "code",
   "execution_count": 33,
   "metadata": {},
   "outputs": [],
   "source": [
    "#since the log and latitute are not imputable we are removing the columns. This column is not use ful for the regression\n",
    "df.drop([\"lat\",\"long\"],axis=1,inplace=True)"
   ]
  },
  {
   "cell_type": "code",
   "execution_count": 34,
   "metadata": {},
   "outputs": [
    {
     "data": {
      "text/html": [
       "<div>\n",
       "<style scoped>\n",
       "    .dataframe tbody tr th:only-of-type {\n",
       "        vertical-align: middle;\n",
       "    }\n",
       "\n",
       "    .dataframe tbody tr th {\n",
       "        vertical-align: top;\n",
       "    }\n",
       "\n",
       "    .dataframe thead th {\n",
       "        text-align: right;\n",
       "    }\n",
       "</style>\n",
       "<table border=\"1\" class=\"dataframe\">\n",
       "  <thead>\n",
       "    <tr style=\"text-align: right;\">\n",
       "      <th></th>\n",
       "      <th>price</th>\n",
       "      <th>bedrooms</th>\n",
       "      <th>bathrooms</th>\n",
       "      <th>sqft_living</th>\n",
       "      <th>sqft_lot</th>\n",
       "      <th>floors</th>\n",
       "      <th>waterfront</th>\n",
       "      <th>view</th>\n",
       "      <th>condition</th>\n",
       "      <th>grade</th>\n",
       "      <th>sqft_above</th>\n",
       "      <th>sqft_basement</th>\n",
       "      <th>sqft_living15</th>\n",
       "      <th>sqft_lot15</th>\n",
       "      <th>age_building</th>\n",
       "    </tr>\n",
       "  </thead>\n",
       "  <tbody>\n",
       "    <tr>\n",
       "      <td>0</td>\n",
       "      <td>221900.0</td>\n",
       "      <td>3.0</td>\n",
       "      <td>1.0</td>\n",
       "      <td>1180</td>\n",
       "      <td>5650.0</td>\n",
       "      <td>1.0</td>\n",
       "      <td>0.0</td>\n",
       "      <td>0.0</td>\n",
       "      <td>3</td>\n",
       "      <td>7</td>\n",
       "      <td>1180</td>\n",
       "      <td>0.0</td>\n",
       "      <td>1340</td>\n",
       "      <td>5650</td>\n",
       "      <td>65</td>\n",
       "    </tr>\n",
       "    <tr>\n",
       "      <td>1</td>\n",
       "      <td>538000.0</td>\n",
       "      <td>3.0</td>\n",
       "      <td>2.5</td>\n",
       "      <td>2570</td>\n",
       "      <td>7603.0</td>\n",
       "      <td>2.0</td>\n",
       "      <td>0.0</td>\n",
       "      <td>0.0</td>\n",
       "      <td>3</td>\n",
       "      <td>7</td>\n",
       "      <td>2170</td>\n",
       "      <td>400.0</td>\n",
       "      <td>1690</td>\n",
       "      <td>7639</td>\n",
       "      <td>69</td>\n",
       "    </tr>\n",
       "    <tr>\n",
       "      <td>2</td>\n",
       "      <td>180000.0</td>\n",
       "      <td>3.0</td>\n",
       "      <td>1.0</td>\n",
       "      <td>770</td>\n",
       "      <td>10000.0</td>\n",
       "      <td>1.0</td>\n",
       "      <td>0.0</td>\n",
       "      <td>0.0</td>\n",
       "      <td>3</td>\n",
       "      <td>6</td>\n",
       "      <td>770</td>\n",
       "      <td>0.0</td>\n",
       "      <td>2720</td>\n",
       "      <td>8062</td>\n",
       "      <td>87</td>\n",
       "    </tr>\n",
       "    <tr>\n",
       "      <td>3</td>\n",
       "      <td>604000.0</td>\n",
       "      <td>4.0</td>\n",
       "      <td>2.5</td>\n",
       "      <td>1960</td>\n",
       "      <td>5000.0</td>\n",
       "      <td>1.5</td>\n",
       "      <td>0.0</td>\n",
       "      <td>0.0</td>\n",
       "      <td>5</td>\n",
       "      <td>7</td>\n",
       "      <td>1050</td>\n",
       "      <td>910.0</td>\n",
       "      <td>1360</td>\n",
       "      <td>5000</td>\n",
       "      <td>55</td>\n",
       "    </tr>\n",
       "    <tr>\n",
       "      <td>4</td>\n",
       "      <td>510000.0</td>\n",
       "      <td>3.0</td>\n",
       "      <td>2.0</td>\n",
       "      <td>1680</td>\n",
       "      <td>8080.0</td>\n",
       "      <td>1.0</td>\n",
       "      <td>0.0</td>\n",
       "      <td>0.0</td>\n",
       "      <td>3</td>\n",
       "      <td>8</td>\n",
       "      <td>1680</td>\n",
       "      <td>0.0</td>\n",
       "      <td>1800</td>\n",
       "      <td>7503</td>\n",
       "      <td>33</td>\n",
       "    </tr>\n",
       "  </tbody>\n",
       "</table>\n",
       "</div>"
      ],
      "text/plain": [
       "      price  bedrooms  bathrooms  sqft_living  sqft_lot  floors  waterfront  \\\n",
       "0  221900.0       3.0        1.0         1180    5650.0     1.0         0.0   \n",
       "1  538000.0       3.0        2.5         2570    7603.0     2.0         0.0   \n",
       "2  180000.0       3.0        1.0          770   10000.0     1.0         0.0   \n",
       "3  604000.0       4.0        2.5         1960    5000.0     1.5         0.0   \n",
       "4  510000.0       3.0        2.0         1680    8080.0     1.0         0.0   \n",
       "\n",
       "   view  condition  grade  sqft_above  sqft_basement  sqft_living15  \\\n",
       "0   0.0          3      7        1180            0.0           1340   \n",
       "1   0.0          3      7        2170          400.0           1690   \n",
       "2   0.0          3      6         770            0.0           2720   \n",
       "3   0.0          5      7        1050          910.0           1360   \n",
       "4   0.0          3      8        1680            0.0           1800   \n",
       "\n",
       "   sqft_lot15  age_building  \n",
       "0        5650            65  \n",
       "1        7639            69  \n",
       "2        8062            87  \n",
       "3        5000            55  \n",
       "4        7503            33  "
      ]
     },
     "execution_count": 34,
     "metadata": {},
     "output_type": "execute_result"
    }
   ],
   "source": [
    "df.head()"
   ]
  },
  {
   "cell_type": "code",
   "execution_count": 35,
   "metadata": {},
   "outputs": [
    {
     "data": {
      "text/plain": [
       "<matplotlib.axes._subplots.AxesSubplot at 0x1fc6d955c08>"
      ]
     },
     "execution_count": 35,
     "metadata": {},
     "output_type": "execute_result"
    },
    {
     "data": {
      "image/png": "[encoded data removed]",
      "text/plain": [
       "<Figure size 1800x864 with 2 Axes>"
      ]
     },
     "metadata": {
      "needs_background": "light"
     },
     "output_type": "display_data"
    }
   ],
   "source": [
    "corr=df.corr()\n",
    "a4_dims = (25,12)\n",
    "fig, ax = plt.subplots(figsize=a4_dims)\n",
    "sns.heatmap(corr,annot=True)"
   ]
  },
  {
   "cell_type": "markdown",
   "metadata": {},
   "source": [
    "###### This chart explains the correlation of the variables in the dataset. "
   ]
  },
  {
   "cell_type": "code",
   "execution_count": 36,
   "metadata": {},
   "outputs": [
    {
     "data": {
      "text/plain": [
       "price            0\n",
       "bedrooms         0\n",
       "bathrooms        0\n",
       "sqft_living      0\n",
       "sqft_lot         0\n",
       "floors           0\n",
       "waterfront       0\n",
       "view             0\n",
       "condition        0\n",
       "grade            0\n",
       "sqft_above       0\n",
       "sqft_basement    0\n",
       "sqft_living15    0\n",
       "sqft_lot15       0\n",
       "age_building     0\n",
       "dtype: int64"
      ]
     },
     "execution_count": 36,
     "metadata": {},
     "output_type": "execute_result"
    }
   ],
   "source": [
    "df.isnull().sum()"
   ]
  },
  {
   "cell_type": "code",
   "execution_count": 37,
   "metadata": {},
   "outputs": [],
   "source": [
    "df_final = df.sample(n=1600,random_state=0)"
   ]
  },
  {
   "cell_type": "markdown",
   "metadata": {},
   "source": [
    "# Splitting train test data"
   ]
  },
  {
   "cell_type": "code",
   "execution_count": 38,
   "metadata": {},
   "outputs": [],
   "source": [
    "#Spliting the data for train and test \n",
    "X = df_final.drop(['price'],axis=1)\n",
    "Y = df_final['price']\n",
    "\n",
    "X_train, X_test, y_train, y_test = train_test_split(X, Y, test_size=0.25, random_state=1)"
   ]
  },
  {
   "cell_type": "markdown",
   "metadata": {},
   "source": [
    "### Scaling data"
   ]
  },
  {
   "cell_type": "code",
   "execution_count": 39,
   "metadata": {},
   "outputs": [],
   "source": [
    "#StandardScaler is that it will transform your data such that its distribution will have a mean value 0 and standard deviation of 1.\n",
    "scale=StandardScaler()\n",
    "X_train_scaled=scale.fit_transform(X_train)\n",
    "X_test_scaled=scale.transform(X_test)"
   ]
  },
  {
   "cell_type": "code",
   "execution_count": null,
   "metadata": {},
   "outputs": [],
   "source": []
  },
  {
   "cell_type": "markdown",
   "metadata": {},
   "source": [
    "# Linear Regression"
   ]
  },
  {
   "cell_type": "code",
   "execution_count": 40,
   "metadata": {},
   "outputs": [
    {
     "data": {
      "text/plain": [
       "GridSearchCV(cv=6, error_score='raise-deprecating',\n",
       "             estimator=LinearRegression(copy_X=True, fit_intercept=True,\n",
       "                                        n_jobs=None, normalize=False),\n",
       "             iid='warn', n_jobs=None, param_grid={'normalize': [True, False]},\n",
       "             pre_dispatch='2*n_jobs', refit=True, return_train_score=True,\n",
       "             scoring=None, verbose=0)"
      ]
     },
     "execution_count": 40,
     "metadata": {},
     "output_type": "execute_result"
    },
    {
     "name": "stdout",
     "output_type": "stream",
     "text": [
      "Best parameters: {'normalize': True}\n",
      "Best cross-validation score: 0.6271\n"
     ]
    }
   ],
   "source": [
    "from sklearn.model_selection import GridSearchCV\n",
    "model = LinearRegression()\n",
    "parameters = {'normalize':[True,False]}\n",
    "grid_search_lr = GridSearchCV(model,parameters, cv=6, return_train_score=True)\n",
    "grid_search_lr.fit(X_train_scaled, y_train)\n",
    "print(\"Best parameters: {}\".format(grid_search_lr.best_params_))\n",
    "print(\"Best cross-validation score: {:.4f}\".format(grid_search_lr.best_score_))"
   ]
  },
  {
   "cell_type": "code",
   "execution_count": 41,
   "metadata": {},
   "outputs": [
    {
     "data": {
      "text/html": [
       "<div>\n",
       "<style scoped>\n",
       "    .dataframe tbody tr th:only-of-type {\n",
       "        vertical-align: middle;\n",
       "    }\n",
       "\n",
       "    .dataframe tbody tr th {\n",
       "        vertical-align: top;\n",
       "    }\n",
       "\n",
       "    .dataframe thead th {\n",
       "        text-align: right;\n",
       "    }\n",
       "</style>\n",
       "<table border=\"1\" class=\"dataframe\">\n",
       "  <thead>\n",
       "    <tr style=\"text-align: right;\">\n",
       "      <th></th>\n",
       "      <th>mean_fit_time</th>\n",
       "      <th>std_fit_time</th>\n",
       "      <th>mean_score_time</th>\n",
       "      <th>std_score_time</th>\n",
       "      <th>param_normalize</th>\n",
       "      <th>params</th>\n",
       "      <th>split0_test_score</th>\n",
       "      <th>split1_test_score</th>\n",
       "      <th>split2_test_score</th>\n",
       "      <th>split3_test_score</th>\n",
       "      <th>...</th>\n",
       "      <th>std_test_score</th>\n",
       "      <th>rank_test_score</th>\n",
       "      <th>split0_train_score</th>\n",
       "      <th>split1_train_score</th>\n",
       "      <th>split2_train_score</th>\n",
       "      <th>split3_train_score</th>\n",
       "      <th>split4_train_score</th>\n",
       "      <th>split5_train_score</th>\n",
       "      <th>mean_train_score</th>\n",
       "      <th>std_train_score</th>\n",
       "    </tr>\n",
       "  </thead>\n",
       "  <tbody>\n",
       "    <tr>\n",
       "      <td>0</td>\n",
       "      <td>0.001459</td>\n",
       "      <td>0.000522</td>\n",
       "      <td>0.000596</td>\n",
       "      <td>0.000431</td>\n",
       "      <td>True</td>\n",
       "      <td>{'normalize': True}</td>\n",
       "      <td>0.61311</td>\n",
       "      <td>0.731869</td>\n",
       "      <td>0.608696</td>\n",
       "      <td>0.649457</td>\n",
       "      <td>...</td>\n",
       "      <td>0.054168</td>\n",
       "      <td>1</td>\n",
       "      <td>0.656014</td>\n",
       "      <td>0.630407</td>\n",
       "      <td>0.661601</td>\n",
       "      <td>0.648753</td>\n",
       "      <td>0.674487</td>\n",
       "      <td>0.656298</td>\n",
       "      <td>0.654593</td>\n",
       "      <td>0.013347</td>\n",
       "    </tr>\n",
       "    <tr>\n",
       "      <td>1</td>\n",
       "      <td>0.001520</td>\n",
       "      <td>0.000404</td>\n",
       "      <td>0.000812</td>\n",
       "      <td>0.000392</td>\n",
       "      <td>False</td>\n",
       "      <td>{'normalize': False}</td>\n",
       "      <td>0.61311</td>\n",
       "      <td>0.731869</td>\n",
       "      <td>0.608696</td>\n",
       "      <td>0.649457</td>\n",
       "      <td>...</td>\n",
       "      <td>0.054168</td>\n",
       "      <td>1</td>\n",
       "      <td>0.656014</td>\n",
       "      <td>0.630407</td>\n",
       "      <td>0.661601</td>\n",
       "      <td>0.648753</td>\n",
       "      <td>0.674487</td>\n",
       "      <td>0.656298</td>\n",
       "      <td>0.654593</td>\n",
       "      <td>0.013347</td>\n",
       "    </tr>\n",
       "  </tbody>\n",
       "</table>\n",
       "<p>2 rows × 23 columns</p>\n",
       "</div>"
      ],
      "text/plain": [
       "   mean_fit_time  std_fit_time  mean_score_time  std_score_time  \\\n",
       "0       0.001459      0.000522         0.000596        0.000431   \n",
       "1       0.001520      0.000404         0.000812        0.000392   \n",
       "\n",
       "  param_normalize                params  split0_test_score  split1_test_score  \\\n",
       "0            True   {'normalize': True}            0.61311           0.731869   \n",
       "1           False  {'normalize': False}            0.61311           0.731869   \n",
       "\n",
       "   split2_test_score  split3_test_score  ...  std_test_score  rank_test_score  \\\n",
       "0           0.608696           0.649457  ...        0.054168                1   \n",
       "1           0.608696           0.649457  ...        0.054168                1   \n",
       "\n",
       "   split0_train_score  split1_train_score  split2_train_score  \\\n",
       "0            0.656014            0.630407            0.661601   \n",
       "1            0.656014            0.630407            0.661601   \n",
       "\n",
       "   split3_train_score  split4_train_score  split5_train_score  \\\n",
       "0            0.648753            0.674487            0.656298   \n",
       "1            0.648753            0.674487            0.656298   \n",
       "\n",
       "   mean_train_score  std_train_score  \n",
       "0          0.654593         0.013347  \n",
       "1          0.654593         0.013347  \n",
       "\n",
       "[2 rows x 23 columns]"
      ]
     },
     "execution_count": 41,
     "metadata": {},
     "output_type": "execute_result"
    }
   ],
   "source": [
    "results = pd.DataFrame(grid_search_lr.cv_results_)\n",
    "results"
   ]
  },
  {
   "cell_type": "code",
   "execution_count": 42,
   "metadata": {},
   "outputs": [
    {
     "data": {
      "text/plain": [
       "LinearRegression(copy_X=True, fit_intercept=True, n_jobs=None, normalize=True)"
      ]
     },
     "execution_count": 42,
     "metadata": {},
     "output_type": "execute_result"
    },
    {
     "name": "stdout",
     "output_type": "stream",
     "text": [
      "Train score: 0.6528506809785037\n",
      "Test score: 0.6765165394748482\n"
     ]
    }
   ],
   "source": [
    "lreg = LinearRegression(normalize = True)\n",
    "lreg.fit(X_train_scaled, y_train)\n",
    "print(\"Train score:\",lreg.score(X_train_scaled, y_train))\n",
    "print(\"Test score:\",lreg.score(X_test_scaled, y_test))"
   ]
  },
  {
   "cell_type": "code",
   "execution_count": 43,
   "metadata": {},
   "outputs": [
    {
     "name": "stdout",
     "output_type": "stream",
     "text": [
      "Cross-validation scores: [0.66182373 0.54670168 0.75929092 0.62929461 0.60028234 0.67853562\n",
      " 0.54635855 0.55279378 0.57548276 0.62376326]\n",
      "0.6174327250999959\n",
      "0.6227094200171737\n"
     ]
    }
   ],
   "source": [
    "from sklearn.model_selection import KFold\n",
    "from sklearn.model_selection import cross_val_score\n",
    "\n",
    "  \n",
    "kfold = KFold(n_splits=10)\n",
    "print(\"Cross-validation scores:\",cross_val_score(model , X_train_scaled, y_train, cv=kfold))\n",
    "scores = cross_val_score(model , X_train_scaled, y_train, cv=kfold)\n",
    "testscores= cross_val_score(model , X_test_scaled, y_test, cv=kfold)\n",
    "print(np.mean(scores))\n",
    "print(np.mean(testscores))"
   ]
  },
  {
   "cell_type": "code",
   "execution_count": 44,
   "metadata": {},
   "outputs": [
    {
     "data": {
      "text/plain": [
       "LinearRegression(copy_X=True, fit_intercept=True, n_jobs=None, normalize=True)"
      ]
     },
     "execution_count": 44,
     "metadata": {},
     "output_type": "execute_result"
    },
    {
     "data": {
      "text/plain": [
       "[<matplotlib.lines.Line2D at 0x1fc6e1383c8>]"
      ]
     },
     "execution_count": 44,
     "metadata": {},
     "output_type": "execute_result"
    },
    {
     "data": {
      "text/plain": [
       "<matplotlib.collections.PathCollection at 0x1fc6e145e88>"
      ]
     },
     "execution_count": 44,
     "metadata": {},
     "output_type": "execute_result"
    },
    {
     "data": {
      "text/plain": [
       "Text(0.5, 0, 'sqft_living')"
      ]
     },
     "execution_count": 44,
     "metadata": {},
     "output_type": "execute_result"
    },
    {
     "data": {
      "image/png": "[encoded data removed]",
      "text/plain": [
       "<Figure size 432x288 with 1 Axes>"
      ]
     },
     "metadata": {
      "needs_background": "light"
     },
     "output_type": "display_data"
    }
   ],
   "source": [
    "%matplotlib inline\n",
    "import matplotlib.pyplot as plt\n",
    "\n",
    "X_train_array = X_train.to_numpy()\n",
    "X_train_rm = X_train_array[:,2].reshape(-1,1)\n",
    "lreg.fit(X_train_rm, y_train)\n",
    "y_predict = lreg.predict(X_train_rm)\n",
    "plt.plot(X_train_rm, y_predict, c = 'r')\n",
    "plt.scatter(X_train_rm,y_train)\n",
    "plt.xlabel('sqft_living')"
   ]
  },
  {
   "cell_type": "markdown",
   "metadata": {},
   "source": [
    "##### Best cross-validation score: 0.6264\n",
    "\n",
    "train score: 0.656\n",
    "Test score: 0.675"
   ]
  },
  {
   "cell_type": "markdown",
   "metadata": {},
   "source": [
    "# Ridge regression"
   ]
  },
  {
   "cell_type": "code",
   "execution_count": 45,
   "metadata": {},
   "outputs": [
    {
     "data": {
      "text/plain": [
       "GridSearchCV(cv=5, error_score='raise-deprecating',\n",
       "             estimator=Ridge(alpha=1.0, copy_X=True, fit_intercept=True,\n",
       "                             max_iter=None, normalize=False, random_state=None,\n",
       "                             solver='auto', tol=0.001),\n",
       "             iid='warn', n_jobs=None,\n",
       "             param_grid={'alpha': [0.01, 0.1, 1, 10, 100, 1000]},\n",
       "             pre_dispatch='2*n_jobs', refit=True, return_train_score=True,\n",
       "             scoring=None, verbose=0)"
      ]
     },
     "execution_count": 45,
     "metadata": {},
     "output_type": "execute_result"
    },
    {
     "name": "stdout",
     "output_type": "stream",
     "text": [
      "Best parameters:  {'alpha': 10}\n",
      "Best cross-validation score:  0.6211435309806874\n"
     ]
    }
   ],
   "source": [
    "ridge = Ridge()\n",
    "grid_parameter_ridge = {'alpha': [0.01, 0.1, 1, 10, 100,1000]}\n",
    "grid_search_ridge = GridSearchCV(ridge,param_grid = grid_parameter_ridge,return_train_score=True,cv=5)\n",
    "grid_search_ridge.fit(X_train_scaled, y_train)\n",
    "print(\"Best parameters: \",grid_search_ridge.best_params_)\n",
    "print(\"Best cross-validation score: \",grid_search_ridge.best_score_)"
   ]
  },
  {
   "cell_type": "code",
   "execution_count": 46,
   "metadata": {},
   "outputs": [
    {
     "data": {
      "text/plain": [
       "Ridge(alpha=10, copy_X=True, fit_intercept=True, max_iter=None, normalize=False,\n",
       "      random_state=None, solver='auto', tol=0.001)"
      ]
     },
     "execution_count": 46,
     "metadata": {},
     "output_type": "execute_result"
    },
    {
     "name": "stdout",
     "output_type": "stream",
     "text": [
      "Train score: 0.6519008427693769\n",
      "Test Score:  0.678780092072488\n"
     ]
    }
   ],
   "source": [
    "ridge_Regressor = Ridge(alpha = 10)\n",
    "ridge_Regressor.fit(X_train_scaled, y_train)\n",
    "print(\"Train score:\",ridge_Regressor.score(X_train_scaled, y_train))\n",
    "print(\"Test Score: \", ridge_Regressor.score(X_test_scaled, y_test))"
   ]
  },
  {
   "cell_type": "code",
   "execution_count": 47,
   "metadata": {},
   "outputs": [
    {
     "name": "stdout",
     "output_type": "stream",
     "text": [
      "Cross-validation scores:\n",
      "[0.66019122 0.54852827 0.75594447 0.63913798 0.60173377 0.6840547\n",
      " 0.54733953 0.55902838 0.57606274 0.60962208]\n",
      "mean score for cross validation: 0.6181643150005599\n"
     ]
    }
   ],
   "source": [
    "#cross validation\n",
    "\n",
    "kfold_ridge = KFold(n_splits=6)\n",
    "print(\"Cross-validation scores:\\n{}\".format(cross_val_score(ridge_Regressor , X_train_scaled, y_train, cv=kfold)))\n",
    "scores = cross_val_score(ridge_Regressor , X_train_scaled, y_train, cv=kfold)\n",
    "print(\"mean score for cross validation:\",np.mean(scores))"
   ]
  },
  {
   "cell_type": "code",
   "execution_count": 48,
   "metadata": {},
   "outputs": [
    {
     "name": "stdout",
     "output_type": "stream",
     "text": [
      "   mean_fit_time  std_fit_time  mean_score_time  std_score_time param_alpha  \\\n",
      "0       0.001382      0.000400         0.000767        0.000389        0.01   \n",
      "1       0.001542      0.000396         0.001021        0.000037         0.1   \n",
      "2       0.001930      0.000081         0.001520        0.000464           1   \n",
      "3       0.001904      0.000475         0.001287        0.000592          10   \n",
      "4       0.001994      0.000026         0.001409        0.000487         100   \n",
      "5       0.001842      0.000214         0.001113        0.000470        1000   \n",
      "\n",
      "            params  split0_test_score  split1_test_score  split2_test_score  \\\n",
      "0  {'alpha': 0.01}           0.606688           0.715742           0.625616   \n",
      "1   {'alpha': 0.1}           0.606676           0.715953           0.625835   \n",
      "2     {'alpha': 1}           0.606571           0.717481           0.627477   \n",
      "3    {'alpha': 10}           0.606477           0.718538           0.630112   \n",
      "4   {'alpha': 100}           0.607496           0.700028           0.621793   \n",
      "5  {'alpha': 1000}           0.555324           0.579378           0.528997   \n",
      "\n",
      "   split3_test_score  ...  mean_test_score  std_test_score  rank_test_score  \\\n",
      "0           0.549990  ...         0.619908        0.054072                4   \n",
      "1           0.550038  ...         0.619980        0.054147                3   \n",
      "2           0.550486  ...         0.620500        0.054682                2   \n",
      "3           0.553586  ...         0.621144        0.054641                1   \n",
      "4           0.565713  ...         0.618361        0.044804                5   \n",
      "5           0.534520  ...         0.548260        0.017916                6   \n",
      "\n",
      "   split0_train_score  split1_train_score  split2_train_score  \\\n",
      "0            0.657610            0.629769            0.651165   \n",
      "1            0.657609            0.629767            0.651163   \n",
      "2            0.657573            0.629652            0.651036   \n",
      "3            0.656578            0.627720            0.648904   \n",
      "4            0.650114            0.621095            0.641469   \n",
      "5            0.577475            0.550246            0.561013   \n",
      "\n",
      "   split3_train_score  split4_train_score  mean_train_score  std_train_score  \n",
      "0            0.673286            0.660715          0.654509         0.014310  \n",
      "1            0.673285            0.660714          0.654508         0.014311  \n",
      "2            0.673240            0.660704          0.654441         0.014342  \n",
      "3            0.671993            0.660418          0.653123         0.014727  \n",
      "4            0.664284            0.655189          0.646430         0.014667  \n",
      "5            0.584329            0.579073          0.570427         0.012756  \n",
      "\n",
      "[6 rows x 21 columns]\n"
     ]
    }
   ],
   "source": [
    "#grid parameters\n",
    "result_ridge=pd.DataFrame(grid_search_ridge.cv_results_)\n",
    "print(result_ridge)"
   ]
  },
  {
   "cell_type": "code",
   "execution_count": 49,
   "metadata": {},
   "outputs": [
    {
     "data": {
      "text/plain": [
       "[<matplotlib.lines.Line2D at 0x1fc6e1abb88>]"
      ]
     },
     "execution_count": 49,
     "metadata": {},
     "output_type": "execute_result"
    },
    {
     "data": {
      "text/plain": [
       "[<matplotlib.lines.Line2D at 0x1fc6e1b8408>]"
      ]
     },
     "execution_count": 49,
     "metadata": {},
     "output_type": "execute_result"
    },
    {
     "data": {
      "text/plain": [
       "([<matplotlib.axis.XTick at 0x1fc6e1a17c8>,\n",
       "  <matplotlib.axis.XTick at 0x1fc6e1942c8>,\n",
       "  <matplotlib.axis.XTick at 0x1fc6e1aba08>,\n",
       "  <matplotlib.axis.XTick at 0x1fc6e1d08c8>,\n",
       "  <matplotlib.axis.XTick at 0x1fc6e1d1a88>,\n",
       "  <matplotlib.axis.XTick at 0x1fc6e1d4788>],\n",
       " <a list of 6 Text xticklabel objects>)"
      ]
     },
     "execution_count": 49,
     "metadata": {},
     "output_type": "execute_result"
    },
    {
     "data": {
      "text/plain": [
       "[<matplotlib.lines.Line2D at 0x1fc6e1c0f88>]"
      ]
     },
     "execution_count": 49,
     "metadata": {},
     "output_type": "execute_result"
    },
    {
     "data": {
      "text/plain": [
       "[<matplotlib.lines.Line2D at 0x1fc6e1d4288>]"
      ]
     },
     "execution_count": 49,
     "metadata": {},
     "output_type": "execute_result"
    },
    {
     "data": {
      "text/plain": [
       "<matplotlib.legend.Legend at 0x1fc6e1dc748>"
      ]
     },
     "execution_count": 49,
     "metadata": {},
     "output_type": "execute_result"
    },
    {
     "data": {
      "text/plain": [
       "Text(0.5, 0, 'Alpha')"
      ]
     },
     "execution_count": 49,
     "metadata": {},
     "output_type": "execute_result"
    },
    {
     "data": {
      "image/png": "[encoded data removed]",
      "text/plain": [
       "<Figure size 432x288 with 1 Axes>"
      ]
     },
     "metadata": {
      "needs_background": "light"
     },
     "output_type": "display_data"
    }
   ],
   "source": [
    "import matplotlib.pyplot as plt\n",
    "%matplotlib inline\n",
    "\n",
    "plt.plot(range(result_ridge.shape[0]), result_ridge['mean_train_score'], label = 'mean train score')\n",
    "plt.plot(range(result_ridge.shape[0]), result_ridge['mean_test_score'], label = 'mean test score')\n",
    "plt.xticks(range(result_ridge.shape[0]), result_ridge['param_alpha'], rotation = 90)\n",
    "plt.plot([grid_search_ridge.best_index_], result_ridge['mean_train_score'][grid_search_ridge.best_index_], 'o', markersize = 10, fillstyle = \"none\")\n",
    "plt.plot([grid_search_ridge.best_index_], result_ridge['mean_test_score'][grid_search_ridge.best_index_], 'o', markersize = 10, fillstyle = \"none\")\n",
    "plt.grid()\n",
    "plt.legend()\n",
    "plt.xlabel('Alpha')"
   ]
  },
  {
   "cell_type": "markdown",
   "metadata": {},
   "source": [
    "###### Best cross-validation score:  0.627\n",
    "Train score: 0.655\n",
    "Test Score:  0.677"
   ]
  },
  {
   "cell_type": "markdown",
   "metadata": {},
   "source": [
    "# Lasso Regressor"
   ]
  },
  {
   "cell_type": "code",
   "execution_count": 51,
   "metadata": {},
   "outputs": [
    {
     "data": {
      "text/plain": [
       "GridSearchCV(cv=5, error_score='raise-deprecating',\n",
       "             estimator=Lasso(alpha=1.0, copy_X=True, fit_intercept=True,\n",
       "                             max_iter=1500, normalize=False, positive=False,\n",
       "                             precompute=False, random_state=None,\n",
       "                             selection='cyclic', tol=0.0001, warm_start=False),\n",
       "             iid='warn', n_jobs=None,\n",
       "             param_grid={'alpha': [0.01, 0.1, 1, 10, 100, 1000]},\n",
       "             pre_dispatch='2*n_jobs', refit=True, return_train_score=True,\n",
       "             scoring=None, verbose=0)"
      ]
     },
     "execution_count": 51,
     "metadata": {},
     "output_type": "execute_result"
    },
    {
     "name": "stdout",
     "output_type": "stream",
     "text": [
      "Best parameters:  {'alpha': 1000}\n",
      "Best cross-validation score: 0.6207128546224523\n"
     ]
    }
   ],
   "source": [
    "grid_parameters_lasso = {'alpha': [0.01, 0.1, 1, 10,100,1000]}\n",
    "lassoRegressor = Lasso(max_iter=1500)\n",
    "grid_search_lassoReg = GridSearchCV(estimator = lassoRegressor,param_grid = grid_parameters_lasso,return_train_score=True,cv=5)\n",
    "grid_search_lassoReg.fit(X_train_scaled, y_train)\n",
    "print(\"Best parameters: \",grid_search_lassoReg.best_params_)\n",
    "print(\"Best cross-validation score:\",grid_search_lassoReg.best_score_)"
   ]
  },
  {
   "cell_type": "code",
   "execution_count": 52,
   "metadata": {},
   "outputs": [
    {
     "data": {
      "text/plain": [
       "Lasso(alpha=100, copy_X=True, fit_intercept=True, max_iter=1000,\n",
       "      normalize=False, positive=False, precompute=False, random_state=None,\n",
       "      selection='cyclic', tol=0.0001, warm_start=False)"
      ]
     },
     "execution_count": 52,
     "metadata": {},
     "output_type": "execute_result"
    },
    {
     "name": "stdout",
     "output_type": "stream",
     "text": [
      "Train Score: 0.6528237087845414\n",
      "Test Score: 0.6769644413478716\n"
     ]
    }
   ],
   "source": [
    "lasso_Regressor1 = Lasso(alpha = 100)\n",
    "lasso_Regressor1.fit(X_train_scaled, y_train)\n",
    "print(\"Train Score:\",lasso_Regressor1.score(X_train_scaled, y_train))\n",
    "print(\"Test Score:\",lasso_Regressor1.score(X_test_scaled, y_test))"
   ]
  },
  {
   "cell_type": "code",
   "execution_count": 53,
   "metadata": {},
   "outputs": [
    {
     "name": "stdout",
     "output_type": "stream",
     "text": [
      "Cross-validation scores:\n",
      " [0.66158108 0.54649563 0.75900688 0.63128322 0.6004051  0.68043359\n",
      " 0.54658709 0.55349111 0.57565291 0.62120842]\n",
      "average score: 0.6176145027115537\n"
     ]
    }
   ],
   "source": [
    "#Cross Validation\n",
    "kfold_lasso = KFold(n_splits=10)\n",
    "print(\"Cross-validation scores:\\n\",cross_val_score(lasso_Regressor1 , X_train_scaled, y_train, cv=kfold))\n",
    "scores = cross_val_score(lasso_Regressor1 , X_train_scaled, y_train, cv=kfold)\n",
    "print(\"average score:\",np.mean(scores))"
   ]
  },
  {
   "cell_type": "code",
   "execution_count": 54,
   "metadata": {},
   "outputs": [
    {
     "name": "stdout",
     "output_type": "stream",
     "text": [
      "   mean_fit_time  std_fit_time  mean_score_time  std_score_time param_alpha  \\\n",
      "0       0.011264      0.003064         0.000768        0.000386        0.01   \n",
      "1       0.010031      0.002935         0.001139        0.000511         0.1   \n",
      "2       0.011221      0.004025         0.001039        0.000081           1   \n",
      "3       0.008805      0.003224         0.001167        0.000335          10   \n",
      "4       0.005975      0.001668         0.001228        0.000391         100   \n",
      "5       0.003078      0.000185         0.001336        0.000387        1000   \n",
      "\n",
      "            params  split0_test_score  split1_test_score  split2_test_score  \\\n",
      "0  {'alpha': 0.01}           0.606689           0.715717           0.625591   \n",
      "1   {'alpha': 0.1}           0.606689           0.715719           0.625592   \n",
      "2     {'alpha': 1}           0.606687           0.715729           0.625602   \n",
      "3    {'alpha': 10}           0.606661           0.715831           0.625692   \n",
      "4   {'alpha': 100}           0.606399           0.716768           0.626527   \n",
      "5  {'alpha': 1000}           0.603398           0.717731           0.629275   \n",
      "\n",
      "   split3_test_score  ...  mean_test_score  std_test_score  rank_test_score  \\\n",
      "0           0.549985  ...         0.619899        0.054063                6   \n",
      "1           0.549985  ...         0.619900        0.054063                5   \n",
      "2           0.549989  ...         0.619903        0.054067                4   \n",
      "3           0.550023  ...         0.619934        0.054101                3   \n",
      "4           0.550397  ...         0.620147        0.054426                2   \n",
      "5           0.553356  ...         0.620713        0.054332                1   \n",
      "\n",
      "   split0_train_score  split1_train_score  split2_train_score  \\\n",
      "0            0.657610            0.629769            0.651165   \n",
      "1            0.657610            0.629769            0.651165   \n",
      "2            0.657610            0.629769            0.651165   \n",
      "3            0.657610            0.629769            0.651164   \n",
      "4            0.657589            0.629724            0.651119   \n",
      "5            0.656317            0.627139            0.649271   \n",
      "\n",
      "   split3_train_score  split4_train_score  mean_train_score  std_train_score  \n",
      "0            0.673286            0.660715          0.654509         0.014310  \n",
      "1            0.673286            0.660715          0.654509         0.014310  \n",
      "2            0.673286            0.660715          0.654509         0.014310  \n",
      "3            0.673286            0.660715          0.654509         0.014311  \n",
      "4            0.673264            0.660704          0.654480         0.014320  \n",
      "5            0.671610            0.660478          0.652963         0.014805  \n",
      "\n",
      "[6 rows x 21 columns]\n"
     ]
    }
   ],
   "source": [
    "#grid parameters\n",
    "lassoReg_result=pd.DataFrame(grid_search_lassoReg.cv_results_)\n",
    "print(lassoReg_result)"
   ]
  },
  {
   "cell_type": "markdown",
   "metadata": {},
   "source": [
    "###### Best cross-validation score: 0.62648\n",
    "\n",
    "Train Score: 0.656\n",
    "Test Score: 0.675"
   ]
  },
  {
   "cell_type": "markdown",
   "metadata": {},
   "source": [
    "# Polynomial Regression"
   ]
  },
  {
   "cell_type": "code",
   "execution_count": 55,
   "metadata": {},
   "outputs": [],
   "source": [
    "from sklearn.preprocessing import PolynomialFeatures\n",
    "from sklearn.linear_model import LinearRegression\n",
    "from sklearn.pipeline import make_pipeline\n",
    "\n",
    "def PolynomialRegression(degree=2, **kwargs):\n",
    "    return make_pipeline(PolynomialFeatures(degree),\n",
    "                         LinearRegression(**kwargs))"
   ]
  },
  {
   "cell_type": "code",
   "execution_count": 56,
   "metadata": {},
   "outputs": [],
   "source": [
    "param_grid_poly = {'polynomialfeatures__degree': np.arange(3)}\n",
    "\n",
    "grid_poly = GridSearchCV(PolynomialRegression(), param_grid_poly,return_train_score=True,n_jobs=-1,cv=5)"
   ]
  },
  {
   "cell_type": "code",
   "execution_count": 57,
   "metadata": {},
   "outputs": [
    {
     "data": {
      "text/plain": [
       "GridSearchCV(cv=5, error_score='raise-deprecating',\n",
       "             estimator=Pipeline(memory=None,\n",
       "                                steps=[('polynomialfeatures',\n",
       "                                        PolynomialFeatures(degree=2,\n",
       "                                                           include_bias=True,\n",
       "                                                           interaction_only=False,\n",
       "                                                           order='C')),\n",
       "                                       ('linearregression',\n",
       "                                        LinearRegression(copy_X=True,\n",
       "                                                         fit_intercept=True,\n",
       "                                                         n_jobs=None,\n",
       "                                                         normalize=False))],\n",
       "                                verbose=False),\n",
       "             iid='warn', n_jobs=-1,\n",
       "             param_grid={'polynomialfeatures__degree': array([0, 1, 2])},\n",
       "             pre_dispatch='2*n_jobs', refit=True, return_train_score=True,\n",
       "             scoring=None, verbose=0)"
      ]
     },
     "execution_count": 57,
     "metadata": {},
     "output_type": "execute_result"
    }
   ],
   "source": [
    "grid_poly.fit(X_train_scaled, y_train)"
   ]
  },
  {
   "cell_type": "code",
   "execution_count": 58,
   "metadata": {},
   "outputs": [
    {
     "name": "stdout",
     "output_type": "stream",
     "text": [
      "Best parameters: {'polynomialfeatures__degree': 1}\n",
      "Best cross-validation score:  0.6198992773751041\n"
     ]
    }
   ],
   "source": [
    "print(\"Best parameters:\",grid_poly.best_params_)\n",
    "print(\"Best cross-validation score: \",grid_poly.best_score_)"
   ]
  },
  {
   "cell_type": "code",
   "execution_count": 59,
   "metadata": {},
   "outputs": [
    {
     "data": {
      "text/plain": [
       "LinearRegression(copy_X=True, fit_intercept=True, n_jobs=None, normalize=False)"
      ]
     },
     "execution_count": 59,
     "metadata": {},
     "output_type": "execute_result"
    },
    {
     "name": "stdout",
     "output_type": "stream",
     "text": [
      "Train Score: 0.6528506809785037\n",
      "Test score: 0.6765165394748482\n"
     ]
    }
   ],
   "source": [
    "pol = PolynomialFeatures(degree = 1)\n",
    "X_pol = pol.fit_transform(X_train_scaled)\n",
    "Xt_pol = pol.fit_transform(X_test_scaled)\n",
    "pol_reg = LinearRegression()\n",
    "pol_reg.fit(X_pol,y_train)\n",
    "print(\"Train Score:\",pol_reg.score(X_pol, y_train))\n",
    "print(\"Test score:\" ,pol_reg.score(Xt_pol, y_test))"
   ]
  },
  {
   "cell_type": "code",
   "execution_count": 60,
   "metadata": {},
   "outputs": [
    {
     "name": "stdout",
     "output_type": "stream",
     "text": [
      "Cross-validation scores:\n",
      "[0.66182373 0.54670168 0.75929092 0.62929461 0.60028234 0.67853562\n",
      " 0.54635855 0.55279378 0.57548276 0.62376326]\n",
      "0.6174327250999958\n"
     ]
    }
   ],
   "source": [
    "from sklearn.model_selection import KFold\n",
    "from sklearn.model_selection import cross_val_score\n",
    "\n",
    "  \n",
    "kfold = KFold(n_splits=10)\n",
    "print(\"Cross-validation scores:\\n{}\".format(cross_val_score(pol_reg , X_pol, y_train, cv=kfold)))\n",
    "scores = cross_val_score(pol_reg , X_pol, y_train, cv=kfold)\n",
    "print(np.mean(scores))"
   ]
  },
  {
   "cell_type": "code",
   "execution_count": 61,
   "metadata": {},
   "outputs": [
    {
     "data": {
      "text/html": [
       "<div>\n",
       "<style scoped>\n",
       "    .dataframe tbody tr th:only-of-type {\n",
       "        vertical-align: middle;\n",
       "    }\n",
       "\n",
       "    .dataframe tbody tr th {\n",
       "        vertical-align: top;\n",
       "    }\n",
       "\n",
       "    .dataframe thead th {\n",
       "        text-align: right;\n",
       "    }\n",
       "</style>\n",
       "<table border=\"1\" class=\"dataframe\">\n",
       "  <thead>\n",
       "    <tr style=\"text-align: right;\">\n",
       "      <th></th>\n",
       "      <th>mean_fit_time</th>\n",
       "      <th>std_fit_time</th>\n",
       "      <th>mean_score_time</th>\n",
       "      <th>std_score_time</th>\n",
       "      <th>param_polynomialfeatures__degree</th>\n",
       "      <th>params</th>\n",
       "      <th>split0_test_score</th>\n",
       "      <th>split1_test_score</th>\n",
       "      <th>split2_test_score</th>\n",
       "      <th>split3_test_score</th>\n",
       "      <th>...</th>\n",
       "      <th>mean_test_score</th>\n",
       "      <th>std_test_score</th>\n",
       "      <th>rank_test_score</th>\n",
       "      <th>split0_train_score</th>\n",
       "      <th>split1_train_score</th>\n",
       "      <th>split2_train_score</th>\n",
       "      <th>split3_train_score</th>\n",
       "      <th>split4_train_score</th>\n",
       "      <th>mean_train_score</th>\n",
       "      <th>std_train_score</th>\n",
       "    </tr>\n",
       "  </thead>\n",
       "  <tbody>\n",
       "    <tr>\n",
       "      <td>0</td>\n",
       "      <td>0.006392</td>\n",
       "      <td>0.001030</td>\n",
       "      <td>0.002194</td>\n",
       "      <td>0.000399</td>\n",
       "      <td>0</td>\n",
       "      <td>{'polynomialfeatures__degree': 0}</td>\n",
       "      <td>-3.059033e-02</td>\n",
       "      <td>-1.459342e-02</td>\n",
       "      <td>-1.534805e-02</td>\n",
       "      <td>-4.421730e-03</td>\n",
       "      <td>...</td>\n",
       "      <td>-1.403640e-02</td>\n",
       "      <td>9.445472e-03</td>\n",
       "      <td>2</td>\n",
       "      <td>0.000000</td>\n",
       "      <td>0.000000</td>\n",
       "      <td>0.000000</td>\n",
       "      <td>0.000000</td>\n",
       "      <td>0.000000</td>\n",
       "      <td>0.000000</td>\n",
       "      <td>0.000000</td>\n",
       "    </tr>\n",
       "    <tr>\n",
       "      <td>1</td>\n",
       "      <td>0.012203</td>\n",
       "      <td>0.002638</td>\n",
       "      <td>0.002826</td>\n",
       "      <td>0.000767</td>\n",
       "      <td>1</td>\n",
       "      <td>{'polynomialfeatures__degree': 1}</td>\n",
       "      <td>6.066895e-01</td>\n",
       "      <td>7.157174e-01</td>\n",
       "      <td>6.255914e-01</td>\n",
       "      <td>5.499848e-01</td>\n",
       "      <td>...</td>\n",
       "      <td>6.198993e-01</td>\n",
       "      <td>5.406307e-02</td>\n",
       "      <td>1</td>\n",
       "      <td>0.657610</td>\n",
       "      <td>0.629769</td>\n",
       "      <td>0.651165</td>\n",
       "      <td>0.673286</td>\n",
       "      <td>0.660715</td>\n",
       "      <td>0.654509</td>\n",
       "      <td>0.014310</td>\n",
       "    </tr>\n",
       "    <tr>\n",
       "      <td>2</td>\n",
       "      <td>0.023867</td>\n",
       "      <td>0.008541</td>\n",
       "      <td>0.005846</td>\n",
       "      <td>0.002036</td>\n",
       "      <td>2</td>\n",
       "      <td>{'polynomialfeatures__degree': 2}</td>\n",
       "      <td>-3.100133e+18</td>\n",
       "      <td>-7.861143e+21</td>\n",
       "      <td>-7.767148e+19</td>\n",
       "      <td>-2.002185e+22</td>\n",
       "      <td>...</td>\n",
       "      <td>-5.592753e+21</td>\n",
       "      <td>7.826667e+21</td>\n",
       "      <td>3</td>\n",
       "      <td>0.802902</td>\n",
       "      <td>0.789929</td>\n",
       "      <td>0.780882</td>\n",
       "      <td>0.814879</td>\n",
       "      <td>0.802135</td>\n",
       "      <td>0.798145</td>\n",
       "      <td>0.011697</td>\n",
       "    </tr>\n",
       "  </tbody>\n",
       "</table>\n",
       "<p>3 rows × 21 columns</p>\n",
       "</div>"
      ],
      "text/plain": [
       "   mean_fit_time  std_fit_time  mean_score_time  std_score_time  \\\n",
       "0       0.006392      0.001030         0.002194        0.000399   \n",
       "1       0.012203      0.002638         0.002826        0.000767   \n",
       "2       0.023867      0.008541         0.005846        0.002036   \n",
       "\n",
       "  param_polynomialfeatures__degree                             params  \\\n",
       "0                                0  {'polynomialfeatures__degree': 0}   \n",
       "1                                1  {'polynomialfeatures__degree': 1}   \n",
       "2                                2  {'polynomialfeatures__degree': 2}   \n",
       "\n",
       "   split0_test_score  split1_test_score  split2_test_score  split3_test_score  \\\n",
       "0      -3.059033e-02      -1.459342e-02      -1.534805e-02      -4.421730e-03   \n",
       "1       6.066895e-01       7.157174e-01       6.255914e-01       5.499848e-01   \n",
       "2      -3.100133e+18      -7.861143e+21      -7.767148e+19      -2.002185e+22   \n",
       "\n",
       "   ...  mean_test_score  std_test_score  rank_test_score  split0_train_score  \\\n",
       "0  ...    -1.403640e-02    9.445472e-03                2            0.000000   \n",
       "1  ...     6.198993e-01    5.406307e-02                1            0.657610   \n",
       "2  ...    -5.592753e+21    7.826667e+21                3            0.802902   \n",
       "\n",
       "   split1_train_score  split2_train_score  split3_train_score  \\\n",
       "0            0.000000            0.000000            0.000000   \n",
       "1            0.629769            0.651165            0.673286   \n",
       "2            0.789929            0.780882            0.814879   \n",
       "\n",
       "   split4_train_score  mean_train_score  std_train_score  \n",
       "0            0.000000          0.000000         0.000000  \n",
       "1            0.660715          0.654509         0.014310  \n",
       "2            0.802135          0.798145         0.011697  \n",
       "\n",
       "[3 rows x 21 columns]"
      ]
     },
     "execution_count": 61,
     "metadata": {},
     "output_type": "execute_result"
    }
   ],
   "source": [
    "result_poly = pd.DataFrame(grid_poly.cv_results_)\n",
    "result_poly"
   ]
  },
  {
   "cell_type": "code",
   "execution_count": 62,
   "metadata": {},
   "outputs": [
    {
     "data": {
      "text/plain": [
       "[<matplotlib.lines.Line2D at 0x1fc70fba248>]"
      ]
     },
     "execution_count": 62,
     "metadata": {},
     "output_type": "execute_result"
    },
    {
     "data": {
      "text/plain": [
       "[<matplotlib.lines.Line2D at 0x1fc70fda688>]"
      ]
     },
     "execution_count": 62,
     "metadata": {},
     "output_type": "execute_result"
    },
    {
     "data": {
      "text/plain": [
       "([<matplotlib.axis.XTick at 0x1fc711bf948>,\n",
       "  <matplotlib.axis.XTick at 0x1fc70c13548>,\n",
       "  <matplotlib.axis.XTick at 0x1fc70b91608>],\n",
       " <a list of 3 Text xticklabel objects>)"
      ]
     },
     "execution_count": 62,
     "metadata": {},
     "output_type": "execute_result"
    },
    {
     "data": {
      "text/plain": [
       "[<matplotlib.lines.Line2D at 0x1fc71005288>]"
      ]
     },
     "execution_count": 62,
     "metadata": {},
     "output_type": "execute_result"
    },
    {
     "data": {
      "text/plain": [
       "[<matplotlib.lines.Line2D at 0x1fc6e209288>]"
      ]
     },
     "execution_count": 62,
     "metadata": {},
     "output_type": "execute_result"
    },
    {
     "data": {
      "text/plain": [
       "Text(0.5, 0, 'Degree')"
      ]
     },
     "execution_count": 62,
     "metadata": {},
     "output_type": "execute_result"
    },
    {
     "data": {
      "text/plain": [
       "<matplotlib.legend.Legend at 0x1fc71041348>"
      ]
     },
     "execution_count": 62,
     "metadata": {},
     "output_type": "execute_result"
    },
    {
     "data": {
      "image/png": "[encoded data removed]",
      "text/plain": [
       "<Figure size 432x288 with 1 Axes>"
      ]
     },
     "metadata": {
      "needs_background": "light"
     },
     "output_type": "display_data"
    }
   ],
   "source": [
    "plt.plot(range(result_poly.shape[0]), result_poly['mean_train_score'], label = 'mean train score')\n",
    "plt.plot(range(result_poly.shape[0]), result_poly['mean_test_score'], label = 'mean test score')\n",
    "plt.xticks(range(result_poly.shape[0]), result_poly['param_polynomialfeatures__degree'], rotation = 90)\n",
    "plt.plot([grid_poly.best_index_], result_poly['mean_train_score'][grid_poly.best_index_], 'o', markersize = 10, fillstyle = \"none\")\n",
    "plt.plot([grid_poly.best_index_], result_poly['mean_test_score'][grid_poly.best_index_], 'o', markersize = 10, fillstyle = \"none\")\n",
    "plt.grid()\n",
    "plt.xlabel('Degree')\n",
    "plt.legend()"
   ]
  },
  {
   "cell_type": "markdown",
   "metadata": {},
   "source": [
    "##### Best cross-validation score: 0.6264\n",
    "\n",
    "Train Score: 0.656\n",
    "Test score: 0.675"
   ]
  },
  {
   "cell_type": "markdown",
   "metadata": {},
   "source": [
    "# Linear SVR"
   ]
  },
  {
   "cell_type": "code",
   "execution_count": 63,
   "metadata": {},
   "outputs": [
    {
     "data": {
      "text/plain": [
       "GridSearchCV(cv=10, error_score='raise-deprecating',\n",
       "             estimator=LinearSVR(C=1.0, dual=True, epsilon=0.0,\n",
       "                                 fit_intercept=True, intercept_scaling=1.0,\n",
       "                                 loss='epsilon_insensitive', max_iter=1000,\n",
       "                                 random_state=None, tol=0.0001, verbose=0),\n",
       "             iid='warn', n_jobs=-1,\n",
       "             param_grid={'C': [0.01, 0.1, 1, 10, 100],\n",
       "                         'epsilon': [0.01, 0.1, 1, 10, 100]},\n",
       "             pre_dispatch='2*n_jobs', refit=True, return_train_score=True,\n",
       "             scoring=None, verbose=0)"
      ]
     },
     "execution_count": 63,
     "metadata": {},
     "output_type": "execute_result"
    }
   ],
   "source": [
    "grid_parms_svrl = {'C': [0.01, 0.1, 1, 10, 100], 'epsilon' : [0.01, 0.1, 1, 10, 100]}\n",
    "linearsvr = LinearSVR()\n",
    "grid_svrl = GridSearchCV(estimator = linearsvr,param_grid = grid_parms_svrl,return_train_score=True,n_jobs= -1,cv=10)\n",
    "grid_svrl.fit(X_train_scaled,y_train)"
   ]
  },
  {
   "cell_type": "code",
   "execution_count": 64,
   "metadata": {},
   "outputs": [
    {
     "name": "stdout",
     "output_type": "stream",
     "text": [
      "Best parameters: {'C': 100, 'epsilon': 0.1}\n",
      "Best cross-validation score: -1.6033\n"
     ]
    }
   ],
   "source": [
    "print(\"Best parameters: {}\".format(grid_svrl.best_params_))\n",
    "print(\"Best cross-validation score: {:.4f}\".format(grid_svrl.best_score_))"
   ]
  },
  {
   "cell_type": "code",
   "execution_count": 65,
   "metadata": {},
   "outputs": [
    {
     "data": {
      "text/plain": [
       "LinearSVR(C=100, dual=True, epsilon=100, fit_intercept=True,\n",
       "          intercept_scaling=1.0, loss='epsilon_insensitive', max_iter=1000,\n",
       "          random_state=None, tol=0.0001, verbose=0)"
      ]
     },
     "execution_count": 65,
     "metadata": {},
     "output_type": "execute_result"
    },
    {
     "name": "stdout",
     "output_type": "stream",
     "text": [
      "-1.3840267483660744\n",
      "-1.3355419200083096\n"
     ]
    }
   ],
   "source": [
    "lsvr = LinearSVR(C = 100, epsilon = 100)\n",
    "        \n",
    "lsvr.fit(X_train_scaled, y_train)\n",
    "\n",
    "print(lsvr.score(X_train_scaled, y_train))\n",
    "print(lsvr.score(X_test_scaled, y_test))"
   ]
  },
  {
   "cell_type": "code",
   "execution_count": 66,
   "metadata": {},
   "outputs": [
    {
     "data": {
      "text/plain": [
       "LinearSVR(C=100, dual=True, epsilon=100, fit_intercept=True,\n",
       "          intercept_scaling=1.0, loss='epsilon_insensitive', max_iter=1000,\n",
       "          random_state=None, tol=0.0001, verbose=0)"
      ]
     },
     "execution_count": 66,
     "metadata": {},
     "output_type": "execute_result"
    },
    {
     "name": "stdout",
     "output_type": "stream",
     "text": [
      "Train Score: -1.3840267483660744\n",
      "Test Score -1.3355419200083096\n"
     ]
    }
   ],
   "source": [
    "lsvr = LinearSVR(C = 100, epsilon = 100)\n",
    "        \n",
    "lsvr.fit(X_train_scaled, y_train)\n",
    "\n",
    "print(\"Train Score:\",lsvr.score(X_train_scaled, y_train))\n",
    "print(\"Test Score\",lsvr.score(X_test_scaled, y_test))"
   ]
  },
  {
   "cell_type": "code",
   "execution_count": 67,
   "metadata": {},
   "outputs": [
    {
     "data": {
      "text/html": [
       "<div>\n",
       "<style scoped>\n",
       "    .dataframe tbody tr th:only-of-type {\n",
       "        vertical-align: middle;\n",
       "    }\n",
       "\n",
       "    .dataframe tbody tr th {\n",
       "        vertical-align: top;\n",
       "    }\n",
       "\n",
       "    .dataframe thead th {\n",
       "        text-align: right;\n",
       "    }\n",
       "</style>\n",
       "<table border=\"1\" class=\"dataframe\">\n",
       "  <thead>\n",
       "    <tr style=\"text-align: right;\">\n",
       "      <th></th>\n",
       "      <th>mean_fit_time</th>\n",
       "      <th>std_fit_time</th>\n",
       "      <th>mean_score_time</th>\n",
       "      <th>std_score_time</th>\n",
       "      <th>param_C</th>\n",
       "      <th>param_epsilon</th>\n",
       "      <th>params</th>\n",
       "      <th>split0_test_score</th>\n",
       "      <th>split1_test_score</th>\n",
       "      <th>split2_test_score</th>\n",
       "      <th>...</th>\n",
       "      <th>split2_train_score</th>\n",
       "      <th>split3_train_score</th>\n",
       "      <th>split4_train_score</th>\n",
       "      <th>split5_train_score</th>\n",
       "      <th>split6_train_score</th>\n",
       "      <th>split7_train_score</th>\n",
       "      <th>split8_train_score</th>\n",
       "      <th>split9_train_score</th>\n",
       "      <th>mean_train_score</th>\n",
       "      <th>std_train_score</th>\n",
       "    </tr>\n",
       "  </thead>\n",
       "  <tbody>\n",
       "    <tr>\n",
       "      <td>0</td>\n",
       "      <td>0.001900</td>\n",
       "      <td>0.000371</td>\n",
       "      <td>0.000854</td>\n",
       "      <td>0.000434</td>\n",
       "      <td>0.01</td>\n",
       "      <td>0.01</td>\n",
       "      <td>{'C': 0.01, 'epsilon': 0.01}</td>\n",
       "      <td>-2.660054</td>\n",
       "      <td>-3.203554</td>\n",
       "      <td>-1.881664</td>\n",
       "      <td>...</td>\n",
       "      <td>-2.399062</td>\n",
       "      <td>-2.250357</td>\n",
       "      <td>-2.408904</td>\n",
       "      <td>-2.330488</td>\n",
       "      <td>-2.345606</td>\n",
       "      <td>-2.254158</td>\n",
       "      <td>-2.343120</td>\n",
       "      <td>-2.259438</td>\n",
       "      <td>-2.313703</td>\n",
       "      <td>0.057831</td>\n",
       "    </tr>\n",
       "    <tr>\n",
       "      <td>1</td>\n",
       "      <td>0.001990</td>\n",
       "      <td>0.000576</td>\n",
       "      <td>0.001314</td>\n",
       "      <td>0.000466</td>\n",
       "      <td>0.01</td>\n",
       "      <td>0.1</td>\n",
       "      <td>{'C': 0.01, 'epsilon': 0.1}</td>\n",
       "      <td>-2.660054</td>\n",
       "      <td>-3.203554</td>\n",
       "      <td>-1.881664</td>\n",
       "      <td>...</td>\n",
       "      <td>-2.399062</td>\n",
       "      <td>-2.250357</td>\n",
       "      <td>-2.408904</td>\n",
       "      <td>-2.330488</td>\n",
       "      <td>-2.345606</td>\n",
       "      <td>-2.254158</td>\n",
       "      <td>-2.343120</td>\n",
       "      <td>-2.259438</td>\n",
       "      <td>-2.313703</td>\n",
       "      <td>0.057831</td>\n",
       "    </tr>\n",
       "    <tr>\n",
       "      <td>2</td>\n",
       "      <td>0.002307</td>\n",
       "      <td>0.000472</td>\n",
       "      <td>0.001597</td>\n",
       "      <td>0.000489</td>\n",
       "      <td>0.01</td>\n",
       "      <td>1</td>\n",
       "      <td>{'C': 0.01, 'epsilon': 1}</td>\n",
       "      <td>-2.660054</td>\n",
       "      <td>-3.203554</td>\n",
       "      <td>-1.881664</td>\n",
       "      <td>...</td>\n",
       "      <td>-2.399062</td>\n",
       "      <td>-2.250357</td>\n",
       "      <td>-2.408904</td>\n",
       "      <td>-2.330488</td>\n",
       "      <td>-2.345606</td>\n",
       "      <td>-2.254158</td>\n",
       "      <td>-2.343120</td>\n",
       "      <td>-2.259438</td>\n",
       "      <td>-2.313703</td>\n",
       "      <td>0.057831</td>\n",
       "    </tr>\n",
       "    <tr>\n",
       "      <td>3</td>\n",
       "      <td>0.002651</td>\n",
       "      <td>0.000529</td>\n",
       "      <td>0.001405</td>\n",
       "      <td>0.000494</td>\n",
       "      <td>0.01</td>\n",
       "      <td>10</td>\n",
       "      <td>{'C': 0.01, 'epsilon': 10}</td>\n",
       "      <td>-2.660054</td>\n",
       "      <td>-3.203554</td>\n",
       "      <td>-1.881664</td>\n",
       "      <td>...</td>\n",
       "      <td>-2.399062</td>\n",
       "      <td>-2.250357</td>\n",
       "      <td>-2.408904</td>\n",
       "      <td>-2.330488</td>\n",
       "      <td>-2.345606</td>\n",
       "      <td>-2.254158</td>\n",
       "      <td>-2.343120</td>\n",
       "      <td>-2.259438</td>\n",
       "      <td>-2.313703</td>\n",
       "      <td>0.057831</td>\n",
       "    </tr>\n",
       "    <tr>\n",
       "      <td>4</td>\n",
       "      <td>0.002186</td>\n",
       "      <td>0.000679</td>\n",
       "      <td>0.001440</td>\n",
       "      <td>0.000495</td>\n",
       "      <td>0.01</td>\n",
       "      <td>100</td>\n",
       "      <td>{'C': 0.01, 'epsilon': 100}</td>\n",
       "      <td>-2.660054</td>\n",
       "      <td>-3.203554</td>\n",
       "      <td>-1.881664</td>\n",
       "      <td>...</td>\n",
       "      <td>-2.399062</td>\n",
       "      <td>-2.250357</td>\n",
       "      <td>-2.408904</td>\n",
       "      <td>-2.330488</td>\n",
       "      <td>-2.345606</td>\n",
       "      <td>-2.254158</td>\n",
       "      <td>-2.343120</td>\n",
       "      <td>-2.259438</td>\n",
       "      <td>-2.313703</td>\n",
       "      <td>0.057831</td>\n",
       "    </tr>\n",
       "    <tr>\n",
       "      <td>5</td>\n",
       "      <td>0.002822</td>\n",
       "      <td>0.000449</td>\n",
       "      <td>0.001777</td>\n",
       "      <td>0.000307</td>\n",
       "      <td>0.1</td>\n",
       "      <td>0.01</td>\n",
       "      <td>{'C': 0.1, 'epsilon': 0.01}</td>\n",
       "      <td>-2.659001</td>\n",
       "      <td>-3.202346</td>\n",
       "      <td>-1.881081</td>\n",
       "      <td>...</td>\n",
       "      <td>-2.398192</td>\n",
       "      <td>-2.249546</td>\n",
       "      <td>-2.408074</td>\n",
       "      <td>-2.329642</td>\n",
       "      <td>-2.344731</td>\n",
       "      <td>-2.253329</td>\n",
       "      <td>-2.342252</td>\n",
       "      <td>-2.258626</td>\n",
       "      <td>-2.312864</td>\n",
       "      <td>0.057814</td>\n",
       "    </tr>\n",
       "    <tr>\n",
       "      <td>6</td>\n",
       "      <td>0.002252</td>\n",
       "      <td>0.000601</td>\n",
       "      <td>0.001416</td>\n",
       "      <td>0.000474</td>\n",
       "      <td>0.1</td>\n",
       "      <td>0.1</td>\n",
       "      <td>{'C': 0.1, 'epsilon': 0.1}</td>\n",
       "      <td>-2.659001</td>\n",
       "      <td>-3.202346</td>\n",
       "      <td>-1.881081</td>\n",
       "      <td>...</td>\n",
       "      <td>-2.398192</td>\n",
       "      <td>-2.249546</td>\n",
       "      <td>-2.408074</td>\n",
       "      <td>-2.329642</td>\n",
       "      <td>-2.344731</td>\n",
       "      <td>-2.253329</td>\n",
       "      <td>-2.342252</td>\n",
       "      <td>-2.258626</td>\n",
       "      <td>-2.312864</td>\n",
       "      <td>0.057814</td>\n",
       "    </tr>\n",
       "    <tr>\n",
       "      <td>7</td>\n",
       "      <td>0.002701</td>\n",
       "      <td>0.000444</td>\n",
       "      <td>0.001905</td>\n",
       "      <td>0.000309</td>\n",
       "      <td>0.1</td>\n",
       "      <td>1</td>\n",
       "      <td>{'C': 0.1, 'epsilon': 1}</td>\n",
       "      <td>-2.659001</td>\n",
       "      <td>-3.202346</td>\n",
       "      <td>-1.881081</td>\n",
       "      <td>...</td>\n",
       "      <td>-2.398192</td>\n",
       "      <td>-2.249546</td>\n",
       "      <td>-2.408074</td>\n",
       "      <td>-2.329642</td>\n",
       "      <td>-2.344731</td>\n",
       "      <td>-2.253329</td>\n",
       "      <td>-2.342252</td>\n",
       "      <td>-2.258626</td>\n",
       "      <td>-2.312864</td>\n",
       "      <td>0.057814</td>\n",
       "    </tr>\n",
       "    <tr>\n",
       "      <td>8</td>\n",
       "      <td>0.002793</td>\n",
       "      <td>0.000399</td>\n",
       "      <td>0.001620</td>\n",
       "      <td>0.000411</td>\n",
       "      <td>0.1</td>\n",
       "      <td>10</td>\n",
       "      <td>{'C': 0.1, 'epsilon': 10}</td>\n",
       "      <td>-2.659001</td>\n",
       "      <td>-3.202346</td>\n",
       "      <td>-1.881081</td>\n",
       "      <td>...</td>\n",
       "      <td>-2.398192</td>\n",
       "      <td>-2.249546</td>\n",
       "      <td>-2.408074</td>\n",
       "      <td>-2.329642</td>\n",
       "      <td>-2.344731</td>\n",
       "      <td>-2.253329</td>\n",
       "      <td>-2.342252</td>\n",
       "      <td>-2.258626</td>\n",
       "      <td>-2.312864</td>\n",
       "      <td>0.057814</td>\n",
       "    </tr>\n",
       "    <tr>\n",
       "      <td>9</td>\n",
       "      <td>0.003146</td>\n",
       "      <td>0.000516</td>\n",
       "      <td>0.001581</td>\n",
       "      <td>0.000453</td>\n",
       "      <td>0.1</td>\n",
       "      <td>100</td>\n",
       "      <td>{'C': 0.1, 'epsilon': 100}</td>\n",
       "      <td>-2.659001</td>\n",
       "      <td>-3.202346</td>\n",
       "      <td>-1.881081</td>\n",
       "      <td>...</td>\n",
       "      <td>-2.398192</td>\n",
       "      <td>-2.249546</td>\n",
       "      <td>-2.408074</td>\n",
       "      <td>-2.329642</td>\n",
       "      <td>-2.344731</td>\n",
       "      <td>-2.253329</td>\n",
       "      <td>-2.342252</td>\n",
       "      <td>-2.258626</td>\n",
       "      <td>-2.312864</td>\n",
       "      <td>0.057814</td>\n",
       "    </tr>\n",
       "    <tr>\n",
       "      <td>10</td>\n",
       "      <td>0.002986</td>\n",
       "      <td>0.000518</td>\n",
       "      <td>0.002004</td>\n",
       "      <td>0.000049</td>\n",
       "      <td>1</td>\n",
       "      <td>0.01</td>\n",
       "      <td>{'C': 1, 'epsilon': 0.01}</td>\n",
       "      <td>-2.648486</td>\n",
       "      <td>-3.190280</td>\n",
       "      <td>-1.875262</td>\n",
       "      <td>...</td>\n",
       "      <td>-2.389497</td>\n",
       "      <td>-2.241441</td>\n",
       "      <td>-2.399777</td>\n",
       "      <td>-2.321184</td>\n",
       "      <td>-2.335990</td>\n",
       "      <td>-2.245053</td>\n",
       "      <td>-2.333577</td>\n",
       "      <td>-2.250515</td>\n",
       "      <td>-2.304488</td>\n",
       "      <td>0.057648</td>\n",
       "    </tr>\n",
       "    <tr>\n",
       "      <td>11</td>\n",
       "      <td>0.002991</td>\n",
       "      <td>0.000378</td>\n",
       "      <td>0.001799</td>\n",
       "      <td>0.000576</td>\n",
       "      <td>1</td>\n",
       "      <td>0.1</td>\n",
       "      <td>{'C': 1, 'epsilon': 0.1}</td>\n",
       "      <td>-2.648486</td>\n",
       "      <td>-3.190280</td>\n",
       "      <td>-1.875262</td>\n",
       "      <td>...</td>\n",
       "      <td>-2.389497</td>\n",
       "      <td>-2.241441</td>\n",
       "      <td>-2.399777</td>\n",
       "      <td>-2.321184</td>\n",
       "      <td>-2.335990</td>\n",
       "      <td>-2.245053</td>\n",
       "      <td>-2.333577</td>\n",
       "      <td>-2.250515</td>\n",
       "      <td>-2.304488</td>\n",
       "      <td>0.057648</td>\n",
       "    </tr>\n",
       "    <tr>\n",
       "      <td>12</td>\n",
       "      <td>0.002891</td>\n",
       "      <td>0.000552</td>\n",
       "      <td>0.001211</td>\n",
       "      <td>0.000402</td>\n",
       "      <td>1</td>\n",
       "      <td>1</td>\n",
       "      <td>{'C': 1, 'epsilon': 1}</td>\n",
       "      <td>-2.648486</td>\n",
       "      <td>-3.190280</td>\n",
       "      <td>-1.875262</td>\n",
       "      <td>...</td>\n",
       "      <td>-2.389497</td>\n",
       "      <td>-2.241441</td>\n",
       "      <td>-2.399777</td>\n",
       "      <td>-2.321184</td>\n",
       "      <td>-2.335990</td>\n",
       "      <td>-2.245053</td>\n",
       "      <td>-2.333577</td>\n",
       "      <td>-2.250515</td>\n",
       "      <td>-2.304488</td>\n",
       "      <td>0.057648</td>\n",
       "    </tr>\n",
       "    <tr>\n",
       "      <td>13</td>\n",
       "      <td>0.002958</td>\n",
       "      <td>0.000068</td>\n",
       "      <td>0.001793</td>\n",
       "      <td>0.000598</td>\n",
       "      <td>1</td>\n",
       "      <td>10</td>\n",
       "      <td>{'C': 1, 'epsilon': 10}</td>\n",
       "      <td>-2.648486</td>\n",
       "      <td>-3.190280</td>\n",
       "      <td>-1.875262</td>\n",
       "      <td>...</td>\n",
       "      <td>-2.389497</td>\n",
       "      <td>-2.241441</td>\n",
       "      <td>-2.399777</td>\n",
       "      <td>-2.321184</td>\n",
       "      <td>-2.335990</td>\n",
       "      <td>-2.245053</td>\n",
       "      <td>-2.333577</td>\n",
       "      <td>-2.250515</td>\n",
       "      <td>-2.304488</td>\n",
       "      <td>0.057648</td>\n",
       "    </tr>\n",
       "    <tr>\n",
       "      <td>14</td>\n",
       "      <td>0.002988</td>\n",
       "      <td>0.000874</td>\n",
       "      <td>0.001463</td>\n",
       "      <td>0.000493</td>\n",
       "      <td>1</td>\n",
       "      <td>100</td>\n",
       "      <td>{'C': 1, 'epsilon': 100}</td>\n",
       "      <td>-2.648486</td>\n",
       "      <td>-3.190280</td>\n",
       "      <td>-1.875262</td>\n",
       "      <td>...</td>\n",
       "      <td>-2.389497</td>\n",
       "      <td>-2.241441</td>\n",
       "      <td>-2.399777</td>\n",
       "      <td>-2.321184</td>\n",
       "      <td>-2.335990</td>\n",
       "      <td>-2.245053</td>\n",
       "      <td>-2.333577</td>\n",
       "      <td>-2.250515</td>\n",
       "      <td>-2.304488</td>\n",
       "      <td>0.057648</td>\n",
       "    </tr>\n",
       "    <tr>\n",
       "      <td>15</td>\n",
       "      <td>0.002949</td>\n",
       "      <td>0.000567</td>\n",
       "      <td>0.001640</td>\n",
       "      <td>0.000392</td>\n",
       "      <td>10</td>\n",
       "      <td>0.01</td>\n",
       "      <td>{'C': 10, 'epsilon': 0.01}</td>\n",
       "      <td>-2.544508</td>\n",
       "      <td>-3.070859</td>\n",
       "      <td>-1.817596</td>\n",
       "      <td>...</td>\n",
       "      <td>-2.303443</td>\n",
       "      <td>-2.161205</td>\n",
       "      <td>-2.317715</td>\n",
       "      <td>-2.237456</td>\n",
       "      <td>-2.249434</td>\n",
       "      <td>-2.163097</td>\n",
       "      <td>-2.247671</td>\n",
       "      <td>-2.170205</td>\n",
       "      <td>-2.221565</td>\n",
       "      <td>0.056050</td>\n",
       "    </tr>\n",
       "    <tr>\n",
       "      <td>16</td>\n",
       "      <td>0.002713</td>\n",
       "      <td>0.000471</td>\n",
       "      <td>0.001937</td>\n",
       "      <td>0.000534</td>\n",
       "      <td>10</td>\n",
       "      <td>0.1</td>\n",
       "      <td>{'C': 10, 'epsilon': 0.1}</td>\n",
       "      <td>-2.544508</td>\n",
       "      <td>-3.070859</td>\n",
       "      <td>-1.817596</td>\n",
       "      <td>...</td>\n",
       "      <td>-2.303443</td>\n",
       "      <td>-2.161205</td>\n",
       "      <td>-2.317715</td>\n",
       "      <td>-2.237456</td>\n",
       "      <td>-2.249434</td>\n",
       "      <td>-2.163097</td>\n",
       "      <td>-2.247671</td>\n",
       "      <td>-2.170205</td>\n",
       "      <td>-2.221565</td>\n",
       "      <td>0.056050</td>\n",
       "    </tr>\n",
       "    <tr>\n",
       "      <td>17</td>\n",
       "      <td>0.002893</td>\n",
       "      <td>0.000519</td>\n",
       "      <td>0.001843</td>\n",
       "      <td>0.000442</td>\n",
       "      <td>10</td>\n",
       "      <td>1</td>\n",
       "      <td>{'C': 10, 'epsilon': 1}</td>\n",
       "      <td>-2.544508</td>\n",
       "      <td>-3.070859</td>\n",
       "      <td>-1.817596</td>\n",
       "      <td>...</td>\n",
       "      <td>-2.303443</td>\n",
       "      <td>-2.161205</td>\n",
       "      <td>-2.317715</td>\n",
       "      <td>-2.237456</td>\n",
       "      <td>-2.249434</td>\n",
       "      <td>-2.163097</td>\n",
       "      <td>-2.247671</td>\n",
       "      <td>-2.170205</td>\n",
       "      <td>-2.221565</td>\n",
       "      <td>0.056050</td>\n",
       "    </tr>\n",
       "    <tr>\n",
       "      <td>18</td>\n",
       "      <td>0.002185</td>\n",
       "      <td>0.000752</td>\n",
       "      <td>0.001590</td>\n",
       "      <td>0.000511</td>\n",
       "      <td>10</td>\n",
       "      <td>10</td>\n",
       "      <td>{'C': 10, 'epsilon': 10}</td>\n",
       "      <td>-2.544508</td>\n",
       "      <td>-3.070859</td>\n",
       "      <td>-1.817596</td>\n",
       "      <td>...</td>\n",
       "      <td>-2.303443</td>\n",
       "      <td>-2.161205</td>\n",
       "      <td>-2.317715</td>\n",
       "      <td>-2.237456</td>\n",
       "      <td>-2.249434</td>\n",
       "      <td>-2.163097</td>\n",
       "      <td>-2.247671</td>\n",
       "      <td>-2.170205</td>\n",
       "      <td>-2.221565</td>\n",
       "      <td>0.056050</td>\n",
       "    </tr>\n",
       "    <tr>\n",
       "      <td>19</td>\n",
       "      <td>0.003075</td>\n",
       "      <td>0.000354</td>\n",
       "      <td>0.001882</td>\n",
       "      <td>0.000534</td>\n",
       "      <td>10</td>\n",
       "      <td>100</td>\n",
       "      <td>{'C': 10, 'epsilon': 100}</td>\n",
       "      <td>-2.544508</td>\n",
       "      <td>-3.070859</td>\n",
       "      <td>-1.817596</td>\n",
       "      <td>...</td>\n",
       "      <td>-2.303443</td>\n",
       "      <td>-2.161205</td>\n",
       "      <td>-2.317715</td>\n",
       "      <td>-2.237456</td>\n",
       "      <td>-2.249434</td>\n",
       "      <td>-2.163097</td>\n",
       "      <td>-2.247671</td>\n",
       "      <td>-2.170205</td>\n",
       "      <td>-2.221565</td>\n",
       "      <td>0.056050</td>\n",
       "    </tr>\n",
       "    <tr>\n",
       "      <td>20</td>\n",
       "      <td>0.002851</td>\n",
       "      <td>0.000439</td>\n",
       "      <td>0.001853</td>\n",
       "      <td>0.000318</td>\n",
       "      <td>100</td>\n",
       "      <td>0.01</td>\n",
       "      <td>{'C': 100, 'epsilon': 0.01}</td>\n",
       "      <td>-1.612155</td>\n",
       "      <td>-1.990010</td>\n",
       "      <td>-1.284222</td>\n",
       "      <td>...</td>\n",
       "      <td>-1.520834</td>\n",
       "      <td>-1.440444</td>\n",
       "      <td>-1.576813</td>\n",
       "      <td>-1.474195</td>\n",
       "      <td>-1.468566</td>\n",
       "      <td>-1.417656</td>\n",
       "      <td>-1.466665</td>\n",
       "      <td>-1.436521</td>\n",
       "      <td>-1.468430</td>\n",
       "      <td>0.045819</td>\n",
       "    </tr>\n",
       "    <tr>\n",
       "      <td>21</td>\n",
       "      <td>0.002778</td>\n",
       "      <td>0.000393</td>\n",
       "      <td>0.001787</td>\n",
       "      <td>0.000400</td>\n",
       "      <td>100</td>\n",
       "      <td>0.1</td>\n",
       "      <td>{'C': 100, 'epsilon': 0.1}</td>\n",
       "      <td>-1.610562</td>\n",
       "      <td>-1.990010</td>\n",
       "      <td>-1.284222</td>\n",
       "      <td>...</td>\n",
       "      <td>-1.520834</td>\n",
       "      <td>-1.440444</td>\n",
       "      <td>-1.576813</td>\n",
       "      <td>-1.474195</td>\n",
       "      <td>-1.468566</td>\n",
       "      <td>-1.417656</td>\n",
       "      <td>-1.465732</td>\n",
       "      <td>-1.436521</td>\n",
       "      <td>-1.468171</td>\n",
       "      <td>0.045860</td>\n",
       "    </tr>\n",
       "    <tr>\n",
       "      <td>22</td>\n",
       "      <td>0.002718</td>\n",
       "      <td>0.000569</td>\n",
       "      <td>0.001739</td>\n",
       "      <td>0.000489</td>\n",
       "      <td>100</td>\n",
       "      <td>1</td>\n",
       "      <td>{'C': 100, 'epsilon': 1}</td>\n",
       "      <td>-1.612156</td>\n",
       "      <td>-1.992089</td>\n",
       "      <td>-1.284222</td>\n",
       "      <td>...</td>\n",
       "      <td>-1.520834</td>\n",
       "      <td>-1.440444</td>\n",
       "      <td>-1.576813</td>\n",
       "      <td>-1.474195</td>\n",
       "      <td>-1.468566</td>\n",
       "      <td>-1.417578</td>\n",
       "      <td>-1.465731</td>\n",
       "      <td>-1.436521</td>\n",
       "      <td>-1.468542</td>\n",
       "      <td>0.045629</td>\n",
       "    </tr>\n",
       "    <tr>\n",
       "      <td>23</td>\n",
       "      <td>0.001982</td>\n",
       "      <td>0.000038</td>\n",
       "      <td>0.000940</td>\n",
       "      <td>0.000322</td>\n",
       "      <td>100</td>\n",
       "      <td>10</td>\n",
       "      <td>{'C': 100, 'epsilon': 10}</td>\n",
       "      <td>-1.612169</td>\n",
       "      <td>-1.990010</td>\n",
       "      <td>-1.284222</td>\n",
       "      <td>...</td>\n",
       "      <td>-1.520834</td>\n",
       "      <td>-1.440444</td>\n",
       "      <td>-1.576807</td>\n",
       "      <td>-1.474195</td>\n",
       "      <td>-1.468566</td>\n",
       "      <td>-1.417588</td>\n",
       "      <td>-1.465718</td>\n",
       "      <td>-1.436521</td>\n",
       "      <td>-1.468330</td>\n",
       "      <td>0.045829</td>\n",
       "    </tr>\n",
       "    <tr>\n",
       "      <td>24</td>\n",
       "      <td>0.002899</td>\n",
       "      <td>0.000549</td>\n",
       "      <td>0.001527</td>\n",
       "      <td>0.000544</td>\n",
       "      <td>100</td>\n",
       "      <td>100</td>\n",
       "      <td>{'C': 100, 'epsilon': 100}</td>\n",
       "      <td>-1.612299</td>\n",
       "      <td>-1.990010</td>\n",
       "      <td>-1.284222</td>\n",
       "      <td>...</td>\n",
       "      <td>-1.520834</td>\n",
       "      <td>-1.440444</td>\n",
       "      <td>-1.576753</td>\n",
       "      <td>-1.474195</td>\n",
       "      <td>-1.468566</td>\n",
       "      <td>-1.417688</td>\n",
       "      <td>-1.465729</td>\n",
       "      <td>-1.436521</td>\n",
       "      <td>-1.468349</td>\n",
       "      <td>0.045802</td>\n",
       "    </tr>\n",
       "  </tbody>\n",
       "</table>\n",
       "<p>25 rows × 32 columns</p>\n",
       "</div>"
      ],
      "text/plain": [
       "    mean_fit_time  std_fit_time  mean_score_time  std_score_time param_C  \\\n",
       "0        0.001900      0.000371         0.000854        0.000434    0.01   \n",
       "1        0.001990      0.000576         0.001314        0.000466    0.01   \n",
       "2        0.002307      0.000472         0.001597        0.000489    0.01   \n",
       "3        0.002651      0.000529         0.001405        0.000494    0.01   \n",
       "4        0.002186      0.000679         0.001440        0.000495    0.01   \n",
       "5        0.002822      0.000449         0.001777        0.000307     0.1   \n",
       "6        0.002252      0.000601         0.001416        0.000474     0.1   \n",
       "7        0.002701      0.000444         0.001905        0.000309     0.1   \n",
       "8        0.002793      0.000399         0.001620        0.000411     0.1   \n",
       "9        0.003146      0.000516         0.001581        0.000453     0.1   \n",
       "10       0.002986      0.000518         0.002004        0.000049       1   \n",
       "11       0.002991      0.000378         0.001799        0.000576       1   \n",
       "12       0.002891      0.000552         0.001211        0.000402       1   \n",
       "13       0.002958      0.000068         0.001793        0.000598       1   \n",
       "14       0.002988      0.000874         0.001463        0.000493       1   \n",
       "15       0.002949      0.000567         0.001640        0.000392      10   \n",
       "16       0.002713      0.000471         0.001937        0.000534      10   \n",
       "17       0.002893      0.000519         0.001843        0.000442      10   \n",
       "18       0.002185      0.000752         0.001590        0.000511      10   \n",
       "19       0.003075      0.000354         0.001882        0.000534      10   \n",
       "20       0.002851      0.000439         0.001853        0.000318     100   \n",
       "21       0.002778      0.000393         0.001787        0.000400     100   \n",
       "22       0.002718      0.000569         0.001739        0.000489     100   \n",
       "23       0.001982      0.000038         0.000940        0.000322     100   \n",
       "24       0.002899      0.000549         0.001527        0.000544     100   \n",
       "\n",
       "   param_epsilon                        params  split0_test_score  \\\n",
       "0           0.01  {'C': 0.01, 'epsilon': 0.01}          -2.660054   \n",
       "1            0.1   {'C': 0.01, 'epsilon': 0.1}          -2.660054   \n",
       "2              1     {'C': 0.01, 'epsilon': 1}          -2.660054   \n",
       "3             10    {'C': 0.01, 'epsilon': 10}          -2.660054   \n",
       "4            100   {'C': 0.01, 'epsilon': 100}          -2.660054   \n",
       "5           0.01   {'C': 0.1, 'epsilon': 0.01}          -2.659001   \n",
       "6            0.1    {'C': 0.1, 'epsilon': 0.1}          -2.659001   \n",
       "7              1      {'C': 0.1, 'epsilon': 1}          -2.659001   \n",
       "8             10     {'C': 0.1, 'epsilon': 10}          -2.659001   \n",
       "9            100    {'C': 0.1, 'epsilon': 100}          -2.659001   \n",
       "10          0.01     {'C': 1, 'epsilon': 0.01}          -2.648486   \n",
       "11           0.1      {'C': 1, 'epsilon': 0.1}          -2.648486   \n",
       "12             1        {'C': 1, 'epsilon': 1}          -2.648486   \n",
       "13            10       {'C': 1, 'epsilon': 10}          -2.648486   \n",
       "14           100      {'C': 1, 'epsilon': 100}          -2.648486   \n",
       "15          0.01    {'C': 10, 'epsilon': 0.01}          -2.544508   \n",
       "16           0.1     {'C': 10, 'epsilon': 0.1}          -2.544508   \n",
       "17             1       {'C': 10, 'epsilon': 1}          -2.544508   \n",
       "18            10      {'C': 10, 'epsilon': 10}          -2.544508   \n",
       "19           100     {'C': 10, 'epsilon': 100}          -2.544508   \n",
       "20          0.01   {'C': 100, 'epsilon': 0.01}          -1.612155   \n",
       "21           0.1    {'C': 100, 'epsilon': 0.1}          -1.610562   \n",
       "22             1      {'C': 100, 'epsilon': 1}          -1.612156   \n",
       "23            10     {'C': 100, 'epsilon': 10}          -1.612169   \n",
       "24           100    {'C': 100, 'epsilon': 100}          -1.612299   \n",
       "\n",
       "    split1_test_score  split2_test_score  ...  split2_train_score  \\\n",
       "0           -3.203554          -1.881664  ...           -2.399062   \n",
       "1           -3.203554          -1.881664  ...           -2.399062   \n",
       "2           -3.203554          -1.881664  ...           -2.399062   \n",
       "3           -3.203554          -1.881664  ...           -2.399062   \n",
       "4           -3.203554          -1.881664  ...           -2.399062   \n",
       "5           -3.202346          -1.881081  ...           -2.398192   \n",
       "6           -3.202346          -1.881081  ...           -2.398192   \n",
       "7           -3.202346          -1.881081  ...           -2.398192   \n",
       "8           -3.202346          -1.881081  ...           -2.398192   \n",
       "9           -3.202346          -1.881081  ...           -2.398192   \n",
       "10          -3.190280          -1.875262  ...           -2.389497   \n",
       "11          -3.190280          -1.875262  ...           -2.389497   \n",
       "12          -3.190280          -1.875262  ...           -2.389497   \n",
       "13          -3.190280          -1.875262  ...           -2.389497   \n",
       "14          -3.190280          -1.875262  ...           -2.389497   \n",
       "15          -3.070859          -1.817596  ...           -2.303443   \n",
       "16          -3.070859          -1.817596  ...           -2.303443   \n",
       "17          -3.070859          -1.817596  ...           -2.303443   \n",
       "18          -3.070859          -1.817596  ...           -2.303443   \n",
       "19          -3.070859          -1.817596  ...           -2.303443   \n",
       "20          -1.990010          -1.284222  ...           -1.520834   \n",
       "21          -1.990010          -1.284222  ...           -1.520834   \n",
       "22          -1.992089          -1.284222  ...           -1.520834   \n",
       "23          -1.990010          -1.284222  ...           -1.520834   \n",
       "24          -1.990010          -1.284222  ...           -1.520834   \n",
       "\n",
       "    split3_train_score  split4_train_score  split5_train_score  \\\n",
       "0            -2.250357           -2.408904           -2.330488   \n",
       "1            -2.250357           -2.408904           -2.330488   \n",
       "2            -2.250357           -2.408904           -2.330488   \n",
       "3            -2.250357           -2.408904           -2.330488   \n",
       "4            -2.250357           -2.408904           -2.330488   \n",
       "5            -2.249546           -2.408074           -2.329642   \n",
       "6            -2.249546           -2.408074           -2.329642   \n",
       "7            -2.249546           -2.408074           -2.329642   \n",
       "8            -2.249546           -2.408074           -2.329642   \n",
       "9            -2.249546           -2.408074           -2.329642   \n",
       "10           -2.241441           -2.399777           -2.321184   \n",
       "11           -2.241441           -2.399777           -2.321184   \n",
       "12           -2.241441           -2.399777           -2.321184   \n",
       "13           -2.241441           -2.399777           -2.321184   \n",
       "14           -2.241441           -2.399777           -2.321184   \n",
       "15           -2.161205           -2.317715           -2.237456   \n",
       "16           -2.161205           -2.317715           -2.237456   \n",
       "17           -2.161205           -2.317715           -2.237456   \n",
       "18           -2.161205           -2.317715           -2.237456   \n",
       "19           -2.161205           -2.317715           -2.237456   \n",
       "20           -1.440444           -1.576813           -1.474195   \n",
       "21           -1.440444           -1.576813           -1.474195   \n",
       "22           -1.440444           -1.576813           -1.474195   \n",
       "23           -1.440444           -1.576807           -1.474195   \n",
       "24           -1.440444           -1.576753           -1.474195   \n",
       "\n",
       "    split6_train_score  split7_train_score  split8_train_score  \\\n",
       "0            -2.345606           -2.254158           -2.343120   \n",
       "1            -2.345606           -2.254158           -2.343120   \n",
       "2            -2.345606           -2.254158           -2.343120   \n",
       "3            -2.345606           -2.254158           -2.343120   \n",
       "4            -2.345606           -2.254158           -2.343120   \n",
       "5            -2.344731           -2.253329           -2.342252   \n",
       "6            -2.344731           -2.253329           -2.342252   \n",
       "7            -2.344731           -2.253329           -2.342252   \n",
       "8            -2.344731           -2.253329           -2.342252   \n",
       "9            -2.344731           -2.253329           -2.342252   \n",
       "10           -2.335990           -2.245053           -2.333577   \n",
       "11           -2.335990           -2.245053           -2.333577   \n",
       "12           -2.335990           -2.245053           -2.333577   \n",
       "13           -2.335990           -2.245053           -2.333577   \n",
       "14           -2.335990           -2.245053           -2.333577   \n",
       "15           -2.249434           -2.163097           -2.247671   \n",
       "16           -2.249434           -2.163097           -2.247671   \n",
       "17           -2.249434           -2.163097           -2.247671   \n",
       "18           -2.249434           -2.163097           -2.247671   \n",
       "19           -2.249434           -2.163097           -2.247671   \n",
       "20           -1.468566           -1.417656           -1.466665   \n",
       "21           -1.468566           -1.417656           -1.465732   \n",
       "22           -1.468566           -1.417578           -1.465731   \n",
       "23           -1.468566           -1.417588           -1.465718   \n",
       "24           -1.468566           -1.417688           -1.465729   \n",
       "\n",
       "    split9_train_score  mean_train_score  std_train_score  \n",
       "0            -2.259438         -2.313703         0.057831  \n",
       "1            -2.259438         -2.313703         0.057831  \n",
       "2            -2.259438         -2.313703         0.057831  \n",
       "3            -2.259438         -2.313703         0.057831  \n",
       "4            -2.259438         -2.313703         0.057831  \n",
       "5            -2.258626         -2.312864         0.057814  \n",
       "6            -2.258626         -2.312864         0.057814  \n",
       "7            -2.258626         -2.312864         0.057814  \n",
       "8            -2.258626         -2.312864         0.057814  \n",
       "9            -2.258626         -2.312864         0.057814  \n",
       "10           -2.250515         -2.304488         0.057648  \n",
       "11           -2.250515         -2.304488         0.057648  \n",
       "12           -2.250515         -2.304488         0.057648  \n",
       "13           -2.250515         -2.304488         0.057648  \n",
       "14           -2.250515         -2.304488         0.057648  \n",
       "15           -2.170205         -2.221565         0.056050  \n",
       "16           -2.170205         -2.221565         0.056050  \n",
       "17           -2.170205         -2.221565         0.056050  \n",
       "18           -2.170205         -2.221565         0.056050  \n",
       "19           -2.170205         -2.221565         0.056050  \n",
       "20           -1.436521         -1.468430         0.045819  \n",
       "21           -1.436521         -1.468171         0.045860  \n",
       "22           -1.436521         -1.468542         0.045629  \n",
       "23           -1.436521         -1.468330         0.045829  \n",
       "24           -1.436521         -1.468349         0.045802  \n",
       "\n",
       "[25 rows x 32 columns]"
      ]
     },
     "execution_count": 67,
     "metadata": {},
     "output_type": "execute_result"
    }
   ],
   "source": [
    "result_linearsvr = pd.DataFrame(grid_svrl.cv_results_)\n",
    "result_linearsvr"
   ]
  },
  {
   "cell_type": "code",
   "execution_count": 68,
   "metadata": {},
   "outputs": [
    {
     "data": {
      "text/plain": [
       "[<matplotlib.lines.Line2D at 0x1fc714ebec8>]"
      ]
     },
     "execution_count": 68,
     "metadata": {},
     "output_type": "execute_result"
    },
    {
     "data": {
      "text/plain": [
       "[<matplotlib.lines.Line2D at 0x1fc714fcec8>]"
      ]
     },
     "execution_count": 68,
     "metadata": {},
     "output_type": "execute_result"
    },
    {
     "data": {
      "text/plain": [
       "([<matplotlib.axis.XTick at 0x1fc715c26c8>,\n",
       "  <matplotlib.axis.XTick at 0x1fc715e1108>,\n",
       "  <matplotlib.axis.XTick at 0x1fc7148e588>,\n",
       "  <matplotlib.axis.XTick at 0x1fc7164b108>,\n",
       "  <matplotlib.axis.XTick at 0x1fc71653f08>,\n",
       "  <matplotlib.axis.XTick at 0x1fc71667388>,\n",
       "  <matplotlib.axis.XTick at 0x1fc71679d08>,\n",
       "  <matplotlib.axis.XTick at 0x1fc7168ea48>,\n",
       "  <matplotlib.axis.XTick at 0x1fc716a5548>,\n",
       "  <matplotlib.axis.XTick at 0x1fc716b9748>,\n",
       "  <matplotlib.axis.XTick at 0x1fc716cbbc8>,\n",
       "  <matplotlib.axis.XTick at 0x1fc716e9388>,\n",
       "  <matplotlib.axis.XTick at 0x1fc71667708>,\n",
       "  <matplotlib.axis.XTick at 0x1fc716f5748>,\n",
       "  <matplotlib.axis.XTick at 0x1fc71700808>,\n",
       "  <matplotlib.axis.XTick at 0x1fc71714308>,\n",
       "  <matplotlib.axis.XTick at 0x1fc71726b08>,\n",
       "  <matplotlib.axis.XTick at 0x1fc7173ad88>,\n",
       "  <matplotlib.axis.XTick at 0x1fc71750048>,\n",
       "  <matplotlib.axis.XTick at 0x1fc71765988>,\n",
       "  <matplotlib.axis.XTick at 0x1fc7177c848>,\n",
       "  <matplotlib.axis.XTick at 0x1fc717771c8>,\n",
       "  <matplotlib.axis.XTick at 0x1fc716fdc88>,\n",
       "  <matplotlib.axis.XTick at 0x1fc714deb48>,\n",
       "  <matplotlib.axis.XTick at 0x1fc70f454c8>],\n",
       " <a list of 25 Text xticklabel objects>)"
      ]
     },
     "execution_count": 68,
     "metadata": {},
     "output_type": "execute_result"
    },
    {
     "data": {
      "text/plain": [
       "[<matplotlib.lines.Line2D at 0x1fc70f52088>]"
      ]
     },
     "execution_count": 68,
     "metadata": {},
     "output_type": "execute_result"
    },
    {
     "data": {
      "text/plain": [
       "[<matplotlib.lines.Line2D at 0x1fc70f55e48>]"
      ]
     },
     "execution_count": 68,
     "metadata": {},
     "output_type": "execute_result"
    },
    {
     "data": {
      "text/plain": [
       "<matplotlib.legend.Legend at 0x1fc70f55f88>"
      ]
     },
     "execution_count": 68,
     "metadata": {},
     "output_type": "execute_result"
    },
    {
     "data": {
      "text/plain": [
       "Text(0.5, 0, 'Alpha')"
      ]
     },
     "execution_count": 68,
     "metadata": {},
     "output_type": "execute_result"
    },
    {
     "data": {
      "image/png": "[encoded data removed]",
      "text/plain": [
       "<Figure size 432x288 with 1 Axes>"
      ]
     },
     "metadata": {
      "needs_background": "light"
     },
     "output_type": "display_data"
    }
   ],
   "source": [
    "plt.plot(range(result_linearsvr.shape[0]), result_linearsvr['mean_train_score'], label = 'mean train score')\n",
    "plt.plot(range(result_linearsvr.shape[0]), result_linearsvr['mean_test_score'], label = 'mean test score')\n",
    "plt.xticks(range(result_linearsvr.shape[0]), result_linearsvr['param_C'], rotation = 90)\n",
    "plt.plot([grid_svrl.best_index_], result_linearsvr['mean_train_score'][grid_svrl.best_index_], 'o', markersize = 10, fillstyle = \"none\")\n",
    "plt.plot([grid_svrl.best_index_], result_linearsvr['mean_test_score'][grid_svrl.best_index_], 'o', markersize = 10, fillstyle = \"none\")\n",
    "plt.grid()\n",
    "plt.legend()\n",
    "plt.xlabel('Alpha')"
   ]
  },
  {
   "cell_type": "markdown",
   "metadata": {},
   "source": [
    "# SVR with Kernal Linear"
   ]
  },
  {
   "cell_type": "code",
   "execution_count": 69,
   "metadata": {},
   "outputs": [
    {
     "data": {
      "text/plain": [
       "GridSearchCV(cv=6, error_score='raise-deprecating',\n",
       "             estimator=SVR(C=1.0, cache_size=200, coef0=0.0, degree=3,\n",
       "                           epsilon=0.1, gamma='auto_deprecated',\n",
       "                           kernel='linear', max_iter=-1, shrinking=True,\n",
       "                           tol=0.001, verbose=False),\n",
       "             iid='warn', n_jobs=-1, param_grid={'C': [0.01, 0.1, 1, 10, 100]},\n",
       "             pre_dispatch='2*n_jobs', refit=True, return_train_score=True,\n",
       "             scoring=None, verbose=0)"
      ]
     },
     "execution_count": 69,
     "metadata": {},
     "output_type": "execute_result"
    }
   ],
   "source": [
    "grid_parms_linear = {'C': [0.01,0.1, 1, 10, 100]}\n",
    "svr_linear = SVR(kernel='linear')\n",
    "grid_svr_linear = GridSearchCV(estimator = svr_linear,param_grid = grid_parms_linear,return_train_score=True,n_jobs= -1,cv=6)\n",
    "grid_svr_linear.fit(X_train_scaled,y_train)"
   ]
  },
  {
   "cell_type": "code",
   "execution_count": 70,
   "metadata": {},
   "outputs": [
    {
     "name": "stdout",
     "output_type": "stream",
     "text": [
      "Best parameters: {'C': 100}\n",
      "Best cross-validation score: 0.3720\n"
     ]
    }
   ],
   "source": [
    "print(\"Best parameters: {}\".format(grid_svr_linear.best_params_))\n",
    "print(\"Best cross-validation score: {:.4f}\".format(grid_svr_linear.best_score_))"
   ]
  },
  {
   "cell_type": "code",
   "execution_count": 71,
   "metadata": {},
   "outputs": [
    {
     "data": {
      "text/plain": [
       "SVR(C=100, cache_size=200, coef0=0.0, degree=3, epsilon=0.1,\n",
       "    gamma='auto_deprecated', kernel='linear', max_iter=-1, shrinking=True,\n",
       "    tol=0.001, verbose=False)"
      ]
     },
     "execution_count": 71,
     "metadata": {},
     "output_type": "execute_result"
    },
    {
     "name": "stdout",
     "output_type": "stream",
     "text": [
      "0.4027641864434791\n",
      "0.39561981845329325\n"
     ]
    }
   ],
   "source": [
    "svr = SVR(kernel = 'linear',C = 100)\n",
    "        \n",
    "        #train the model\n",
    "svr.fit(X_train_scaled, y_train)\n",
    "        \n",
    "        #evaluate the model\n",
    "print(svr.score(X_train_scaled, y_train))\n",
    "print(svr.score(X_test_scaled, y_test))"
   ]
  },
  {
   "cell_type": "code",
   "execution_count": 72,
   "metadata": {},
   "outputs": [
    {
     "name": "stdout",
     "output_type": "stream",
     "text": [
      "Cross-validation scores:\n",
      "[0.42850145 0.35020299 0.35352144 0.32582167 0.34907784 0.42509224]\n",
      "0.37203627203489686\n"
     ]
    }
   ],
   "source": [
    "from sklearn.model_selection import KFold\n",
    "from sklearn.model_selection import cross_val_score\n",
    "\n",
    "kfold = KFold(n_splits=6)\n",
    "print(\"Cross-validation scores:\\n{}\".format(cross_val_score(svr , X_train_scaled, y_train, cv=kfold)))\n",
    "scores = cross_val_score(svr , X_train_scaled, y_train, cv=kfold)\n",
    "print(np.mean(scores))"
   ]
  },
  {
   "cell_type": "code",
   "execution_count": 73,
   "metadata": {},
   "outputs": [
    {
     "data": {
      "text/html": [
       "<div>\n",
       "<style scoped>\n",
       "    .dataframe tbody tr th:only-of-type {\n",
       "        vertical-align: middle;\n",
       "    }\n",
       "\n",
       "    .dataframe tbody tr th {\n",
       "        vertical-align: top;\n",
       "    }\n",
       "\n",
       "    .dataframe thead th {\n",
       "        text-align: right;\n",
       "    }\n",
       "</style>\n",
       "<table border=\"1\" class=\"dataframe\">\n",
       "  <thead>\n",
       "    <tr style=\"text-align: right;\">\n",
       "      <th></th>\n",
       "      <th>mean_fit_time</th>\n",
       "      <th>std_fit_time</th>\n",
       "      <th>mean_score_time</th>\n",
       "      <th>std_score_time</th>\n",
       "      <th>param_C</th>\n",
       "      <th>params</th>\n",
       "      <th>split0_test_score</th>\n",
       "      <th>split1_test_score</th>\n",
       "      <th>split2_test_score</th>\n",
       "      <th>split3_test_score</th>\n",
       "      <th>...</th>\n",
       "      <th>std_test_score</th>\n",
       "      <th>rank_test_score</th>\n",
       "      <th>split0_train_score</th>\n",
       "      <th>split1_train_score</th>\n",
       "      <th>split2_train_score</th>\n",
       "      <th>split3_train_score</th>\n",
       "      <th>split4_train_score</th>\n",
       "      <th>split5_train_score</th>\n",
       "      <th>mean_train_score</th>\n",
       "      <th>std_train_score</th>\n",
       "    </tr>\n",
       "  </thead>\n",
       "  <tbody>\n",
       "    <tr>\n",
       "      <td>0</td>\n",
       "      <td>0.085470</td>\n",
       "      <td>0.011406</td>\n",
       "      <td>0.006599</td>\n",
       "      <td>0.000632</td>\n",
       "      <td>0.01</td>\n",
       "      <td>{'C': 0.01}</td>\n",
       "      <td>-0.018211</td>\n",
       "      <td>-0.087576</td>\n",
       "      <td>-0.094115</td>\n",
       "      <td>-0.087134</td>\n",
       "      <td>...</td>\n",
       "      <td>0.032388</td>\n",
       "      <td>5</td>\n",
       "      <td>-0.057566</td>\n",
       "      <td>-0.056496</td>\n",
       "      <td>-0.049689</td>\n",
       "      <td>-0.056983</td>\n",
       "      <td>-0.052289</td>\n",
       "      <td>-0.052871</td>\n",
       "      <td>-0.054316</td>\n",
       "      <td>0.002888</td>\n",
       "    </tr>\n",
       "    <tr>\n",
       "      <td>1</td>\n",
       "      <td>0.080394</td>\n",
       "      <td>0.005729</td>\n",
       "      <td>0.007664</td>\n",
       "      <td>0.001221</td>\n",
       "      <td>0.1</td>\n",
       "      <td>{'C': 0.1}</td>\n",
       "      <td>-0.017043</td>\n",
       "      <td>-0.086606</td>\n",
       "      <td>-0.093261</td>\n",
       "      <td>-0.086175</td>\n",
       "      <td>...</td>\n",
       "      <td>0.032472</td>\n",
       "      <td>4</td>\n",
       "      <td>-0.056466</td>\n",
       "      <td>-0.055488</td>\n",
       "      <td>-0.048886</td>\n",
       "      <td>-0.055962</td>\n",
       "      <td>-0.051233</td>\n",
       "      <td>-0.051865</td>\n",
       "      <td>-0.053317</td>\n",
       "      <td>0.002820</td>\n",
       "    </tr>\n",
       "    <tr>\n",
       "      <td>2</td>\n",
       "      <td>0.090586</td>\n",
       "      <td>0.001738</td>\n",
       "      <td>0.009013</td>\n",
       "      <td>0.000808</td>\n",
       "      <td>1</td>\n",
       "      <td>{'C': 1}</td>\n",
       "      <td>-0.006381</td>\n",
       "      <td>-0.076116</td>\n",
       "      <td>-0.083525</td>\n",
       "      <td>-0.075952</td>\n",
       "      <td>...</td>\n",
       "      <td>0.032660</td>\n",
       "      <td>3</td>\n",
       "      <td>-0.046817</td>\n",
       "      <td>-0.044731</td>\n",
       "      <td>-0.039859</td>\n",
       "      <td>-0.045277</td>\n",
       "      <td>-0.040723</td>\n",
       "      <td>-0.041862</td>\n",
       "      <td>-0.043212</td>\n",
       "      <td>0.002544</td>\n",
       "    </tr>\n",
       "    <tr>\n",
       "      <td>3</td>\n",
       "      <td>0.091277</td>\n",
       "      <td>0.002721</td>\n",
       "      <td>0.008724</td>\n",
       "      <td>0.000734</td>\n",
       "      <td>10</td>\n",
       "      <td>{'C': 10}</td>\n",
       "      <td>0.088129</td>\n",
       "      <td>0.005887</td>\n",
       "      <td>-0.001529</td>\n",
       "      <td>0.001106</td>\n",
       "      <td>...</td>\n",
       "      <td>0.036549</td>\n",
       "      <td>2</td>\n",
       "      <td>0.040143</td>\n",
       "      <td>0.040025</td>\n",
       "      <td>0.036456</td>\n",
       "      <td>0.038857</td>\n",
       "      <td>0.041698</td>\n",
       "      <td>0.034691</td>\n",
       "      <td>0.038645</td>\n",
       "      <td>0.002378</td>\n",
       "    </tr>\n",
       "    <tr>\n",
       "      <td>4</td>\n",
       "      <td>0.079262</td>\n",
       "      <td>0.014546</td>\n",
       "      <td>0.008669</td>\n",
       "      <td>0.001421</td>\n",
       "      <td>100</td>\n",
       "      <td>{'C': 100}</td>\n",
       "      <td>0.428501</td>\n",
       "      <td>0.350203</td>\n",
       "      <td>0.353521</td>\n",
       "      <td>0.325822</td>\n",
       "      <td>...</td>\n",
       "      <td>0.039761</td>\n",
       "      <td>1</td>\n",
       "      <td>0.374193</td>\n",
       "      <td>0.362394</td>\n",
       "      <td>0.372085</td>\n",
       "      <td>0.374377</td>\n",
       "      <td>0.387885</td>\n",
       "      <td>0.374779</td>\n",
       "      <td>0.374286</td>\n",
       "      <td>0.007433</td>\n",
       "    </tr>\n",
       "  </tbody>\n",
       "</table>\n",
       "<p>5 rows × 23 columns</p>\n",
       "</div>"
      ],
      "text/plain": [
       "   mean_fit_time  std_fit_time  mean_score_time  std_score_time param_C  \\\n",
       "0       0.085470      0.011406         0.006599        0.000632    0.01   \n",
       "1       0.080394      0.005729         0.007664        0.001221     0.1   \n",
       "2       0.090586      0.001738         0.009013        0.000808       1   \n",
       "3       0.091277      0.002721         0.008724        0.000734      10   \n",
       "4       0.079262      0.014546         0.008669        0.001421     100   \n",
       "\n",
       "        params  split0_test_score  split1_test_score  split2_test_score  \\\n",
       "0  {'C': 0.01}          -0.018211          -0.087576          -0.094115   \n",
       "1   {'C': 0.1}          -0.017043          -0.086606          -0.093261   \n",
       "2     {'C': 1}          -0.006381          -0.076116          -0.083525   \n",
       "3    {'C': 10}           0.088129           0.005887          -0.001529   \n",
       "4   {'C': 100}           0.428501           0.350203           0.353521   \n",
       "\n",
       "   split3_test_score  ...  std_test_score  rank_test_score  \\\n",
       "0          -0.087134  ...        0.032388                5   \n",
       "1          -0.086175  ...        0.032472                4   \n",
       "2          -0.075952  ...        0.032660                3   \n",
       "3           0.001106  ...        0.036549                2   \n",
       "4           0.325822  ...        0.039761                1   \n",
       "\n",
       "   split0_train_score  split1_train_score  split2_train_score  \\\n",
       "0           -0.057566           -0.056496           -0.049689   \n",
       "1           -0.056466           -0.055488           -0.048886   \n",
       "2           -0.046817           -0.044731           -0.039859   \n",
       "3            0.040143            0.040025            0.036456   \n",
       "4            0.374193            0.362394            0.372085   \n",
       "\n",
       "   split3_train_score  split4_train_score  split5_train_score  \\\n",
       "0           -0.056983           -0.052289           -0.052871   \n",
       "1           -0.055962           -0.051233           -0.051865   \n",
       "2           -0.045277           -0.040723           -0.041862   \n",
       "3            0.038857            0.041698            0.034691   \n",
       "4            0.374377            0.387885            0.374779   \n",
       "\n",
       "   mean_train_score  std_train_score  \n",
       "0         -0.054316         0.002888  \n",
       "1         -0.053317         0.002820  \n",
       "2         -0.043212         0.002544  \n",
       "3          0.038645         0.002378  \n",
       "4          0.374286         0.007433  \n",
       "\n",
       "[5 rows x 23 columns]"
      ]
     },
     "execution_count": 73,
     "metadata": {},
     "output_type": "execute_result"
    }
   ],
   "source": [
    "result_svr_linear = pd.DataFrame(grid_svr_linear.cv_results_)\n",
    "result_svr_linear"
   ]
  },
  {
   "cell_type": "code",
   "execution_count": 74,
   "metadata": {},
   "outputs": [
    {
     "data": {
      "text/plain": [
       "[<matplotlib.lines.Line2D at 0x1fc71567ec8>]"
      ]
     },
     "execution_count": 74,
     "metadata": {},
     "output_type": "execute_result"
    },
    {
     "data": {
      "text/plain": [
       "[<matplotlib.lines.Line2D at 0x1fc70f91c08>]"
      ]
     },
     "execution_count": 74,
     "metadata": {},
     "output_type": "execute_result"
    },
    {
     "data": {
      "text/plain": [
       "([<matplotlib.axis.XTick at 0x1fc711a7988>,\n",
       "  <matplotlib.axis.XTick at 0x1fc70ba9888>,\n",
       "  <matplotlib.axis.XTick at 0x1fc70da23c8>,\n",
       "  <matplotlib.axis.XTick at 0x1fc716de808>,\n",
       "  <matplotlib.axis.XTick at 0x1fc716d3088>],\n",
       " <a list of 5 Text xticklabel objects>)"
      ]
     },
     "execution_count": 74,
     "metadata": {},
     "output_type": "execute_result"
    },
    {
     "data": {
      "text/plain": [
       "[<matplotlib.lines.Line2D at 0x1fc716de348>]"
      ]
     },
     "execution_count": 74,
     "metadata": {},
     "output_type": "execute_result"
    },
    {
     "data": {
      "text/plain": [
       "[<matplotlib.lines.Line2D at 0x1fc716de408>]"
      ]
     },
     "execution_count": 74,
     "metadata": {},
     "output_type": "execute_result"
    },
    {
     "data": {
      "text/plain": [
       "<matplotlib.legend.Legend at 0x1fc70da8608>"
      ]
     },
     "execution_count": 74,
     "metadata": {},
     "output_type": "execute_result"
    },
    {
     "data": {
      "text/plain": [
       "Text(0.5, 0, 'C')"
      ]
     },
     "execution_count": 74,
     "metadata": {},
     "output_type": "execute_result"
    },
    {
     "data": {
      "image/png": "[encoded data removed]",
      "text/plain": [
       "<Figure size 432x288 with 1 Axes>"
      ]
     },
     "metadata": {
      "needs_background": "light"
     },
     "output_type": "display_data"
    }
   ],
   "source": [
    "plt.plot(range(result_svr_linear.shape[0]), result_svr_linear['mean_train_score'], label = 'mean train score')\n",
    "plt.plot(range(result_svr_linear.shape[0]), result_svr_linear['mean_test_score'], label = 'mean test score')\n",
    "plt.xticks(range(result_svr_linear.shape[0]), result_svr_linear['param_C'], rotation = 90)\n",
    "plt.plot([grid_svr_linear.best_index_], result_svr_linear['mean_train_score'][grid_svr_linear.best_index_], 'o', markersize = 10, fillstyle = \"none\")\n",
    "plt.plot([grid_svr_linear.best_index_], result_svr_linear['mean_test_score'][grid_svr_linear.best_index_], 'o', markersize = 10, fillstyle = \"none\")\n",
    "plt.grid()\n",
    "plt.legend()\n",
    "plt.xlabel('C')"
   ]
  },
  {
   "cell_type": "markdown",
   "metadata": {},
   "source": [
    "###### Best cross-validation score: 0.3716\n",
    "\n",
    "train score: 0.401\n",
    "test score: 0.394"
   ]
  },
  {
   "cell_type": "markdown",
   "metadata": {},
   "source": [
    "# SVR with Kernal 'Poly'"
   ]
  },
  {
   "cell_type": "code",
   "execution_count": 75,
   "metadata": {},
   "outputs": [
    {
     "data": {
      "text/plain": [
       "GridSearchCV(cv=3, error_score='raise-deprecating',\n",
       "             estimator=SVR(C=1.0, cache_size=200, coef0=0.0, degree=3,\n",
       "                           epsilon=0.1, gamma='auto_deprecated', kernel='poly',\n",
       "                           max_iter=-1, shrinking=True, tol=0.001,\n",
       "                           verbose=False),\n",
       "             iid='warn', n_jobs=-1,\n",
       "             param_grid={'C': [1, 10, 100], 'degree': [1, 3]},\n",
       "             pre_dispatch='2*n_jobs', refit=True, return_train_score=True,\n",
       "             scoring=None, verbose=0)"
      ]
     },
     "execution_count": 75,
     "metadata": {},
     "output_type": "execute_result"
    },
    {
     "name": "stdout",
     "output_type": "stream",
     "text": [
      "Best parameters: {'C': 100, 'degree': 3}\n",
      "Best cross-validation score: 0.0755\n"
     ]
    }
   ],
   "source": [
    "grid_parms_svrp = {'C': [1, 10, 100],'degree':[1,3]}\n",
    "svr_poly = SVR(kernel='poly')\n",
    "grid_svr_poly = GridSearchCV(estimator = svr_poly,param_grid = grid_parms_svrp,return_train_score=True,n_jobs= -1,cv=3)\n",
    "grid_svr_poly.fit(X_train_scaled,y_train)\n",
    "print(\"Best parameters: {}\".format(grid_svr_poly.best_params_))\n",
    "print(\"Best cross-validation score: {:.4f}\".format(grid_svr_poly.best_score_))\n"
   ]
  },
  {
   "cell_type": "code",
   "execution_count": 100,
   "metadata": {},
   "outputs": [
    {
     "data": {
      "text/plain": [
       "SVR(C=100, cache_size=200, coef0=0.0, degree=3, epsilon=0.1, gamma='scale',\n",
       "    kernel='poly', max_iter=-1, shrinking=True, tol=0.001, verbose=False)"
      ]
     },
     "execution_count": 100,
     "metadata": {},
     "output_type": "execute_result"
    },
    {
     "name": "stdout",
     "output_type": "stream",
     "text": [
      "Train Score 0.15377538207053698\n",
      "Test Score 0.1522894889741102\n"
     ]
    }
   ],
   "source": [
    "svr_poly = SVR(kernel='poly',C=100,degree = 3, gamma='scale')\n",
    "svr_poly.fit(X_train_scaled, y_train)\n",
    "print(\"Train Score\",svr_poly.score(X_train_scaled, y_train))\n",
    "print(\"Test Score\",svr_poly.score(X_test_scaled, y_test))"
   ]
  },
  {
   "cell_type": "code",
   "execution_count": 101,
   "metadata": {},
   "outputs": [
    {
     "name": "stdout",
     "output_type": "stream",
     "text": [
      "Cross-validation scores:\n",
      "[0.13670693 0.06080601 0.05431213 0.05331353 0.13932685 0.22159159\n",
      " 0.07238677 0.15109229 0.07601823 0.07010085]\n",
      "0.10356551728529761\n"
     ]
    }
   ],
   "source": [
    "#scores = cross_val_score(logreg, iris.data, iris.target)\n",
    "kfold = KFold(n_splits=10)\n",
    "print(\"Cross-validation scores:\\n{}\".format(cross_val_score(svr_poly, X_train_scaled, y_train,cv=kfold)))\n",
    "scores = cross_val_score(svr_poly, X_train_scaled, y_train, cv=kfold)\n",
    "print(np.mean(scores))"
   ]
  },
  {
   "cell_type": "code",
   "execution_count": 79,
   "metadata": {},
   "outputs": [
    {
     "data": {
      "text/html": [
       "<div>\n",
       "<style scoped>\n",
       "    .dataframe tbody tr th:only-of-type {\n",
       "        vertical-align: middle;\n",
       "    }\n",
       "\n",
       "    .dataframe tbody tr th {\n",
       "        vertical-align: top;\n",
       "    }\n",
       "\n",
       "    .dataframe thead th {\n",
       "        text-align: right;\n",
       "    }\n",
       "</style>\n",
       "<table border=\"1\" class=\"dataframe\">\n",
       "  <thead>\n",
       "    <tr style=\"text-align: right;\">\n",
       "      <th></th>\n",
       "      <th>mean_fit_time</th>\n",
       "      <th>std_fit_time</th>\n",
       "      <th>mean_score_time</th>\n",
       "      <th>std_score_time</th>\n",
       "      <th>param_C</th>\n",
       "      <th>param_degree</th>\n",
       "      <th>params</th>\n",
       "      <th>split0_test_score</th>\n",
       "      <th>split1_test_score</th>\n",
       "      <th>split2_test_score</th>\n",
       "      <th>mean_test_score</th>\n",
       "      <th>std_test_score</th>\n",
       "      <th>rank_test_score</th>\n",
       "      <th>split0_train_score</th>\n",
       "      <th>split1_train_score</th>\n",
       "      <th>split2_train_score</th>\n",
       "      <th>mean_train_score</th>\n",
       "      <th>std_train_score</th>\n",
       "    </tr>\n",
       "  </thead>\n",
       "  <tbody>\n",
       "    <tr>\n",
       "      <td>0</td>\n",
       "      <td>0.084139</td>\n",
       "      <td>0.005104</td>\n",
       "      <td>0.018382</td>\n",
       "      <td>0.002018</td>\n",
       "      <td>1</td>\n",
       "      <td>1</td>\n",
       "      <td>{'C': 1, 'degree': 1}</td>\n",
       "      <td>-0.048424</td>\n",
       "      <td>-0.098585</td>\n",
       "      <td>-0.022381</td>\n",
       "      <td>-0.056463</td>\n",
       "      <td>0.031625</td>\n",
       "      <td>6</td>\n",
       "      <td>-0.057220</td>\n",
       "      <td>-0.051496</td>\n",
       "      <td>-0.050406</td>\n",
       "      <td>-0.053041</td>\n",
       "      <td>0.002989</td>\n",
       "    </tr>\n",
       "    <tr>\n",
       "      <td>1</td>\n",
       "      <td>0.088599</td>\n",
       "      <td>0.001181</td>\n",
       "      <td>0.018285</td>\n",
       "      <td>0.001243</td>\n",
       "      <td>1</td>\n",
       "      <td>3</td>\n",
       "      <td>{'C': 1, 'degree': 3}</td>\n",
       "      <td>-0.046659</td>\n",
       "      <td>-0.096431</td>\n",
       "      <td>-0.022363</td>\n",
       "      <td>-0.055151</td>\n",
       "      <td>0.030829</td>\n",
       "      <td>5</td>\n",
       "      <td>-0.055045</td>\n",
       "      <td>-0.050014</td>\n",
       "      <td>-0.047699</td>\n",
       "      <td>-0.050919</td>\n",
       "      <td>0.003066</td>\n",
       "    </tr>\n",
       "    <tr>\n",
       "      <td>2</td>\n",
       "      <td>0.088681</td>\n",
       "      <td>0.014969</td>\n",
       "      <td>0.016953</td>\n",
       "      <td>0.000079</td>\n",
       "      <td>10</td>\n",
       "      <td>1</td>\n",
       "      <td>{'C': 10, 'degree': 1}</td>\n",
       "      <td>-0.043930</td>\n",
       "      <td>-0.092698</td>\n",
       "      <td>-0.016953</td>\n",
       "      <td>-0.051194</td>\n",
       "      <td>0.031346</td>\n",
       "      <td>4</td>\n",
       "      <td>-0.052819</td>\n",
       "      <td>-0.045764</td>\n",
       "      <td>-0.044748</td>\n",
       "      <td>-0.047777</td>\n",
       "      <td>0.003589</td>\n",
       "    </tr>\n",
       "    <tr>\n",
       "      <td>3</td>\n",
       "      <td>0.091948</td>\n",
       "      <td>0.014491</td>\n",
       "      <td>0.018723</td>\n",
       "      <td>0.003703</td>\n",
       "      <td>10</td>\n",
       "      <td>3</td>\n",
       "      <td>{'C': 10, 'degree': 3}</td>\n",
       "      <td>-0.027080</td>\n",
       "      <td>-0.074120</td>\n",
       "      <td>-0.011886</td>\n",
       "      <td>-0.037695</td>\n",
       "      <td>0.026492</td>\n",
       "      <td>3</td>\n",
       "      <td>-0.031673</td>\n",
       "      <td>-0.034856</td>\n",
       "      <td>-0.015939</td>\n",
       "      <td>-0.027490</td>\n",
       "      <td>0.008270</td>\n",
       "    </tr>\n",
       "    <tr>\n",
       "      <td>4</td>\n",
       "      <td>0.063169</td>\n",
       "      <td>0.003629</td>\n",
       "      <td>0.014054</td>\n",
       "      <td>0.003004</td>\n",
       "      <td>100</td>\n",
       "      <td>1</td>\n",
       "      <td>{'C': 100, 'degree': 1}</td>\n",
       "      <td>0.010201</td>\n",
       "      <td>-0.044077</td>\n",
       "      <td>0.028813</td>\n",
       "      <td>-0.001688</td>\n",
       "      <td>0.030922</td>\n",
       "      <td>2</td>\n",
       "      <td>0.000895</td>\n",
       "      <td>0.002654</td>\n",
       "      <td>0.001916</td>\n",
       "      <td>0.001822</td>\n",
       "      <td>0.000721</td>\n",
       "    </tr>\n",
       "    <tr>\n",
       "      <td>5</td>\n",
       "      <td>0.072465</td>\n",
       "      <td>0.000440</td>\n",
       "      <td>0.018031</td>\n",
       "      <td>0.000077</td>\n",
       "      <td>100</td>\n",
       "      <td>3</td>\n",
       "      <td>{'C': 100, 'degree': 3}</td>\n",
       "      <td>0.086931</td>\n",
       "      <td>0.063135</td>\n",
       "      <td>0.076542</td>\n",
       "      <td>0.075536</td>\n",
       "      <td>0.009741</td>\n",
       "      <td>1</td>\n",
       "      <td>0.123424</td>\n",
       "      <td>0.060459</td>\n",
       "      <td>0.141228</td>\n",
       "      <td>0.108370</td>\n",
       "      <td>0.034650</td>\n",
       "    </tr>\n",
       "  </tbody>\n",
       "</table>\n",
       "</div>"
      ],
      "text/plain": [
       "   mean_fit_time  std_fit_time  mean_score_time  std_score_time param_C  \\\n",
       "0       0.084139      0.005104         0.018382        0.002018       1   \n",
       "1       0.088599      0.001181         0.018285        0.001243       1   \n",
       "2       0.088681      0.014969         0.016953        0.000079      10   \n",
       "3       0.091948      0.014491         0.018723        0.003703      10   \n",
       "4       0.063169      0.003629         0.014054        0.003004     100   \n",
       "5       0.072465      0.000440         0.018031        0.000077     100   \n",
       "\n",
       "  param_degree                   params  split0_test_score  split1_test_score  \\\n",
       "0            1    {'C': 1, 'degree': 1}          -0.048424          -0.098585   \n",
       "1            3    {'C': 1, 'degree': 3}          -0.046659          -0.096431   \n",
       "2            1   {'C': 10, 'degree': 1}          -0.043930          -0.092698   \n",
       "3            3   {'C': 10, 'degree': 3}          -0.027080          -0.074120   \n",
       "4            1  {'C': 100, 'degree': 1}           0.010201          -0.044077   \n",
       "5            3  {'C': 100, 'degree': 3}           0.086931           0.063135   \n",
       "\n",
       "   split2_test_score  mean_test_score  std_test_score  rank_test_score  \\\n",
       "0          -0.022381        -0.056463        0.031625                6   \n",
       "1          -0.022363        -0.055151        0.030829                5   \n",
       "2          -0.016953        -0.051194        0.031346                4   \n",
       "3          -0.011886        -0.037695        0.026492                3   \n",
       "4           0.028813        -0.001688        0.030922                2   \n",
       "5           0.076542         0.075536        0.009741                1   \n",
       "\n",
       "   split0_train_score  split1_train_score  split2_train_score  \\\n",
       "0           -0.057220           -0.051496           -0.050406   \n",
       "1           -0.055045           -0.050014           -0.047699   \n",
       "2           -0.052819           -0.045764           -0.044748   \n",
       "3           -0.031673           -0.034856           -0.015939   \n",
       "4            0.000895            0.002654            0.001916   \n",
       "5            0.123424            0.060459            0.141228   \n",
       "\n",
       "   mean_train_score  std_train_score  \n",
       "0         -0.053041         0.002989  \n",
       "1         -0.050919         0.003066  \n",
       "2         -0.047777         0.003589  \n",
       "3         -0.027490         0.008270  \n",
       "4          0.001822         0.000721  \n",
       "5          0.108370         0.034650  "
      ]
     },
     "execution_count": 79,
     "metadata": {},
     "output_type": "execute_result"
    }
   ],
   "source": [
    "result_svr_poly= pd.DataFrame(grid_svr_poly.cv_results_)\n",
    "result_svr_poly"
   ]
  },
  {
   "cell_type": "code",
   "execution_count": 80,
   "metadata": {},
   "outputs": [
    {
     "data": {
      "text/plain": [
       "[<matplotlib.lines.Line2D at 0x1fc70d0d888>]"
      ]
     },
     "execution_count": 80,
     "metadata": {},
     "output_type": "execute_result"
    },
    {
     "data": {
      "text/plain": [
       "[<matplotlib.lines.Line2D at 0x1fc71543088>]"
      ]
     },
     "execution_count": 80,
     "metadata": {},
     "output_type": "execute_result"
    },
    {
     "data": {
      "text/plain": [
       "([<matplotlib.axis.XTick at 0x1fc7153a488>,\n",
       "  <matplotlib.axis.XTick at 0x1fc70bae3c8>,\n",
       "  <matplotlib.axis.XTick at 0x1fc70d0d588>,\n",
       "  <matplotlib.axis.XTick at 0x1fc715b1288>,\n",
       "  <matplotlib.axis.XTick at 0x1fc715b19c8>,\n",
       "  <matplotlib.axis.XTick at 0x1fc715a52c8>],\n",
       " <a list of 6 Text xticklabel objects>)"
      ]
     },
     "execution_count": 80,
     "metadata": {},
     "output_type": "execute_result"
    },
    {
     "data": {
      "text/plain": [
       "[<matplotlib.lines.Line2D at 0x1fc71598588>]"
      ]
     },
     "execution_count": 80,
     "metadata": {},
     "output_type": "execute_result"
    },
    {
     "data": {
      "text/plain": [
       "[<matplotlib.lines.Line2D at 0x1fc71044f48>]"
      ]
     },
     "execution_count": 80,
     "metadata": {},
     "output_type": "execute_result"
    },
    {
     "data": {
      "text/plain": [
       "<matplotlib.legend.Legend at 0x1fc71044988>"
      ]
     },
     "execution_count": 80,
     "metadata": {},
     "output_type": "execute_result"
    },
    {
     "data": {
      "image/png": "[encoded data removed]",
      "text/plain": [
       "<Figure size 432x288 with 1 Axes>"
      ]
     },
     "metadata": {
      "needs_background": "light"
     },
     "output_type": "display_data"
    }
   ],
   "source": [
    "plt.plot(range(result_svr_poly.shape[0]), result_svr_poly['mean_train_score'], label = 'mean train score')\n",
    "plt.plot(range(result_svr_poly.shape[0]), result_svr_poly['mean_test_score'], label = 'mean test score')\n",
    "plt.xticks(range(result_svr_poly.shape[0]), result_svr_poly['param_C'], rotation = 90)\n",
    "plt.plot([grid_svr_poly.best_index_], result_svr_poly['mean_train_score'][grid_svr_poly.best_index_], 'o', markersize = 10, fillstyle = \"none\")\n",
    "plt.plot([grid_svr_poly.best_index_], result_svr_poly['mean_test_score'][grid_svr_poly.best_index_], 'o', markersize = 10, fillstyle = \"none\")\n",
    "plt.grid()\n",
    "plt.legend()"
   ]
  },
  {
   "cell_type": "markdown",
   "metadata": {},
   "source": [
    "###### Best cross-validation score: 0.0800\n",
    "\n",
    "Train Score 0.1602\n",
    "Test Score 0.1601"
   ]
  },
  {
   "cell_type": "markdown",
   "metadata": {},
   "source": [
    "# SVR Kernal with 'rbf'"
   ]
  },
  {
   "cell_type": "code",
   "execution_count": 81,
   "metadata": {},
   "outputs": [
    {
     "data": {
      "text/plain": [
       "GridSearchCV(cv=3, error_score='raise-deprecating',\n",
       "             estimator=SVR(C=1.0, cache_size=200, coef0=0.0, degree=3,\n",
       "                           epsilon=0.1, gamma='auto_deprecated', kernel='rbf',\n",
       "                           max_iter=-1, shrinking=True, tol=0.001,\n",
       "                           verbose=False),\n",
       "             iid='warn', n_jobs=-1,\n",
       "             param_grid={'C': [0.1, 1, 10, 100], 'gamma': [0.1, 1, 10, 100]},\n",
       "             pre_dispatch='2*n_jobs', refit=True, return_train_score=True,\n",
       "             scoring=None, verbose=0)"
      ]
     },
     "execution_count": 81,
     "metadata": {},
     "output_type": "execute_result"
    },
    {
     "name": "stdout",
     "output_type": "stream",
     "text": [
      "Best parameters: {'C': 100, 'gamma': 0.1}\n",
      "Best cross-validation score: -0.0451\n"
     ]
    }
   ],
   "source": [
    "grid_parms_rbf = {'C': [0.1, 1, 10, 100],'gamma':[0.1, 1, 10, 100]}\n",
    "svr_rbf = SVR(kernel='rbf')\n",
    "grid_svr_rbf = GridSearchCV(estimator = svr_rbf,param_grid = grid_parms_rbf,return_train_score=True,n_jobs= -1,cv=3)\n",
    "grid_svr_rbf.fit(X_train_scaled,y_train)\n",
    "print(\"Best parameters: {}\".format(grid_svr_rbf.best_params_))\n",
    "print(\"Best cross-validation score: {:.4f}\".format(grid_svr_rbf.best_score_))"
   ]
  },
  {
   "cell_type": "code",
   "execution_count": 82,
   "metadata": {},
   "outputs": [
    {
     "data": {
      "text/plain": [
       "SVR(C=100, cache_size=200, coef0=0.0, degree=3, epsilon=0.1, gamma=0.1,\n",
       "    kernel='rbf', max_iter=-1, shrinking=True, tol=0.001, verbose=False)"
      ]
     },
     "execution_count": 82,
     "metadata": {},
     "output_type": "execute_result"
    },
    {
     "name": "stdout",
     "output_type": "stream",
     "text": [
      "Train Score: -0.03461011532256597\n",
      "test score : -0.035560550425788096\n"
     ]
    }
   ],
   "source": [
    "svr_rbf = SVR(kernel='rbf',C=100,gamma=0.1)\n",
    "svr_rbf.fit(X_train_scaled, y_train)\n",
    "print(\"Train Score:\",svr_rbf.score(X_train_scaled, y_train))\n",
    "print(\"test score :\",svr_rbf.score(X_test_scaled, y_test))"
   ]
  },
  {
   "cell_type": "code",
   "execution_count": 83,
   "metadata": {},
   "outputs": [
    {
     "name": "stdout",
     "output_type": "stream",
     "text": [
      "Cross-validation scores:\n",
      "[ 0.00252779 -0.07154216 -0.08098662 -0.07132411 -0.01968508 -0.0025061 ]\n",
      "-0.040586047054141004\n"
     ]
    }
   ],
   "source": [
    "kfold = KFold(n_splits=6)\n",
    "print(\"Cross-validation scores:\\n{}\".format(cross_val_score(svr_rbf, X_train_scaled, y_train, cv=kfold)))\n",
    "scores = cross_val_score(svr_rbf, X_train_scaled, y_train, cv=kfold)\n",
    "print(np.mean(scores))"
   ]
  },
  {
   "cell_type": "code",
   "execution_count": 84,
   "metadata": {},
   "outputs": [
    {
     "data": {
      "text/html": [
       "<div>\n",
       "<style scoped>\n",
       "    .dataframe tbody tr th:only-of-type {\n",
       "        vertical-align: middle;\n",
       "    }\n",
       "\n",
       "    .dataframe tbody tr th {\n",
       "        vertical-align: top;\n",
       "    }\n",
       "\n",
       "    .dataframe thead th {\n",
       "        text-align: right;\n",
       "    }\n",
       "</style>\n",
       "<table border=\"1\" class=\"dataframe\">\n",
       "  <thead>\n",
       "    <tr style=\"text-align: right;\">\n",
       "      <th></th>\n",
       "      <th>mean_fit_time</th>\n",
       "      <th>std_fit_time</th>\n",
       "      <th>mean_score_time</th>\n",
       "      <th>std_score_time</th>\n",
       "      <th>param_C</th>\n",
       "      <th>param_gamma</th>\n",
       "      <th>params</th>\n",
       "      <th>split0_test_score</th>\n",
       "      <th>split1_test_score</th>\n",
       "      <th>split2_test_score</th>\n",
       "      <th>mean_test_score</th>\n",
       "      <th>std_test_score</th>\n",
       "      <th>rank_test_score</th>\n",
       "      <th>split0_train_score</th>\n",
       "      <th>split1_train_score</th>\n",
       "      <th>split2_train_score</th>\n",
       "      <th>mean_train_score</th>\n",
       "      <th>std_train_score</th>\n",
       "    </tr>\n",
       "  </thead>\n",
       "  <tbody>\n",
       "    <tr>\n",
       "      <td>0</td>\n",
       "      <td>0.062876</td>\n",
       "      <td>0.001653</td>\n",
       "      <td>0.026960</td>\n",
       "      <td>5.359964e-03</td>\n",
       "      <td>0.1</td>\n",
       "      <td>0.1</td>\n",
       "      <td>{'C': 0.1, 'gamma': 0.1}</td>\n",
       "      <td>-0.048916</td>\n",
       "      <td>-0.099250</td>\n",
       "      <td>-0.023002</td>\n",
       "      <td>-0.057056</td>\n",
       "      <td>0.031656</td>\n",
       "      <td>6</td>\n",
       "      <td>-0.057703</td>\n",
       "      <td>-0.052140</td>\n",
       "      <td>-0.051066</td>\n",
       "      <td>-0.053636</td>\n",
       "      <td>0.002909</td>\n",
       "    </tr>\n",
       "    <tr>\n",
       "      <td>1</td>\n",
       "      <td>0.076494</td>\n",
       "      <td>0.011632</td>\n",
       "      <td>0.024618</td>\n",
       "      <td>4.821030e-04</td>\n",
       "      <td>0.1</td>\n",
       "      <td>1</td>\n",
       "      <td>{'C': 0.1, 'gamma': 1}</td>\n",
       "      <td>-0.048925</td>\n",
       "      <td>-0.099263</td>\n",
       "      <td>-0.023014</td>\n",
       "      <td>-0.057068</td>\n",
       "      <td>0.031656</td>\n",
       "      <td>10</td>\n",
       "      <td>-0.057710</td>\n",
       "      <td>-0.052152</td>\n",
       "      <td>-0.051079</td>\n",
       "      <td>-0.053647</td>\n",
       "      <td>0.002906</td>\n",
       "    </tr>\n",
       "    <tr>\n",
       "      <td>2</td>\n",
       "      <td>0.086796</td>\n",
       "      <td>0.001424</td>\n",
       "      <td>0.029136</td>\n",
       "      <td>6.067987e-04</td>\n",
       "      <td>0.1</td>\n",
       "      <td>10</td>\n",
       "      <td>{'C': 0.1, 'gamma': 10}</td>\n",
       "      <td>-0.048926</td>\n",
       "      <td>-0.099264</td>\n",
       "      <td>-0.023015</td>\n",
       "      <td>-0.057068</td>\n",
       "      <td>0.031656</td>\n",
       "      <td>12</td>\n",
       "      <td>-0.057711</td>\n",
       "      <td>-0.052153</td>\n",
       "      <td>-0.051080</td>\n",
       "      <td>-0.053648</td>\n",
       "      <td>0.002906</td>\n",
       "    </tr>\n",
       "    <tr>\n",
       "      <td>3</td>\n",
       "      <td>0.161344</td>\n",
       "      <td>0.003848</td>\n",
       "      <td>0.064827</td>\n",
       "      <td>4.899036e-07</td>\n",
       "      <td>0.1</td>\n",
       "      <td>100</td>\n",
       "      <td>{'C': 0.1, 'gamma': 100}</td>\n",
       "      <td>-0.048926</td>\n",
       "      <td>-0.099264</td>\n",
       "      <td>-0.023015</td>\n",
       "      <td>-0.057068</td>\n",
       "      <td>0.031656</td>\n",
       "      <td>13</td>\n",
       "      <td>-0.057711</td>\n",
       "      <td>-0.052153</td>\n",
       "      <td>-0.051080</td>\n",
       "      <td>-0.053648</td>\n",
       "      <td>0.002906</td>\n",
       "    </tr>\n",
       "    <tr>\n",
       "      <td>4</td>\n",
       "      <td>0.089394</td>\n",
       "      <td>0.002488</td>\n",
       "      <td>0.026540</td>\n",
       "      <td>4.125567e-04</td>\n",
       "      <td>1</td>\n",
       "      <td>0.1</td>\n",
       "      <td>{'C': 1, 'gamma': 0.1}</td>\n",
       "      <td>-0.048835</td>\n",
       "      <td>-0.099127</td>\n",
       "      <td>-0.022884</td>\n",
       "      <td>-0.056949</td>\n",
       "      <td>0.031650</td>\n",
       "      <td>4</td>\n",
       "      <td>-0.057627</td>\n",
       "      <td>-0.052015</td>\n",
       "      <td>-0.050942</td>\n",
       "      <td>-0.053528</td>\n",
       "      <td>0.002931</td>\n",
       "    </tr>\n",
       "    <tr>\n",
       "      <td>5</td>\n",
       "      <td>0.090663</td>\n",
       "      <td>0.001356</td>\n",
       "      <td>0.026404</td>\n",
       "      <td>3.353455e-04</td>\n",
       "      <td>1</td>\n",
       "      <td>1</td>\n",
       "      <td>{'C': 1, 'gamma': 1}</td>\n",
       "      <td>-0.048920</td>\n",
       "      <td>-0.099255</td>\n",
       "      <td>-0.023007</td>\n",
       "      <td>-0.057061</td>\n",
       "      <td>0.031656</td>\n",
       "      <td>8</td>\n",
       "      <td>-0.057702</td>\n",
       "      <td>-0.052141</td>\n",
       "      <td>-0.051070</td>\n",
       "      <td>-0.053638</td>\n",
       "      <td>0.002907</td>\n",
       "    </tr>\n",
       "    <tr>\n",
       "      <td>6</td>\n",
       "      <td>0.109448</td>\n",
       "      <td>0.002216</td>\n",
       "      <td>0.030377</td>\n",
       "      <td>4.761507e-04</td>\n",
       "      <td>1</td>\n",
       "      <td>10</td>\n",
       "      <td>{'C': 1, 'gamma': 10}</td>\n",
       "      <td>-0.048926</td>\n",
       "      <td>-0.099264</td>\n",
       "      <td>-0.023015</td>\n",
       "      <td>-0.057068</td>\n",
       "      <td>0.031656</td>\n",
       "      <td>11</td>\n",
       "      <td>-0.057708</td>\n",
       "      <td>-0.052150</td>\n",
       "      <td>-0.051076</td>\n",
       "      <td>-0.053645</td>\n",
       "      <td>0.002907</td>\n",
       "    </tr>\n",
       "    <tr>\n",
       "      <td>7</td>\n",
       "      <td>0.157643</td>\n",
       "      <td>0.003382</td>\n",
       "      <td>0.059030</td>\n",
       "      <td>2.179524e-03</td>\n",
       "      <td>1</td>\n",
       "      <td>100</td>\n",
       "      <td>{'C': 1, 'gamma': 100}</td>\n",
       "      <td>-0.048926</td>\n",
       "      <td>-0.099264</td>\n",
       "      <td>-0.023015</td>\n",
       "      <td>-0.057069</td>\n",
       "      <td>0.031656</td>\n",
       "      <td>14</td>\n",
       "      <td>-0.057709</td>\n",
       "      <td>-0.052150</td>\n",
       "      <td>-0.051077</td>\n",
       "      <td>-0.053645</td>\n",
       "      <td>0.002907</td>\n",
       "    </tr>\n",
       "    <tr>\n",
       "      <td>8</td>\n",
       "      <td>0.073387</td>\n",
       "      <td>0.002394</td>\n",
       "      <td>0.026381</td>\n",
       "      <td>4.585966e-04</td>\n",
       "      <td>10</td>\n",
       "      <td>0.1</td>\n",
       "      <td>{'C': 10, 'gamma': 0.1}</td>\n",
       "      <td>-0.048023</td>\n",
       "      <td>-0.097889</td>\n",
       "      <td>-0.021705</td>\n",
       "      <td>-0.055872</td>\n",
       "      <td>0.031594</td>\n",
       "      <td>2</td>\n",
       "      <td>-0.056867</td>\n",
       "      <td>-0.050765</td>\n",
       "      <td>-0.049703</td>\n",
       "      <td>-0.052445</td>\n",
       "      <td>0.003156</td>\n",
       "    </tr>\n",
       "    <tr>\n",
       "      <td>9</td>\n",
       "      <td>0.078401</td>\n",
       "      <td>0.005038</td>\n",
       "      <td>0.024714</td>\n",
       "      <td>2.881244e-03</td>\n",
       "      <td>10</td>\n",
       "      <td>1</td>\n",
       "      <td>{'C': 10, 'gamma': 1}</td>\n",
       "      <td>-0.048869</td>\n",
       "      <td>-0.099175</td>\n",
       "      <td>-0.022933</td>\n",
       "      <td>-0.056993</td>\n",
       "      <td>0.031651</td>\n",
       "      <td>5</td>\n",
       "      <td>-0.057621</td>\n",
       "      <td>-0.052026</td>\n",
       "      <td>-0.050976</td>\n",
       "      <td>-0.053541</td>\n",
       "      <td>0.002917</td>\n",
       "    </tr>\n",
       "    <tr>\n",
       "      <td>10</td>\n",
       "      <td>0.109152</td>\n",
       "      <td>0.006353</td>\n",
       "      <td>0.028534</td>\n",
       "      <td>1.105985e-03</td>\n",
       "      <td>10</td>\n",
       "      <td>10</td>\n",
       "      <td>{'C': 10, 'gamma': 10}</td>\n",
       "      <td>-0.048928</td>\n",
       "      <td>-0.099261</td>\n",
       "      <td>-0.023012</td>\n",
       "      <td>-0.057067</td>\n",
       "      <td>0.031656</td>\n",
       "      <td>9</td>\n",
       "      <td>-0.057680</td>\n",
       "      <td>-0.052114</td>\n",
       "      <td>-0.051043</td>\n",
       "      <td>-0.053612</td>\n",
       "      <td>0.002909</td>\n",
       "    </tr>\n",
       "    <tr>\n",
       "      <td>11</td>\n",
       "      <td>0.155043</td>\n",
       "      <td>0.005297</td>\n",
       "      <td>0.065924</td>\n",
       "      <td>2.111577e-03</td>\n",
       "      <td>10</td>\n",
       "      <td>100</td>\n",
       "      <td>{'C': 10, 'gamma': 100}</td>\n",
       "      <td>-0.048932</td>\n",
       "      <td>-0.099264</td>\n",
       "      <td>-0.023015</td>\n",
       "      <td>-0.057070</td>\n",
       "      <td>0.031656</td>\n",
       "      <td>15</td>\n",
       "      <td>-0.057684</td>\n",
       "      <td>-0.052118</td>\n",
       "      <td>-0.051045</td>\n",
       "      <td>-0.053616</td>\n",
       "      <td>0.002910</td>\n",
       "    </tr>\n",
       "    <tr>\n",
       "      <td>12</td>\n",
       "      <td>0.079484</td>\n",
       "      <td>0.001090</td>\n",
       "      <td>0.025655</td>\n",
       "      <td>1.897870e-03</td>\n",
       "      <td>100</td>\n",
       "      <td>0.1</td>\n",
       "      <td>{'C': 100, 'gamma': 0.1}</td>\n",
       "      <td>-0.036779</td>\n",
       "      <td>-0.087755</td>\n",
       "      <td>-0.010858</td>\n",
       "      <td>-0.045131</td>\n",
       "      <td>0.031944</td>\n",
       "      <td>1</td>\n",
       "      <td>-0.046006</td>\n",
       "      <td>-0.040152</td>\n",
       "      <td>-0.038559</td>\n",
       "      <td>-0.041572</td>\n",
       "      <td>0.003202</td>\n",
       "    </tr>\n",
       "    <tr>\n",
       "      <td>13</td>\n",
       "      <td>0.092372</td>\n",
       "      <td>0.008414</td>\n",
       "      <td>0.026013</td>\n",
       "      <td>1.939496e-05</td>\n",
       "      <td>100</td>\n",
       "      <td>1</td>\n",
       "      <td>{'C': 100, 'gamma': 1}</td>\n",
       "      <td>-0.048365</td>\n",
       "      <td>-0.098379</td>\n",
       "      <td>-0.022195</td>\n",
       "      <td>-0.056313</td>\n",
       "      <td>0.031606</td>\n",
       "      <td>3</td>\n",
       "      <td>-0.056815</td>\n",
       "      <td>-0.050875</td>\n",
       "      <td>-0.050039</td>\n",
       "      <td>-0.052576</td>\n",
       "      <td>0.003017</td>\n",
       "    </tr>\n",
       "    <tr>\n",
       "      <td>14</td>\n",
       "      <td>0.106846</td>\n",
       "      <td>0.006127</td>\n",
       "      <td>0.026801</td>\n",
       "      <td>4.930659e-03</td>\n",
       "      <td>100</td>\n",
       "      <td>10</td>\n",
       "      <td>{'C': 100, 'gamma': 10}</td>\n",
       "      <td>-0.048952</td>\n",
       "      <td>-0.099236</td>\n",
       "      <td>-0.022982</td>\n",
       "      <td>-0.057057</td>\n",
       "      <td>0.031654</td>\n",
       "      <td>7</td>\n",
       "      <td>-0.057402</td>\n",
       "      <td>-0.051757</td>\n",
       "      <td>-0.050709</td>\n",
       "      <td>-0.053289</td>\n",
       "      <td>0.002939</td>\n",
       "    </tr>\n",
       "    <tr>\n",
       "      <td>15</td>\n",
       "      <td>0.121982</td>\n",
       "      <td>0.007422</td>\n",
       "      <td>0.053134</td>\n",
       "      <td>1.037278e-02</td>\n",
       "      <td>100</td>\n",
       "      <td>100</td>\n",
       "      <td>{'C': 100, 'gamma': 100}</td>\n",
       "      <td>-0.048990</td>\n",
       "      <td>-0.099264</td>\n",
       "      <td>-0.023016</td>\n",
       "      <td>-0.057090</td>\n",
       "      <td>0.031651</td>\n",
       "      <td>16</td>\n",
       "      <td>-0.057440</td>\n",
       "      <td>-0.051794</td>\n",
       "      <td>-0.050729</td>\n",
       "      <td>-0.053321</td>\n",
       "      <td>0.002945</td>\n",
       "    </tr>\n",
       "  </tbody>\n",
       "</table>\n",
       "</div>"
      ],
      "text/plain": [
       "    mean_fit_time  std_fit_time  mean_score_time  std_score_time param_C  \\\n",
       "0        0.062876      0.001653         0.026960    5.359964e-03     0.1   \n",
       "1        0.076494      0.011632         0.024618    4.821030e-04     0.1   \n",
       "2        0.086796      0.001424         0.029136    6.067987e-04     0.1   \n",
       "3        0.161344      0.003848         0.064827    4.899036e-07     0.1   \n",
       "4        0.089394      0.002488         0.026540    4.125567e-04       1   \n",
       "5        0.090663      0.001356         0.026404    3.353455e-04       1   \n",
       "6        0.109448      0.002216         0.030377    4.761507e-04       1   \n",
       "7        0.157643      0.003382         0.059030    2.179524e-03       1   \n",
       "8        0.073387      0.002394         0.026381    4.585966e-04      10   \n",
       "9        0.078401      0.005038         0.024714    2.881244e-03      10   \n",
       "10       0.109152      0.006353         0.028534    1.105985e-03      10   \n",
       "11       0.155043      0.005297         0.065924    2.111577e-03      10   \n",
       "12       0.079484      0.001090         0.025655    1.897870e-03     100   \n",
       "13       0.092372      0.008414         0.026013    1.939496e-05     100   \n",
       "14       0.106846      0.006127         0.026801    4.930659e-03     100   \n",
       "15       0.121982      0.007422         0.053134    1.037278e-02     100   \n",
       "\n",
       "   param_gamma                    params  split0_test_score  \\\n",
       "0          0.1  {'C': 0.1, 'gamma': 0.1}          -0.048916   \n",
       "1            1    {'C': 0.1, 'gamma': 1}          -0.048925   \n",
       "2           10   {'C': 0.1, 'gamma': 10}          -0.048926   \n",
       "3          100  {'C': 0.1, 'gamma': 100}          -0.048926   \n",
       "4          0.1    {'C': 1, 'gamma': 0.1}          -0.048835   \n",
       "5            1      {'C': 1, 'gamma': 1}          -0.048920   \n",
       "6           10     {'C': 1, 'gamma': 10}          -0.048926   \n",
       "7          100    {'C': 1, 'gamma': 100}          -0.048926   \n",
       "8          0.1   {'C': 10, 'gamma': 0.1}          -0.048023   \n",
       "9            1     {'C': 10, 'gamma': 1}          -0.048869   \n",
       "10          10    {'C': 10, 'gamma': 10}          -0.048928   \n",
       "11         100   {'C': 10, 'gamma': 100}          -0.048932   \n",
       "12         0.1  {'C': 100, 'gamma': 0.1}          -0.036779   \n",
       "13           1    {'C': 100, 'gamma': 1}          -0.048365   \n",
       "14          10   {'C': 100, 'gamma': 10}          -0.048952   \n",
       "15         100  {'C': 100, 'gamma': 100}          -0.048990   \n",
       "\n",
       "    split1_test_score  split2_test_score  mean_test_score  std_test_score  \\\n",
       "0           -0.099250          -0.023002        -0.057056        0.031656   \n",
       "1           -0.099263          -0.023014        -0.057068        0.031656   \n",
       "2           -0.099264          -0.023015        -0.057068        0.031656   \n",
       "3           -0.099264          -0.023015        -0.057068        0.031656   \n",
       "4           -0.099127          -0.022884        -0.056949        0.031650   \n",
       "5           -0.099255          -0.023007        -0.057061        0.031656   \n",
       "6           -0.099264          -0.023015        -0.057068        0.031656   \n",
       "7           -0.099264          -0.023015        -0.057069        0.031656   \n",
       "8           -0.097889          -0.021705        -0.055872        0.031594   \n",
       "9           -0.099175          -0.022933        -0.056993        0.031651   \n",
       "10          -0.099261          -0.023012        -0.057067        0.031656   \n",
       "11          -0.099264          -0.023015        -0.057070        0.031656   \n",
       "12          -0.087755          -0.010858        -0.045131        0.031944   \n",
       "13          -0.098379          -0.022195        -0.056313        0.031606   \n",
       "14          -0.099236          -0.022982        -0.057057        0.031654   \n",
       "15          -0.099264          -0.023016        -0.057090        0.031651   \n",
       "\n",
       "    rank_test_score  split0_train_score  split1_train_score  \\\n",
       "0                 6           -0.057703           -0.052140   \n",
       "1                10           -0.057710           -0.052152   \n",
       "2                12           -0.057711           -0.052153   \n",
       "3                13           -0.057711           -0.052153   \n",
       "4                 4           -0.057627           -0.052015   \n",
       "5                 8           -0.057702           -0.052141   \n",
       "6                11           -0.057708           -0.052150   \n",
       "7                14           -0.057709           -0.052150   \n",
       "8                 2           -0.056867           -0.050765   \n",
       "9                 5           -0.057621           -0.052026   \n",
       "10                9           -0.057680           -0.052114   \n",
       "11               15           -0.057684           -0.052118   \n",
       "12                1           -0.046006           -0.040152   \n",
       "13                3           -0.056815           -0.050875   \n",
       "14                7           -0.057402           -0.051757   \n",
       "15               16           -0.057440           -0.051794   \n",
       "\n",
       "    split2_train_score  mean_train_score  std_train_score  \n",
       "0            -0.051066         -0.053636         0.002909  \n",
       "1            -0.051079         -0.053647         0.002906  \n",
       "2            -0.051080         -0.053648         0.002906  \n",
       "3            -0.051080         -0.053648         0.002906  \n",
       "4            -0.050942         -0.053528         0.002931  \n",
       "5            -0.051070         -0.053638         0.002907  \n",
       "6            -0.051076         -0.053645         0.002907  \n",
       "7            -0.051077         -0.053645         0.002907  \n",
       "8            -0.049703         -0.052445         0.003156  \n",
       "9            -0.050976         -0.053541         0.002917  \n",
       "10           -0.051043         -0.053612         0.002909  \n",
       "11           -0.051045         -0.053616         0.002910  \n",
       "12           -0.038559         -0.041572         0.003202  \n",
       "13           -0.050039         -0.052576         0.003017  \n",
       "14           -0.050709         -0.053289         0.002939  \n",
       "15           -0.050729         -0.053321         0.002945  "
      ]
     },
     "execution_count": 84,
     "metadata": {},
     "output_type": "execute_result"
    }
   ],
   "source": [
    "result_rbf = pd.DataFrame(grid_svr_rbf.cv_results_)\n",
    "result_rbf"
   ]
  },
  {
   "cell_type": "code",
   "execution_count": 85,
   "metadata": {},
   "outputs": [
    {
     "data": {
      "text/plain": [
       "[<matplotlib.lines.Line2D at 0x1fc71005e88>]"
      ]
     },
     "execution_count": 85,
     "metadata": {},
     "output_type": "execute_result"
    },
    {
     "data": {
      "text/plain": [
       "[<matplotlib.lines.Line2D at 0x1fc717d0108>]"
      ]
     },
     "execution_count": 85,
     "metadata": {},
     "output_type": "execute_result"
    },
    {
     "data": {
      "text/plain": [
       "([<matplotlib.axis.XTick at 0x1fc70f91888>,\n",
       "  <matplotlib.axis.XTick at 0x1fc6e4ebac8>,\n",
       "  <matplotlib.axis.XTick at 0x1fc70d82588>,\n",
       "  <matplotlib.axis.XTick at 0x1fc7180e9c8>,\n",
       "  <matplotlib.axis.XTick at 0x1fc71804108>,\n",
       "  <matplotlib.axis.XTick at 0x1fc718048c8>],\n",
       " <a list of 6 Text xticklabel objects>)"
      ]
     },
     "execution_count": 85,
     "metadata": {},
     "output_type": "execute_result"
    },
    {
     "data": {
      "text/plain": [
       "[<matplotlib.lines.Line2D at 0x1fc7180e6c8>]"
      ]
     },
     "execution_count": 85,
     "metadata": {},
     "output_type": "execute_result"
    },
    {
     "data": {
      "text/plain": [
       "[<matplotlib.lines.Line2D at 0x1fc71747088>]"
      ]
     },
     "execution_count": 85,
     "metadata": {},
     "output_type": "execute_result"
    },
    {
     "data": {
      "text/plain": [
       "<matplotlib.legend.Legend at 0x1fc70ad33c8>"
      ]
     },
     "execution_count": 85,
     "metadata": {},
     "output_type": "execute_result"
    },
    {
     "data": {
      "image/png": "[encoded data removed]",
      "text/plain": [
       "<Figure size 432x288 with 1 Axes>"
      ]
     },
     "metadata": {
      "needs_background": "light"
     },
     "output_type": "display_data"
    }
   ],
   "source": [
    "plt.plot(range(result_rbf.shape[0]), result_rbf['mean_train_score'], label = 'mean train score')\n",
    "plt.plot(range(result_rbf.shape[0]), result_rbf['mean_test_score'], label = 'mean test score')\n",
    "plt.xticks(range(result_svr_poly.shape[0]), result_rbf['param_C'], rotation = 90)\n",
    "plt.plot([grid_svr_rbf.best_index_], result_rbf['mean_train_score'][grid_svr_rbf.best_index_], 'o', markersize = 10, fillstyle = \"none\")\n",
    "plt.plot([grid_svr_rbf.best_index_], result_rbf['mean_test_score'][grid_svr_rbf.best_index_], 'o', markersize = 10, fillstyle = \"none\")\n",
    "plt.grid()\n",
    "plt.legend()"
   ]
  },
  {
   "cell_type": "markdown",
   "metadata": {},
   "source": [
    "# KNN Regressor"
   ]
  },
  {
   "cell_type": "code",
   "execution_count": 86,
   "metadata": {},
   "outputs": [
    {
     "data": {
      "text/plain": [
       "GridSearchCV(cv=6, error_score='raise-deprecating',\n",
       "             estimator=KNeighborsRegressor(algorithm='auto', leaf_size=30,\n",
       "                                           metric='minkowski',\n",
       "                                           metric_params=None, n_jobs=None,\n",
       "                                           n_neighbors=5, p=2,\n",
       "                                           weights='uniform'),\n",
       "             iid='warn', n_jobs=-1,\n",
       "             param_grid={'n_neighbors': [1, 5, 10, 15, 20]},\n",
       "             pre_dispatch='2*n_jobs', refit=True, return_train_score=True,\n",
       "             scoring=None, verbose=0)"
      ]
     },
     "execution_count": 86,
     "metadata": {},
     "output_type": "execute_result"
    },
    {
     "name": "stdout",
     "output_type": "stream",
     "text": [
      "Best parameters: {'n_neighbors': 10}\n",
      "Best cross-validation score: 0.5639\n"
     ]
    }
   ],
   "source": [
    "grid_parms_knn = {'n_neighbors':[1,5,10,15,20]}\n",
    "knn = KNeighborsRegressor()\n",
    "grid_search_knn = GridSearchCV(knn, grid_parms_knn,cv=6,return_train_score=True,n_jobs= -1)\n",
    "grid_search_knn.fit(X_train_scaled, y_train)\n",
    "print(\"Best parameters: {}\".format(grid_search_knn.best_params_))\n",
    "print(\"Best cross-validation score: {:.4f}\".format(grid_search_knn.best_score_))"
   ]
  },
  {
   "cell_type": "code",
   "execution_count": 87,
   "metadata": {},
   "outputs": [
    {
     "data": {
      "text/plain": [
       "KNeighborsRegressor(algorithm='auto', leaf_size=30, metric='minkowski',\n",
       "                    metric_params=None, n_jobs=None, n_neighbors=10, p=2,\n",
       "                    weights='uniform')"
      ]
     },
     "execution_count": 87,
     "metadata": {},
     "output_type": "execute_result"
    },
    {
     "name": "stdout",
     "output_type": "stream",
     "text": [
      "Train Score 0.6673771909652735\n",
      "Test score 0.6265144863146073\n"
     ]
    }
   ],
   "source": [
    "knn = KNeighborsRegressor(n_neighbors = 10)\n",
    "knn.fit(X_train_scaled, y_train)\n",
    "print(\"Train Score\",knn.score(X_train_scaled, y_train))\n",
    "print(\"Test score\",knn.score(X_test_scaled, y_test))"
   ]
  },
  {
   "cell_type": "code",
   "execution_count": 88,
   "metadata": {},
   "outputs": [
    {
     "data": {
      "text/html": [
       "<div>\n",
       "<style scoped>\n",
       "    .dataframe tbody tr th:only-of-type {\n",
       "        vertical-align: middle;\n",
       "    }\n",
       "\n",
       "    .dataframe tbody tr th {\n",
       "        vertical-align: top;\n",
       "    }\n",
       "\n",
       "    .dataframe thead th {\n",
       "        text-align: right;\n",
       "    }\n",
       "</style>\n",
       "<table border=\"1\" class=\"dataframe\">\n",
       "  <thead>\n",
       "    <tr style=\"text-align: right;\">\n",
       "      <th></th>\n",
       "      <th>mean_fit_time</th>\n",
       "      <th>std_fit_time</th>\n",
       "      <th>mean_score_time</th>\n",
       "      <th>std_score_time</th>\n",
       "      <th>param_n_neighbors</th>\n",
       "      <th>params</th>\n",
       "      <th>split0_test_score</th>\n",
       "      <th>split1_test_score</th>\n",
       "      <th>split2_test_score</th>\n",
       "      <th>split3_test_score</th>\n",
       "      <th>...</th>\n",
       "      <th>std_test_score</th>\n",
       "      <th>rank_test_score</th>\n",
       "      <th>split0_train_score</th>\n",
       "      <th>split1_train_score</th>\n",
       "      <th>split2_train_score</th>\n",
       "      <th>split3_train_score</th>\n",
       "      <th>split4_train_score</th>\n",
       "      <th>split5_train_score</th>\n",
       "      <th>mean_train_score</th>\n",
       "      <th>std_train_score</th>\n",
       "    </tr>\n",
       "  </thead>\n",
       "  <tbody>\n",
       "    <tr>\n",
       "      <td>0</td>\n",
       "      <td>0.003242</td>\n",
       "      <td>0.000542</td>\n",
       "      <td>0.011801</td>\n",
       "      <td>0.000372</td>\n",
       "      <td>1</td>\n",
       "      <td>{'n_neighbors': 1}</td>\n",
       "      <td>0.283850</td>\n",
       "      <td>0.508983</td>\n",
       "      <td>0.389623</td>\n",
       "      <td>0.504573</td>\n",
       "      <td>...</td>\n",
       "      <td>0.083582</td>\n",
       "      <td>5</td>\n",
       "      <td>0.999431</td>\n",
       "      <td>0.999372</td>\n",
       "      <td>1.000000</td>\n",
       "      <td>0.999399</td>\n",
       "      <td>0.999371</td>\n",
       "      <td>1.000000</td>\n",
       "      <td>0.999596</td>\n",
       "      <td>0.000287</td>\n",
       "    </tr>\n",
       "    <tr>\n",
       "      <td>1</td>\n",
       "      <td>0.003324</td>\n",
       "      <td>0.000470</td>\n",
       "      <td>0.014470</td>\n",
       "      <td>0.001484</td>\n",
       "      <td>5</td>\n",
       "      <td>{'n_neighbors': 5}</td>\n",
       "      <td>0.545722</td>\n",
       "      <td>0.569096</td>\n",
       "      <td>0.510119</td>\n",
       "      <td>0.513661</td>\n",
       "      <td>...</td>\n",
       "      <td>0.035578</td>\n",
       "      <td>2</td>\n",
       "      <td>0.740027</td>\n",
       "      <td>0.712660</td>\n",
       "      <td>0.763519</td>\n",
       "      <td>0.716128</td>\n",
       "      <td>0.743867</td>\n",
       "      <td>0.747299</td>\n",
       "      <td>0.737250</td>\n",
       "      <td>0.017764</td>\n",
       "    </tr>\n",
       "    <tr>\n",
       "      <td>2</td>\n",
       "      <td>0.003988</td>\n",
       "      <td>0.001153</td>\n",
       "      <td>0.015014</td>\n",
       "      <td>0.001005</td>\n",
       "      <td>10</td>\n",
       "      <td>{'n_neighbors': 10}</td>\n",
       "      <td>0.584744</td>\n",
       "      <td>0.551228</td>\n",
       "      <td>0.559737</td>\n",
       "      <td>0.573977</td>\n",
       "      <td>...</td>\n",
       "      <td>0.013333</td>\n",
       "      <td>1</td>\n",
       "      <td>0.665164</td>\n",
       "      <td>0.650920</td>\n",
       "      <td>0.668904</td>\n",
       "      <td>0.668061</td>\n",
       "      <td>0.659302</td>\n",
       "      <td>0.659986</td>\n",
       "      <td>0.662056</td>\n",
       "      <td>0.006171</td>\n",
       "    </tr>\n",
       "    <tr>\n",
       "      <td>3</td>\n",
       "      <td>0.004219</td>\n",
       "      <td>0.000422</td>\n",
       "      <td>0.022099</td>\n",
       "      <td>0.001018</td>\n",
       "      <td>15</td>\n",
       "      <td>{'n_neighbors': 15}</td>\n",
       "      <td>0.592247</td>\n",
       "      <td>0.551486</td>\n",
       "      <td>0.555396</td>\n",
       "      <td>0.525062</td>\n",
       "      <td>...</td>\n",
       "      <td>0.021847</td>\n",
       "      <td>3</td>\n",
       "      <td>0.632703</td>\n",
       "      <td>0.609417</td>\n",
       "      <td>0.632503</td>\n",
       "      <td>0.637721</td>\n",
       "      <td>0.629059</td>\n",
       "      <td>0.633736</td>\n",
       "      <td>0.629190</td>\n",
       "      <td>0.009199</td>\n",
       "    </tr>\n",
       "    <tr>\n",
       "      <td>4</td>\n",
       "      <td>0.003672</td>\n",
       "      <td>0.000476</td>\n",
       "      <td>0.018393</td>\n",
       "      <td>0.002314</td>\n",
       "      <td>20</td>\n",
       "      <td>{'n_neighbors': 20}</td>\n",
       "      <td>0.596116</td>\n",
       "      <td>0.535280</td>\n",
       "      <td>0.540844</td>\n",
       "      <td>0.527506</td>\n",
       "      <td>...</td>\n",
       "      <td>0.024660</td>\n",
       "      <td>4</td>\n",
       "      <td>0.605043</td>\n",
       "      <td>0.581554</td>\n",
       "      <td>0.602809</td>\n",
       "      <td>0.607950</td>\n",
       "      <td>0.607158</td>\n",
       "      <td>0.604257</td>\n",
       "      <td>0.601462</td>\n",
       "      <td>0.009068</td>\n",
       "    </tr>\n",
       "  </tbody>\n",
       "</table>\n",
       "<p>5 rows × 23 columns</p>\n",
       "</div>"
      ],
      "text/plain": [
       "   mean_fit_time  std_fit_time  mean_score_time  std_score_time  \\\n",
       "0       0.003242      0.000542         0.011801        0.000372   \n",
       "1       0.003324      0.000470         0.014470        0.001484   \n",
       "2       0.003988      0.001153         0.015014        0.001005   \n",
       "3       0.004219      0.000422         0.022099        0.001018   \n",
       "4       0.003672      0.000476         0.018393        0.002314   \n",
       "\n",
       "  param_n_neighbors               params  split0_test_score  \\\n",
       "0                 1   {'n_neighbors': 1}           0.283850   \n",
       "1                 5   {'n_neighbors': 5}           0.545722   \n",
       "2                10  {'n_neighbors': 10}           0.584744   \n",
       "3                15  {'n_neighbors': 15}           0.592247   \n",
       "4                20  {'n_neighbors': 20}           0.596116   \n",
       "\n",
       "   split1_test_score  split2_test_score  split3_test_score  ...  \\\n",
       "0           0.508983           0.389623           0.504573  ...   \n",
       "1           0.569096           0.510119           0.513661  ...   \n",
       "2           0.551228           0.559737           0.573977  ...   \n",
       "3           0.551486           0.555396           0.525062  ...   \n",
       "4           0.535280           0.540844           0.527506  ...   \n",
       "\n",
       "   std_test_score  rank_test_score  split0_train_score  split1_train_score  \\\n",
       "0        0.083582                5            0.999431            0.999372   \n",
       "1        0.035578                2            0.740027            0.712660   \n",
       "2        0.013333                1            0.665164            0.650920   \n",
       "3        0.021847                3            0.632703            0.609417   \n",
       "4        0.024660                4            0.605043            0.581554   \n",
       "\n",
       "   split2_train_score  split3_train_score  split4_train_score  \\\n",
       "0            1.000000            0.999399            0.999371   \n",
       "1            0.763519            0.716128            0.743867   \n",
       "2            0.668904            0.668061            0.659302   \n",
       "3            0.632503            0.637721            0.629059   \n",
       "4            0.602809            0.607950            0.607158   \n",
       "\n",
       "   split5_train_score  mean_train_score  std_train_score  \n",
       "0            1.000000          0.999596         0.000287  \n",
       "1            0.747299          0.737250         0.017764  \n",
       "2            0.659986          0.662056         0.006171  \n",
       "3            0.633736          0.629190         0.009199  \n",
       "4            0.604257          0.601462         0.009068  \n",
       "\n",
       "[5 rows x 23 columns]"
      ]
     },
     "execution_count": 88,
     "metadata": {},
     "output_type": "execute_result"
    }
   ],
   "source": [
    "knn_result=pd.DataFrame(grid_search_knn.cv_results_)\n",
    "knn_result"
   ]
  },
  {
   "cell_type": "code",
   "execution_count": 89,
   "metadata": {},
   "outputs": [
    {
     "name": "stdout",
     "output_type": "stream",
     "text": [
      "Cross-validation scores:\n",
      "[0.58474363 0.55122844 0.55973742 0.57397657 0.56792865 0.54555679]\n",
      "Mean score for Kfold 0.5638619140236186\n"
     ]
    }
   ],
   "source": [
    "kfold = KFold(n_splits=6)\n",
    "print(\"Cross-validation scores:\\n{}\".format(cross_val_score(knn , X_train_scaled, y_train, cv=kfold)))\n",
    "scores = cross_val_score(knn , X_train_scaled, y_train, cv=kfold)\n",
    "print(\"Mean score for Kfold\",np.mean(scores))"
   ]
  },
  {
   "cell_type": "code",
   "execution_count": 90,
   "metadata": {},
   "outputs": [
    {
     "data": {
      "text/plain": [
       "KNeighborsRegressor(algorithm='auto', leaf_size=30, metric='minkowski',\n",
       "                    metric_params=None, n_jobs=None, n_neighbors=5, p=2,\n",
       "                    weights='uniform')"
      ]
     },
     "execution_count": 90,
     "metadata": {},
     "output_type": "execute_result"
    },
    {
     "data": {
      "text/plain": [
       "[<matplotlib.lines.Line2D at 0x1fc70b64bc8>]"
      ]
     },
     "execution_count": 90,
     "metadata": {},
     "output_type": "execute_result"
    },
    {
     "data": {
      "text/plain": [
       "<matplotlib.collections.PathCollection at 0x1fc70b45b48>"
      ]
     },
     "execution_count": 90,
     "metadata": {},
     "output_type": "execute_result"
    },
    {
     "data": {
      "text/plain": [
       "Text(0.5, 0, 'sqft_living')"
      ]
     },
     "execution_count": 90,
     "metadata": {},
     "output_type": "execute_result"
    },
    {
     "data": {
      "image/png": "[encoded data removed]",
      "text/plain": [
       "<Figure size 432x288 with 1 Axes>"
      ]
     },
     "metadata": {
      "needs_background": "light"
     },
     "output_type": "display_data"
    }
   ],
   "source": [
    "X_b = X_train_array[:50,2].reshape(-1,1)\n",
    "y_b = y_train[:50]\n",
    "\n",
    "knn_reg = KNeighborsRegressor(5)\n",
    "knn_reg.fit(X_b, y_b)\n",
    "\n",
    "X_new=np.linspace(X_b.min(), X_b.max(), 50).reshape(50, 1)\n",
    "y_predict = knn_reg.predict(X_new)\n",
    "\n",
    "plt.plot(X_new, y_predict, c = 'r')\n",
    "plt.scatter(X_b, y_b)\n",
    "plt.xlabel('sqft_living')"
   ]
  },
  {
   "cell_type": "code",
   "execution_count": null,
   "metadata": {},
   "outputs": [],
   "source": []
  },
  {
   "cell_type": "markdown",
   "metadata": {},
   "source": [
    "###### Train Score 0.672 Test score 0.630\n",
    "\n",
    "Best cross-validation score: 0.5677\n",
    "Best parameters: {'C': 100, 'gamma': 0.1}"
   ]
  },
  {
   "cell_type": "markdown",
   "metadata": {},
   "source": [
    "# Decision Tree"
   ]
  },
  {
   "cell_type": "code",
   "execution_count": 91,
   "metadata": {},
   "outputs": [],
   "source": [
    "from sklearn.tree import DecisionTreeRegressor\n",
    "\n",
    "dtree_clf = DecisionTreeRegressor(random_state=0)\n",
    "parameters = { 'max_depth' : [1,2,3,4,5,6,7,8,9,10]}"
   ]
  },
  {
   "cell_type": "code",
   "execution_count": 92,
   "metadata": {},
   "outputs": [
    {
     "data": {
      "text/plain": [
       "GridSearchCV(cv=6, error_score='raise-deprecating',\n",
       "             estimator=DecisionTreeRegressor(criterion='mse', max_depth=None,\n",
       "                                             max_features=None,\n",
       "                                             max_leaf_nodes=None,\n",
       "                                             min_impurity_decrease=0.0,\n",
       "                                             min_impurity_split=None,\n",
       "                                             min_samples_leaf=1,\n",
       "                                             min_samples_split=2,\n",
       "                                             min_weight_fraction_leaf=0.0,\n",
       "                                             presort=False, random_state=0,\n",
       "                                             splitter='best'),\n",
       "             iid='warn', n_jobs=None,\n",
       "             param_grid={'max_depth': [1, 2, 3, 4, 5, 6, 7, 8, 9, 10]},\n",
       "             pre_dispatch='2*n_jobs', refit=True, return_train_score=True,\n",
       "             scoring=None, verbose=0)"
      ]
     },
     "execution_count": 92,
     "metadata": {},
     "output_type": "execute_result"
    },
    {
     "name": "stdout",
     "output_type": "stream",
     "text": [
      "Best parameters: {'max_depth': 5}\n",
      "Best cross-validation score: 0.54\n"
     ]
    }
   ],
   "source": [
    "grid_search = GridSearchCV(dtree_clf,parameters, cv=6, return_train_score=True)\n",
    "grid_search.fit(X_train_scaled, y_train)\n",
    "print(\"Best parameters: {}\".format(grid_search.best_params_))\n",
    "print(\"Best cross-validation score: {:.2f}\".format(grid_search.best_score_))"
   ]
  },
  {
   "cell_type": "code",
   "execution_count": 93,
   "metadata": {},
   "outputs": [
    {
     "data": {
      "text/plain": [
       "DecisionTreeRegressor(criterion='mse', max_depth=6, max_features=None,\n",
       "                      max_leaf_nodes=None, min_impurity_decrease=0.0,\n",
       "                      min_impurity_split=None, min_samples_leaf=1,\n",
       "                      min_samples_split=2, min_weight_fraction_leaf=0.0,\n",
       "                      presort=False, random_state=0, splitter='best')"
      ]
     },
     "execution_count": 93,
     "metadata": {},
     "output_type": "execute_result"
    },
    {
     "name": "stdout",
     "output_type": "stream",
     "text": [
      "Accuracy on training set: 0.846\n",
      "Accuracy on test set: 0.613\n"
     ]
    }
   ],
   "source": [
    "dtree = DecisionTreeRegressor(max_depth=6, random_state=0)\n",
    "dtree.fit(X_train_scaled, y_train)\n",
    "\n",
    "print(\"Accuracy on training set: {:.3f}\".format(dtree.score(X_train_scaled, y_train)))\n",
    "print(\"Accuracy on test set: {:.3f}\".format(dtree.score(X_test_scaled, y_test)))"
   ]
  },
  {
   "cell_type": "code",
   "execution_count": 94,
   "metadata": {},
   "outputs": [],
   "source": [
    "d = {'Model': ['Linear Regression', 'KNN Regression','Ridge Regression','Lasso Regression','Polynominal Regression','Simple SVR','SVR with Linear kernel','SVR with Poly kernel','SVR with rbf kernel','DecissiontreeeRegressor'], \n",
    "     'Cross-Validation Score': [grid_search_lr.best_score_, grid_search_knn.best_score_,grid_search_ridge.best_score_,grid_search_lassoReg.best_score_,grid_poly.best_score_,grid_svrl.best_score_,grid_svr_linear.best_score_,grid_svr_poly.best_score_,grid_svr_rbf.best_score_,grid_search.best_score_]}"
   ]
  },
  {
   "cell_type": "code",
   "execution_count": 95,
   "metadata": {},
   "outputs": [
    {
     "data": {
      "text/html": [
       "<div>\n",
       "<style scoped>\n",
       "    .dataframe tbody tr th:only-of-type {\n",
       "        vertical-align: middle;\n",
       "    }\n",
       "\n",
       "    .dataframe tbody tr th {\n",
       "        vertical-align: top;\n",
       "    }\n",
       "\n",
       "    .dataframe thead th {\n",
       "        text-align: right;\n",
       "    }\n",
       "</style>\n",
       "<table border=\"1\" class=\"dataframe\">\n",
       "  <thead>\n",
       "    <tr style=\"text-align: right;\">\n",
       "      <th></th>\n",
       "      <th>Model</th>\n",
       "      <th>Cross-Validation Score</th>\n",
       "    </tr>\n",
       "  </thead>\n",
       "  <tbody>\n",
       "    <tr>\n",
       "      <td>0</td>\n",
       "      <td>Linear Regression</td>\n",
       "      <td>0.627119</td>\n",
       "    </tr>\n",
       "    <tr>\n",
       "      <td>1</td>\n",
       "      <td>KNN Regression</td>\n",
       "      <td>0.563862</td>\n",
       "    </tr>\n",
       "    <tr>\n",
       "      <td>2</td>\n",
       "      <td>Ridge Regression</td>\n",
       "      <td>0.621144</td>\n",
       "    </tr>\n",
       "    <tr>\n",
       "      <td>3</td>\n",
       "      <td>Lasso Regression</td>\n",
       "      <td>0.620713</td>\n",
       "    </tr>\n",
       "    <tr>\n",
       "      <td>4</td>\n",
       "      <td>Polynominal Regression</td>\n",
       "      <td>0.619899</td>\n",
       "    </tr>\n",
       "    <tr>\n",
       "      <td>5</td>\n",
       "      <td>Simple SVR</td>\n",
       "      <td>-1.603319</td>\n",
       "    </tr>\n",
       "    <tr>\n",
       "      <td>6</td>\n",
       "      <td>SVR with Linear kernel</td>\n",
       "      <td>0.372036</td>\n",
       "    </tr>\n",
       "    <tr>\n",
       "      <td>7</td>\n",
       "      <td>SVR with Poly kernel</td>\n",
       "      <td>0.075536</td>\n",
       "    </tr>\n",
       "    <tr>\n",
       "      <td>8</td>\n",
       "      <td>SVR with rbf kernel</td>\n",
       "      <td>-0.045131</td>\n",
       "    </tr>\n",
       "    <tr>\n",
       "      <td>9</td>\n",
       "      <td>DecissiontreeeRegressor</td>\n",
       "      <td>0.540234</td>\n",
       "    </tr>\n",
       "  </tbody>\n",
       "</table>\n",
       "</div>"
      ],
      "text/plain": [
       "                     Model  Cross-Validation Score\n",
       "0        Linear Regression                0.627119\n",
       "1           KNN Regression                0.563862\n",
       "2         Ridge Regression                0.621144\n",
       "3         Lasso Regression                0.620713\n",
       "4   Polynominal Regression                0.619899\n",
       "5               Simple SVR               -1.603319\n",
       "6   SVR with Linear kernel                0.372036\n",
       "7     SVR with Poly kernel                0.075536\n",
       "8      SVR with rbf kernel               -0.045131\n",
       "9  DecissiontreeeRegressor                0.540234"
      ]
     },
     "execution_count": 95,
     "metadata": {},
     "output_type": "execute_result"
    }
   ],
   "source": [
    "result = pd.DataFrame(data=d)\n",
    "result"
   ]
  },
  {
   "cell_type": "markdown",
   "metadata": {},
   "source": [
    "### Using Ridge Regressor to predict for X_test dataset\n",
    "\n",
    "Ridge regressor does a great job for this housing sales prediction dataset."
   ]
  },
  {
   "cell_type": "code",
   "execution_count": 99,
   "metadata": {},
   "outputs": [
    {
     "data": {
      "text/plain": [
       "Ridge(alpha=1, copy_X=True, fit_intercept=True, max_iter=None, normalize=False,\n",
       "      random_state=None, solver='auto', tol=0.001)"
      ]
     },
     "execution_count": 99,
     "metadata": {},
     "output_type": "execute_result"
    }
   ],
   "source": [
    "ridge = Ridge(alpha = 1)\n",
    "ridge.fit(X_train_scaled, y_train)\n",
    "prediction=ridge.predict(X_test_scaled)\n"
   ]
  },
  {
   "cell_type": "code",
   "execution_count": 97,
   "metadata": {},
   "outputs": [
    {
     "data": {
      "text/plain": [
       "array([ 405802.58269262,  376478.30866045,  649970.96665651,\n",
       "        523619.97558138,  646663.9649331 , 1189576.36318843,\n",
       "        302201.56567678,  730687.67898737,  312313.18963024,\n",
       "        461907.8845923 ,  549728.16595544,  399238.95424559,\n",
       "        514915.15084464,  257437.96935378,  349604.50095507,\n",
       "        193213.02703543,  272367.44207562,  327813.19431077,\n",
       "        396288.72359334,  301128.42103408,  721842.88683599,\n",
       "        295802.50408243,  695405.357625  ,  651529.64491668,\n",
       "        329721.09481855,  476393.27728355,  501907.22485072,\n",
       "        644089.76399193,  316022.18920088,  448896.11312823,\n",
       "        450353.04826371,  276408.98885815,  289395.49401699,\n",
       "        809897.15706616,  468281.73327496,  370333.05202358,\n",
       "        455868.15276118,  628718.49036436,  664893.13636015,\n",
       "        339012.28418212,  842879.02104845,  625518.62426035,\n",
       "        682539.49018441,  278567.48124428,  631959.49904028,\n",
       "        937474.46674375,  631841.27291081, 1090366.83911049,\n",
       "        793955.93309633, 1034103.8752056 ,  659814.31931529,\n",
       "        940712.24624945,  257316.82972994,  469256.82201029,\n",
       "        385422.26911074,  769697.15261617,  432279.38155153,\n",
       "        767178.65313735,  330316.1482431 ,  723953.56322379,\n",
       "        449470.15490013,  681281.49736943,  681457.25990331,\n",
       "        310577.19907622,  528183.93077191,  283533.5601892 ,\n",
       "        408638.85765699,  246313.1691537 ,  245669.32803709,\n",
       "        217597.45216533,  424466.14063885,  295917.67867613,\n",
       "        520863.15033582,  615443.89422092,  368859.1213021 ,\n",
       "        539187.33810936,  376510.81637626,  444112.38754756,\n",
       "        552753.6215667 ,  328151.29635575,  428884.76305037,\n",
       "        411932.05515666,  371690.44491579,  471104.86196047,\n",
       "        945827.61848789,  312976.90003111,  156704.37352152,\n",
       "        339226.21751625,  359664.63014683,  362588.87533317,\n",
       "        403791.96663516,  369571.33848151,  494711.46910134,\n",
       "        152730.14714412,  305099.57951432, 1012754.48491481,\n",
       "        377507.71588255,  202377.36778615,  293536.42409528,\n",
       "        489923.82592669,  222448.69270666,  890817.86251082,\n",
       "        743340.56673121,  971919.21648289,  314646.43827081,\n",
       "        363321.22117766,  681686.95025279,  506969.98712955,\n",
       "       1067891.26939857,  416369.39755708,  894405.50513333,\n",
       "        346699.88363191,  599506.69798757, 1441195.23295447,\n",
       "        758982.30558005,  344337.97294117,  637660.80948986,\n",
       "        434097.33251363,  413612.49160066,  372803.13011345,\n",
       "        433177.47526644,  563880.75494604,  693638.69359822,\n",
       "        327710.04841928,  764731.10027889,  300792.42637785,\n",
       "        413113.64996523,  929800.3255162 ,  473407.02437547,\n",
       "        641020.00614837,  532828.35237436,  541420.0189375 ,\n",
       "        770232.12982587,  371192.91480659,  615899.30369124,\n",
       "        628965.83551743,  720881.27787317,  858390.63072246,\n",
       "       1713304.4176853 ,  781042.94833735,  368708.01081895,\n",
       "        401053.99855421,  647554.42495724,  316074.69054009,\n",
       "        267886.08467125,  554962.38155385, 1075954.36124994,\n",
       "        170855.6152775 ,  424911.36387926,  139919.4274753 ,\n",
       "        333178.71038372, 1069632.04205173,  379474.39765598,\n",
       "        262190.74008789,  413340.30789745,  688662.90020881,\n",
       "        433059.40339772, 1820621.52453819,  375392.50835342,\n",
       "        510330.43205581,  394428.20447375,  724881.07265668,\n",
       "        506897.36671955,  702447.16124937,  594038.08372007,\n",
       "        430410.22666773,  389612.44606185,  373661.30657898,\n",
       "         95529.10884536, 1278729.73925347,  458187.0973829 ,\n",
       "        431221.73898028,  713217.00072375,  703957.22726119,\n",
       "        275248.47784831,  672558.83245708,  261818.33333385,\n",
       "        283284.4250265 , 1991629.29247664,  660567.67517702,\n",
       "        595084.42838042,  651260.5749132 ,  355516.61745698,\n",
       "        419370.97018281,  577846.35471222,  454503.41170562,\n",
       "        933799.19509225,  745565.8531015 ,  937369.96897474,\n",
       "        173019.40289477,  571990.92996269,  896654.69959642,\n",
       "        336553.02279097,  677239.9092929 ,  401424.37097336,\n",
       "        495564.57344911,  187779.84490577,  759147.62418766,\n",
       "        417902.40067165,  707541.05603141,  517306.87213194,\n",
       "        351426.20546844,  521989.5242788 ,  456508.65876587,\n",
       "        478695.8719015 ,  773884.9427789 ,  590504.17092055,\n",
       "        688357.08441596,  688512.60207872,  411958.07952757,\n",
       "        373997.78470715,  766542.24953226,  560212.40057821,\n",
       "        427498.84588382,   65570.53013272,  488726.55726209,\n",
       "        706598.80010767,  477756.61243756,  258192.46468451,\n",
       "        750321.55499067,  900006.62165246,  601277.46847946,\n",
       "        391542.59017565,  722128.67545111,  906206.89712661,\n",
       "        723540.87443816,  291494.30352962,  419530.12844845,\n",
       "        427034.71540678,  459676.99548931,  204928.61233304,\n",
       "        507385.27363963,  523752.42978897,  274096.21150045,\n",
       "        280973.87052078,  896100.3543942 ,  571603.45205293,\n",
       "        434667.33973809,  867868.78162629,  604732.57429468,\n",
       "       1465789.42742493,  263202.03684442,  272849.78130515,\n",
       "        380173.05343329,  162902.88507004,  868467.53183048,\n",
       "        792216.48291633, 1072488.76506882,  141411.27753399,\n",
       "        808049.97194162,  336314.3369449 ,  400668.71516581,\n",
       "        865732.54430869, 1429511.50494346, 1680316.53345853,\n",
       "        207790.83604224,  301389.50426982,  704617.96567866,\n",
       "        786942.5498868 ,  743427.31384387,  687115.60278265,\n",
       "        340176.4800143 ,  510056.55701961,  231773.9750083 ,\n",
       "        410388.05849768,  369421.62246861,  790081.22036824,\n",
       "        562474.42360939,  387650.9944908 ,  441887.8112751 ,\n",
       "        850276.07607932,  612094.71150718,  566327.77044534,\n",
       "        537051.2331839 ,  507414.19681832,  288151.61842098,\n",
       "        617765.57519992,  440487.21269234,  415854.64699113,\n",
       "        673812.19540915,  679852.65978862,  654320.00119312,\n",
       "        423837.82380495,  278466.46215935,  528230.60702157,\n",
       "        305307.40153731,  540929.96080434, 1090481.01454381,\n",
       "        190322.07053051,  538144.65656699,  653513.62161351,\n",
       "        939548.14966894,  660194.93630346,  438284.72759939,\n",
       "        715309.82174082,  308262.96670812,  476927.18201066,\n",
       "        637955.91169374,  325260.31073804,  519168.21369286,\n",
       "        695639.12513418, 1016370.52606517,  616727.79301653,\n",
       "        924045.57251335, 1000927.13567038,  380861.37881414,\n",
       "        496340.93782977,  317987.4287349 ,  367018.35820304,\n",
       "        681794.21859662,  294664.07777485,  439986.40988621,\n",
       "        136044.36439807,  213695.7040617 ,  461688.12004871,\n",
       "        382555.44981224,  853263.16546703,  431587.91514634,\n",
       "        299631.27791184,  387563.17814425,  223141.49918283,\n",
       "        584642.29386401,  813726.75775996,  499791.19189364,\n",
       "        751640.91231816,  400853.1452961 ,  895781.37347343,\n",
       "        690476.25546705, 1042925.17733363, 1329756.18910331,\n",
       "        571657.12531627,  775557.58908338,  402489.6246592 ,\n",
       "        557072.53209543,  496850.04361874,  588531.01048712,\n",
       "        633198.56258302,  666016.64722294,  600901.85382505,\n",
       "        707344.47803995,  781429.30598886,  835051.54050502,\n",
       "        326983.43066458,  177846.52415979,  226586.2193067 ,\n",
       "        626432.90816248,  707529.20738386,  714535.15594319,\n",
       "       1075090.4396956 ,  453299.77890413,  873842.68360095,\n",
       "        316503.32190423,  361650.37861596,  768021.1515558 ,\n",
       "        166985.01159229,  563177.67801815,  411025.38059559,\n",
       "        437406.12929172,  161675.83927678,  464664.2130061 ,\n",
       "        327472.44263292,  495165.38728415,  476506.01981289,\n",
       "         58059.57334092,  262938.34203527,  331874.52554854,\n",
       "        383946.16401593,  644085.65406224, 2065587.66783409,\n",
       "        240243.70525229,  101285.41981509,  541242.24331147,\n",
       "        887606.86350698,  627893.70063765,  453043.86251631,\n",
       "        271451.64936732,  166321.23853013,  290030.33034442,\n",
       "        368666.65756579,  784644.98526097,  -11143.11470057,\n",
       "        375318.03049806,  623324.86170887,  520445.06815441,\n",
       "        617045.10601987,  878233.05354145,  431918.2167007 ,\n",
       "        600198.5448401 ,  331160.47574005,  431099.11925477,\n",
       "        314202.89240874,  487172.14641318,  291359.28110861,\n",
       "        732218.18997701,  240179.41529931,  457549.2547601 ,\n",
       "        362309.55961651,  642763.18467014,  211021.73963141,\n",
       "        607814.18129184])"
      ]
     },
     "execution_count": 97,
     "metadata": {},
     "output_type": "execute_result"
    }
   ],
   "source": [
    "prediction"
   ]
  },
  {
   "cell_type": "code",
   "execution_count": null,
   "metadata": {},
   "outputs": [],
   "source": []
  }
 ],
 "metadata": {
  "kernelspec": {
   "display_name": "Python 3",
   "language": "python",
   "name": "python3"
  },
  "language_info": {
   "codemirror_mode": {
    "name": "ipython",
    "version": 3
   },
   "file_extension": ".py",
   "mimetype": "text/x-python",
   "name": "python",
   "nbconvert_exporter": "python",
   "pygments_lexer": "ipython3",
   "version": "3.7.6"
  }
 },
 "nbformat": 4,
 "nbformat_minor": 4
}
